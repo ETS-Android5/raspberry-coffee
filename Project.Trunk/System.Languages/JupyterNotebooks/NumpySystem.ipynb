{
 "cells": [
  {
   "cell_type": "markdown",
   "metadata": {},
   "source": [
    "# Solve a System of Equations with Python, using `numpy`\n",
    "Here, we are using the `numpy` Python package.\n",
    "\n",
    "It simplifies things quite a bit ;)"
   ]
  },
  {
   "cell_type": "code",
   "execution_count": 5,
   "metadata": {},
   "outputs": [
    {
     "name": "stdout",
     "output_type": "stream",
     "text": [
      "System coefficients: [[ 1.200e+01  1.300e+01  1.400e+01]\n",
      " [ 1.345e+00 -6.540e+02  1.000e-03]\n",
      " [ 2.309e+01  5.300e+00 -1.234e+01]]\n",
      "System constants [234.     98.87    9.876]\n",
      "Done in 0s and 151μs (=> 151μs)\n",
      "By 'solve': [ 6.48822195 -0.13781661 11.28092518]\n",
      "Inverse: [[ 2.61538652e-02  7.60340789e-04  2.96721940e-02]\n",
      " [ 5.38622472e-05 -1.52748712e-03  6.09841146e-05]\n",
      " [ 4.89609577e-02  7.66660219e-04 -2.54899372e-02]]\n",
      "Done in 0s, 1531μs (=> 1531μs)\n",
      "By 'dot product': [ 6.48822195 -0.13781661 11.28092518]\n"
     ]
    }
   ],
   "source": [
    "import numpy as np\n",
    "import datetime\n",
    "#\n",
    "# Here we use the 'numpy' Python library\n",
    "# Is simplifies the process quite a bit ;)\n",
    "#\n",
    "# See https://www.tutorialspoint.com/numpy/\n",
    "# For special characters and symbols, see https://pythonforundergradengineers.com/unicode-characters-in-python.html\n",
    "#\n",
    "matrix = np.array([\n",
    "    [12, 13, 14],\n",
    "    [1.345, -654, 0.001],\n",
    "    [23.09, 5.3, -12.34]\n",
    "])\n",
    "\n",
    "print(\"System coefficients: {}\".format(matrix))\n",
    "\n",
    "constants = np.array([234, 98.87, 9.876])\n",
    "print(\"System constants {}\".format(constants))\n",
    "\n",
    "before = datetime.datetime.now()\n",
    "solution = np.linalg.solve(matrix, constants)\n",
    "after = datetime.datetime.now()\n",
    "print(\"Done in {}s and {}\\u03BCs (=> {}\\u03BCs)\".format((after - before).seconds, \n",
    "                                                          (after - before).microseconds,\n",
    "                                            (((after - before).seconds * 1000000) + (after - before).microseconds)))\n",
    "print(\"By 'solve': {}\".format(solution))\n",
    "\n",
    "before = datetime.datetime.now()\n",
    "# Resolution\n",
    "inverse = np.linalg.inv(matrix)\n",
    "print('Inverse: {}'.format(inverse))\n",
    "solution_2 = np.dot(inverse, constants)\n",
    "after = datetime.datetime.now()\n",
    "print(\"Done in {}s, {}\\u03BCs (=> {}\\u03BCs)\".format((after - before).seconds, (after - before).microseconds,\n",
    "                                            (((after - before).seconds * 1000000) + (after - before).microseconds)))\n",
    "print(\"By 'dot product': {}\".format(solution_2))\n"
   ]
  },
  {
   "cell_type": "code",
   "execution_count": null,
   "metadata": {},
   "outputs": [],
   "source": []
  }
 ],
 "metadata": {
  "kernelspec": {
   "display_name": "Python 3",
   "language": "python",
   "name": "python3"
  },
  "language_info": {
   "codemirror_mode": {
    "name": "ipython",
    "version": 3
   },
   "file_extension": ".py",
   "mimetype": "text/x-python",
   "name": "python",
   "nbconvert_exporter": "python",
   "pygments_lexer": "ipython3",
   "version": "3.7.0"
  }
 },
 "nbformat": 4,
 "nbformat_minor": 2
}
