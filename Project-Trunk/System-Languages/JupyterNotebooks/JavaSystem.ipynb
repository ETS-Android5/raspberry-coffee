{
 "cells": [
  {
   "cell_type": "markdown",
   "metadata": {},
   "source": [
    "# Solve a System of Equations, in Java\n",
    "We will define a couple of classes and utilities, and finally solve a system of 3 equations with 3 unknown variables. The dimension of the system (3 here) is obviously *not* hard-coded.\n",
    "\n",
    "The classes we need will be:\n",
    "- `SquareMatrix`\n",
    "- `MatrixUtil`\n",
    "    - also defines a `MatrixException`, usable for example when a Matrix cannot be properly inverted.\n",
    "- `SystemUtil`\n",
    "\n",
    "It is not mandatory to define them, but is is certainly much clearer (and cleaner)."
   ]
  },
  {
   "cell_type": "markdown",
   "metadata": {},
   "source": [
    "First we import some required classes."
   ]
  },
  {
   "cell_type": "code",
   "execution_count": 1,
   "metadata": {},
   "outputs": [],
   "source": [
    "import java.text.DecimalFormat;\n",
    "import java.util.Arrays;\n",
    "import java.util.List;\n",
    "import java.util.stream.IntStream;"
   ]
  },
  {
   "cell_type": "markdown",
   "metadata": {},
   "source": [
    "Next we define a class named `SquareMatrix`, it will hold the data of the System into a `double[][]`, and it has methods to manipulate its elements."
   ]
  },
  {
   "cell_type": "code",
   "execution_count": 2,
   "metadata": {},
   "outputs": [],
   "source": [
    "public final class SquareMatrix {\n",
    "  private final int dimension;\n",
    "  private double[][] matrixElements;\n",
    "\n",
    "  public SquareMatrix(int dim) {\n",
    "    this(dim, false);\n",
    "  }\n",
    "\n",
    "  public SquareMatrix(int dim, boolean init) {\n",
    "    if (dim < 1) {\n",
    "      throw new IllegalArgumentException(\"Dimension must be at least 1\");\n",
    "    }\n",
    "    this.dimension = dim;\n",
    "    matrixElements = new double[dim][dim];\n",
    "    if (init) {\n",
    "      for (int l = 0; l < dim; l++) {\n",
    "        for (int c = 0; c < dim; c++)\n",
    "          matrixElements[l][c] = 0d;\n",
    "      }\n",
    "    }\n",
    "  }\n",
    "\n",
    "  public SquareMatrix(int dim, double... elements) {\n",
    "    this(dim);\n",
    "    if (elements == null) {\n",
    "      throw new IllegalArgumentException(\"Elements array cannot be null\");\n",
    "    }\n",
    "    if (elements.length != (dim * dim)) {\n",
    "      throw new IllegalArgumentException(String.format(\"Invalid number of elements for a matrix of dim %d, expecting %d, got %d\", dim, (dim * dim), elements.length));\n",
    "    }\n",
    "    for (int l = 0; l < dim; l++) {\n",
    "      for (int c = 0; c < dim; c++)\n",
    "        matrixElements[l][c] = elements[(l * dim) + c];\n",
    "    }\n",
    "  }\n",
    "\n",
    "  public static SquareMatrix builder(int dim) {\n",
    "    return new SquareMatrix(dim);\n",
    "  }\n",
    "\n",
    "  public int getDimension() {\n",
    "    return (this.dimension);\n",
    "  }\n",
    "\n",
    "  public void setElementAt(int row, int col, double val) {\n",
    "    matrixElements[row][col] = val;\n",
    "  }\n",
    "\n",
    "  public double getElementAt(int row, int col) {\n",
    "    return matrixElements[row][col];\n",
    "  }\n",
    "\n",
    "  public double[][] getMatrixElements() {\n",
    "    return this.matrixElements;\n",
    "  }\n",
    "\n",
    "  public void setMatrixElements(double[][] me) {\n",
    "    this.matrixElements = me;\n",
    "  }\n",
    "}\n"
   ]
  },
  {
   "cell_type": "markdown",
   "metadata": {},
   "source": [
    "Here is a utility class (notice that most - if not all - of its members are `static`), defining operations on a square matrix, like\n",
    "- `printMatrix`\n",
    "- `minor`\n",
    "- `comatrix`\n",
    "- `transpoose`\n",
    "- `multiply`\n",
    "- `equals`\n",
    "- `determinant`\n",
    "- `invert`\n",
    "\n",
    "As we all know, an inverted matrix is the transposed of its comatrix multiplied by the inverse of its determinant (which thus must be non null. If the determinant is null, the matrix simply cannot be inverted).\n",
    "- A transposed matrix is a matrix where lines of the original replace its columns, and vice-versa.\n",
    "- The comatrix is the original matrix where each term is replaced with the determinant of its minor.\n",
    "- The minor of a matrix for the element `[x, y]` is the original matrix, without its column `x` and its line `y`.\n",
    "- The `determinant` involves a recursive operation. See the code for details."
   ]
  },
  {
   "cell_type": "code",
   "execution_count": 3,
   "metadata": {},
   "outputs": [],
   "source": [
    " public final class MatrixUtil {\n",
    "\n",
    "  private static boolean debug = \"true\".equals(System.getProperty(\"debug\", \"false\"));\n",
    "\n",
    "  public static void printMatrix(SquareMatrix m) {\n",
    "    printMatrix(m, true);\n",
    "  }\n",
    "\n",
    "  public static void printMatrix(SquareMatrix m, boolean withCR) {\n",
    "    for (int row=0; row<m.getDimension(); row++) {\n",
    "      String line = \"| \";\n",
    "      for (int col=0; col<m.getDimension(); col++) {\n",
    "        line += (m.getElementAt(row, col) + \" \");\n",
    "      }\n",
    "      line += \" |\";\n",
    "      if (!withCR && row == (m.getDimension() - 1)) { // Last line\n",
    "        System.out.print(line);\n",
    "      } else {\n",
    "        System.out.println(line);\n",
    "      }\n",
    "    }\n",
    "  }\n",
    "\n",
    "  private static SquareMatrix minor(SquareMatrix m, int row, int col) {\n",
    "    SquareMatrix small = new SquareMatrix(m.getDimension() - 1);\n",
    "    for (int c = 0; c < m.getDimension(); c++) {\n",
    "      if (c != col) {\n",
    "        for (int r = 0; r < m.getDimension(); r++) {\n",
    "          if (r != row) {\n",
    "            small.setElementAt(((r < row) ? r : (r - 1)), ((c < col) ? c : (c - 1)), m.getElementAt(r, c));\n",
    "          }\n",
    "        }\n",
    "      }\n",
    "    }\n",
    "    return small;\n",
    "  }\n",
    "\n",
    "  public static SquareMatrix comatrix(SquareMatrix m) {\n",
    "    SquareMatrix co = new SquareMatrix(m.getDimension());\n",
    "    for (int r = 0; r < m.getDimension(); r++) {\n",
    "      for (int c = 0; c < m.getDimension(); c++) {\n",
    "        co.setElementAt(r, c, determinant(minor(m, r, c)) * Math.pow((-1), (r + c + 2)));  // r+c+2 = (r+1) + (c+1)...\n",
    "      }\n",
    "    }\n",
    "    if (debug) {\n",
    "      System.out.println(\"Comatrix:\");\n",
    "      printMatrix(co);\n",
    "    }\n",
    "    return co;\n",
    "  }\n",
    "\n",
    "  public static SquareMatrix transposed(SquareMatrix m) {\n",
    "    SquareMatrix t = new SquareMatrix(m.getDimension());\n",
    "    // Replace line with columns.\n",
    "    int r, c;\n",
    "    for (r = 0; r < m.getDimension(); r++) {\n",
    "      for (c = 0; c < m.getDimension(); c++) {\n",
    "        t.setElementAt(r, c, m.getElementAt(c, r));\n",
    "      }\n",
    "    }\n",
    "    if (debug) {\n",
    "      System.out.println(\"Transposed:\");\n",
    "      printMatrix(t);\n",
    "    }\n",
    "    return t;\n",
    "  }\n",
    "\n",
    "  public static SquareMatrix multiply(SquareMatrix m, double n) {\n",
    "    SquareMatrix res = new SquareMatrix(m.getDimension());\n",
    "    int r, c;\n",
    "\n",
    "    for (r = 0; r < m.getDimension(); r++) {\n",
    "      for (c = 0; c < m.getDimension(); c++) {\n",
    "        res.setElementAt(r, c, m.getElementAt(r, c) * n);\n",
    "      }\n",
    "    }\n",
    "    return res;\n",
    "  }\n",
    "\n",
    "  public static boolean equals(SquareMatrix a, SquareMatrix b) {\n",
    "    if (a.getDimension() != b.getDimension()) {\n",
    "      return false;\n",
    "    }\n",
    "    for (int r=0; r<a.getDimension(); r++) {\n",
    "      for (int c=0; c<a.getDimension(); c++) {\n",
    "        if (a.getElementAt(r, c) != b.getElementAt(r, c)) {\n",
    "          return false;\n",
    "        }\n",
    "      }\n",
    "    }\n",
    "    return true;\n",
    "  }\n",
    "\n",
    "  public static double determinant(SquareMatrix m) {\n",
    "    double v = 0.0;\n",
    "\n",
    "    if (m.getDimension() == 1) {\n",
    "      v = m.getElementAt(0, 0);\n",
    "    } else {\n",
    "      // C : column in Major\n",
    "      for (int C = 0; C < m.getDimension(); C++) { // Walk thru first line\n",
    "        // Minor's determinant\n",
    "        double minDet = determinant(minor(m, 0, C));\n",
    "        v += (m.getElementAt(0, C) * minDet * Math.pow((-1.0), C + 1 + 1)); // line C, column 1\n",
    "      }\n",
    "    }\n",
    "    if (debug) {\n",
    "      System.out.println(\"Determinant of\");\n",
    "      printMatrix(m, false);\n",
    "      System.out.println(String.format(\" is %f\", v));\n",
    "    }\n",
    "    return v;\n",
    "  }\n",
    "\n",
    "  public static SquareMatrix invert(SquareMatrix m) throws MatrixException {\n",
    "    double determinant = determinant(m);\n",
    "    if (determinant == 0) {\n",
    "      throw new MatrixException(String.format(\"Matrix cannot be inverted, its determinant is null.\"));\n",
    "    }\n",
    "    return multiply(transposed(comatrix(m)), (1.0 / determinant));\n",
    "  }\n",
    "     \n",
    "  public static class MatrixException extends Exception {\n",
    "    public MatrixException(String message) {\n",
    "      super(message);\n",
    "    }\n",
    "  }\n",
    "}\n"
   ]
  },
  {
   "cell_type": "markdown",
   "metadata": {},
   "source": [
    "Yet another utility class, invoking the above, to present the user with an easy interface to solve a system of equations."
   ]
  },
  {
   "cell_type": "code",
   "execution_count": 5,
   "metadata": {},
   "outputs": [],
   "source": [
    "public class SystemUtil {\n",
    "\n",
    "  public static double[] solveSystem(double[] m,\n",
    "                                     double[] c) \n",
    "      throws MatrixUtil.MatrixException {\n",
    "    SquareMatrix sma = new SquareMatrix(c.length);\n",
    "\n",
    "    for (int i = 0; i < c.length; i++) {\n",
    "      for (int j = 0; j < c.length; j++) {\n",
    "        sma.setElementAt(i, j, m[(c.length * i) + j]);\n",
    "      }\n",
    "    }\n",
    "    return solveSystem(sma, c);\n",
    "  }\n",
    "\n",
    "  /**\n",
    "   * Solves a system, n equations, n unknowns.\n",
    "   * <p>\n",
    "   * the values we look for are x, y, z.\n",
    "   * <pre>\n",
    "   * ax + by + cz = X\n",
    "   * Ax + By + Cz = Y\n",
    "   * Px + Qy + Rz = Z\n",
    "   * </pre>\n",
    "   * @param m Coeffs matrix, n x n (left) from the system above\n",
    "   * <pre>\n",
    "   * | a b c |\n",
    "   * | A B C |\n",
    "   * | P Q R |\n",
    "   * </pre>\n",
    "   * @param c Constants array, n (right) <code>[X, Y, Z]</code> from the system above\n",
    "   * @return the unknown array, n. <code>[x, y, z]</code> from the system above\n",
    "   */\n",
    "  public static double[] solveSystem(SquareMatrix m,\n",
    "                                     double[] c) \n",
    "      throws MatrixUtil.MatrixException {\n",
    "    double[] result;\n",
    "    result = new double[m.getDimension()];\n",
    "\n",
    "    SquareMatrix inv = MatrixUtil.invert(m);\n",
    "\n",
    "    // Print inverted Matrix\n",
    "    if (\"true\".equals(System.getProperty(\"debug\", \"false\"))) {\n",
    "      System.out.println(\"Inverted:\");\n",
    "      MatrixUtil.printMatrix(inv);\n",
    "    }\n",
    "\n",
    "    // Lines * Column\n",
    "    for (int row = 0; row < m.getDimension(); row++) {\n",
    "      result[row] = 0.0;\n",
    "      for (int col = 0; col < m.getDimension(); col++) {\n",
    "        result[row] += (inv.getElementAt(row, col) * c[col]);\n",
    "      }\n",
    "    }\n",
    "    return result;\n",
    "  }\n",
    "\n",
    "  public static String formatSystem(SquareMatrix squareMatrix, double[] constants) {\n",
    "    StringBuffer content = new StringBuffer();\n",
    "    String unknowns = \"ABCDEFGHIJKLMNOPQRSTUVWXYZ\";\n",
    "    // Nice IntStream s !\n",
    "    IntStream.range(0, squareMatrix.getDimension()).forEach(row -> {\n",
    "      final StringBuffer sb = new StringBuffer();\n",
    "      IntStream.range(0, squareMatrix.getDimension()).forEach(col -> {\n",
    "        sb.append(String.format(\"%s(%f x %c)\", (!sb.toString().trim().isEmpty() ? \" + \" : \"\"), squareMatrix.getElementAt(row, col), unknowns.charAt(col)));\n",
    "      });\n",
    "      sb.append(String.format(\" = %f\", constants[row]));\n",
    "      content.append(String.format(\"%s%s\", sb.toString(), \"\\n\"));\n",
    "    });\n",
    "    return content.toString().trim();\n",
    "  }\n",
    "    \n",
    "  public static void printSystem(SquareMatrix squareMatrix, double[] constants) {\n",
    "    System.out.println(formatSystem(squareMatrix, constants));\n",
    "  }\n",
    "  \n",
    "}\n",
    "\n",
    "    "
   ]
  },
  {
   "cell_type": "markdown",
   "metadata": {},
   "source": [
    "### Let's go\n",
    "Finally, all utilities and classes are dewfined, we can proceed.\n",
    "\n",
    "We will be solving the following system:\n",
    "```\n",
    "    12 x A    +  13 x B +    14 x C = 234\n",
    "    1.345 x A - 654 x B + 0.001 x C = 98.87\n",
    "    23.09 x A + 5.3 x B - 12.34 x C = 9.876\n",
    "```\n",
    "We are looking for the values A, B, and C\n",
    "\n",
    "Notice the actual call to the system resolutio, it is all in\n",
    "```java\n",
    "double[] result = SystemUtil.solveSystem(squareMatrix, constants);\n",
    "```"
   ]
  },
  {
   "cell_type": "code",
   "execution_count": 6,
   "metadata": {},
   "outputs": [
    {
     "name": "stdout",
     "output_type": "stream",
     "text": [
      "Matrix Determinant: 308572.160470\n"
     ]
    }
   ],
   "source": [
    "SquareMatrix squareMatrix = new SquareMatrix(3);\n",
    "/*\n",
    "  Resolution of:\n",
    "    12x    +  13y +    14z = 234\n",
    "    1.345x - 654y + 0.001z = 98.87\n",
    "    23.09x + 5.3y - 12.34z = 9.876\n",
    " */\n",
    "squareMatrix.setElementAt(0, 0, 12);\n",
    "squareMatrix.setElementAt(0, 1, 13);\n",
    "squareMatrix.setElementAt(0, 2, 14);\n",
    "\n",
    "squareMatrix.setElementAt(1, 0, 1.345);\n",
    "squareMatrix.setElementAt(1, 1, -654);\n",
    "squareMatrix.setElementAt(1, 2, 0.001);\n",
    "\n",
    "squareMatrix.setElementAt(2, 0, 23.09);\n",
    "squareMatrix.setElementAt(2, 1, 5.3);\n",
    "squareMatrix.setElementAt(2, 2, -12.34);\n",
    "\n",
    "double[] constants = new double[]{234, 98.87, 9.876};\n",
    "\n",
    "System.out.println(String.format(\"Matrix Determinant: %f\", MatrixUtil.determinant(squareMatrix)));"
   ]
  },
  {
   "cell_type": "markdown",
   "metadata": {},
   "source": [
    "Now we know that the determinant of our matrix is not null, we can proceed"
   ]
  },
  {
   "cell_type": "code",
   "execution_count": 7,
   "metadata": {},
   "outputs": [
    {
     "name": "stdout",
     "output_type": "stream",
     "text": [
      "Solving:\n",
      "(12.000000 x A) + (13.000000 x B) + (14.000000 x C) = 234.000000\n",
      "(1.345000 x A) + (-654.000000 x B) + (0.001000 x C) = 98.870000\n",
      "(23.090000 x A) + (5.300000 x B) + (-12.340000 x C) = 9.876000\n",
      "\n",
      "Done is 528,628,778 Ås (nano-sec).\n",
      "A = 6.488222\n",
      "B = -0.137817\n",
      "C = 11.280925\n"
     ]
    }
   ],
   "source": [
    "System.out.println(\"Solving:\");\n",
    "SystemUtil.printSystem(squareMatrix, constants);\n",
    "\n",
    "long before = System.nanoTime();\n",
    "double[] result = SystemUtil.solveSystem(squareMatrix, constants);\n",
    "long after = System.nanoTime();\n",
    "System.out.println(String.format(\"\\nDone is %s \\u212bs (nano-sec).\", DecimalFormat.getInstance().format(after - before)));\n",
    "\n",
    "System.out.println(String.format(\"A = %f\", result[0]));\n",
    "System.out.println(String.format(\"B = %f\", result[1]));\n",
    "System.out.println(String.format(\"C = %f\", result[2]));"
   ]
  },
  {
   "cell_type": "markdown",
   "metadata": {},
   "source": [
    "We found a solution, let's make sure it is right, let's see if we find the original constants when ujsing the solution we found:"
   ]
  },
  {
   "cell_type": "code",
   "execution_count": 8,
   "metadata": {},
   "outputs": [
    {
     "name": "stdout",
     "output_type": "stream",
     "text": [
      "X: 234.000000\n",
      "Y: 98.870000\n",
      "Z: 9.876000\n"
     ]
    }
   ],
   "source": [
    "// Proof:\n",
    "double X = (squareMatrix.getElementAt(0, 0) * result[0]) + (squareMatrix.getElementAt(0, 1) * result[1]) + (squareMatrix.getElementAt(0, 2) * result[2]);\n",
    "System.out.println(String.format(\"X: %f\", X));\n",
    "double Y = (squareMatrix.getElementAt(1, 0) * result[0]) + (squareMatrix.getElementAt(1, 1) * result[1]) + (squareMatrix.getElementAt(1, 2) * result[2]);\n",
    "System.out.println(String.format(\"Y: %f\", Y));\n",
    "double Z = (squareMatrix.getElementAt(2, 0) * result[0]) + (squareMatrix.getElementAt(2, 1) * result[1]) + (squareMatrix.getElementAt(2, 2) * result[2]);\n",
    "System.out.println(String.format(\"Z: %f\", Z));"
   ]
  },
  {
   "cell_type": "markdown",
   "metadata": {},
   "source": [
    "### Using the other `SquareMatrix` constructor\n",
    "The `SquareMatrix` class has a constructor taking the whole matrix data as a `double[]` (dim 1).\n",
    "Let's see if it work the same:"
   ]
  },
  {
   "cell_type": "code",
   "execution_count": 9,
   "metadata": {},
   "outputs": [
    {
     "name": "stdout",
     "output_type": "stream",
     "text": [
      "--- With one-line SquareMatrix constructor---\n",
      "Solving:\n",
      "(12.000000 x A) + (13.000000 x B) + (14.000000 x C) = 234.000000\n",
      "(1.345000 x A) + (-654.000000 x B) + (0.001000 x C) = 98.870000\n",
      "(23.090000 x A) + (5.300000 x B) + (-12.340000 x C) = 9.876000\n",
      "\n",
      "Done in 177,555,884 Ås (nano-sec).\n",
      "A = 6.488222\n",
      "B = -0.137817\n",
      "C = 11.280925\n"
     ]
    }
   ],
   "source": [
    "System.out.println(\"--- With one-line SquareMatrix constructor---\");\n",
    "// Using another SquareMatrix constructor\n",
    "squareMatrix = new SquareMatrix(3, 12, 13, 14, 1.345, -654, 0.001, 23.09, 5.3, -12.34);\n",
    "System.out.println(\"Solving:\");\n",
    "SystemUtil.printSystem(squareMatrix, constants);\n",
    "\n",
    "before = System.nanoTime();\n",
    "result = SystemUtil.solveSystem(squareMatrix, constants);\n",
    "after = System.nanoTime();\n",
    "System.out.println(String.format(\"\\nDone in %s \\u212bs (nano-sec).\", DecimalFormat.getInstance().format(after - before)));\n",
    "\n",
    "System.out.println(String.format(\"A = %f\", result[0]));\n",
    "System.out.println(String.format(\"B = %f\", result[1]));\n",
    "System.out.println(String.format(\"C = %f\", result[2]));"
   ]
  },
  {
   "cell_type": "markdown",
   "metadata": {},
   "source": [
    "Looks like this is the same result as above, good!"
   ]
  },
  {
   "cell_type": "markdown",
   "metadata": {},
   "source": [
    "### What happens when the matrix cannot be inverted"
   ]
  },
  {
   "cell_type": "code",
   "execution_count": 17,
   "metadata": {},
   "outputs": [
    {
     "name": "stdout",
     "output_type": "stream",
     "text": [
      "Solving:\n",
      "(0.000000 x A) + (0.000000 x B) + (0.000000 x C) = 234.000000\n",
      "(0.000000 x A) + (1.000000 x B) + (0.000000 x C) = 98.870000\n",
      "(0.000000 x A) + (0.000000 x B) + (1.000000 x C) = 9.876000\n"
     ]
    },
    {
     "name": "stderr",
     "output_type": "stream",
     "text": [
      "Problem solving system:\n",
      "(0.000000 x A) + (0.000000 x B) + (0.000000 x C) = 234.000000\n",
      "(0.000000 x A) + (1.000000 x B) + (0.000000 x C) = 98.870000\n",
      "(0.000000 x A) + (0.000000 x B) + (1.000000 x C) = 9.876000\n",
      "Matrix cannot be inverted, its determinant is null.\n"
     ]
    }
   ],
   "source": [
    "squareMatrix = new SquareMatrix(3, 0, 0, 0, 0, 1, 0, 0, 0, 1);\n",
    "System.out.println(\"Solving:\");\n",
    "SystemUtil.printSystem(squareMatrix, constants);\n",
    "\n",
    "try {\n",
    "  before = System.nanoTime();\n",
    "  result = SystemUtil.solveSystem(squareMatrix, constants);\n",
    "  after = System.nanoTime();\n",
    "  System.out.println(String.format(\"\\nDone in %s \\u212bs (nano-sec).\", DecimalFormat.getInstance().format(after - before)));\n",
    "  System.out.println(String.format(\"A = %f\", result[0]));\n",
    "  System.out.println(String.format(\"B = %f\", result[1]));\n",
    "  System.out.println(String.format(\"C = %f\", result[2]));\n",
    "} catch (MatrixUtil.MatrixException exception) {\n",
    "  // exception.printStackTrace();\n",
    "  // System.err.println(\"====================\");\n",
    "  System.err.println(String.format(\"Problem solving system:\\n%s\\n%s\", \n",
    "                                   SystemUtil.formatSystem(squareMatrix, constants), \n",
    "                                   exception.getMessage()));\n",
    "} catch (Exception exception) {\n",
    "  System.err.println(\"What???\");\n",
    "  exception.printStackTrace();\n",
    "}\n",
    "\n"
   ]
  },
  {
   "cell_type": "code",
   "execution_count": null,
   "metadata": {},
   "outputs": [],
   "source": []
  }
 ],
 "metadata": {
  "kernelspec": {
   "display_name": "Java",
   "language": "java",
   "name": "java"
  },
  "language_info": {
   "codemirror_mode": "java",
   "file_extension": ".jshell",
   "mimetype": "text/x-java-source",
   "name": "Java",
   "pygments_lexer": "java",
   "version": "11.0.8+10-LTS"
  },
  "pycharm": {
   "stem_cell": {
    "cell_type": "raw",
    "metadata": {
     "collapsed": false
    },
    "source": []
   }
  }
 },
 "nbformat": 4,
 "nbformat_minor": 2
}
