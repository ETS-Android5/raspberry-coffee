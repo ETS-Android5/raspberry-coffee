{
 "cells": [
  {
   "cell_type": "markdown",
   "id": "3dc917c9",
   "metadata": {},
   "source": [
    "# Bezier at work"
   ]
  },
  {
   "cell_type": "code",
   "execution_count": 3,
   "id": "272a42a4",
   "metadata": {},
   "outputs": [],
   "source": [
    "%classpath add jar \"../build/libs/BoatDesign-1.0-all.jar\""
   ]
  },
  {
   "cell_type": "code",
   "execution_count": 4,
   "id": "5a818c12",
   "metadata": {},
   "outputs": [],
   "source": [
    "// Verify if the classpath above is taken in account\n",
    "import gsg.SwingUtils.Box3D;"
   ]
  },
  {
   "cell_type": "code",
   "execution_count": 5,
   "id": "a50b3f35",
   "metadata": {},
   "outputs": [],
   "source": [
    "// TODO La suite!"
   ]
  },
  {
   "cell_type": "code",
   "execution_count": 6,
   "id": "d367eec0",
   "metadata": {},
   "outputs": [
    {
     "name": "stdout",
     "output_type": "stream",
     "text": [
      "Running from folder /Users/olivierlediouris/repos/raspberry-coffee/Project-Trunk/BoatDesign/jupyter\n",
      "Java version 11.0.8\n"
     ]
    }
   ],
   "source": [
    "System.out.println(String.format(\"Running from folder %s\", System.getProperty(\"user.dir\")));\n",
    "System.out.println(String.format(\"Java version %s\", System.getProperty(\"java.version\")));"
   ]
  },
  {
   "cell_type": "code",
   "execution_count": null,
   "id": "71194f60",
   "metadata": {},
   "outputs": [],
   "source": []
  }
 ],
 "metadata": {
  "kernelspec": {
   "display_name": "Java",
   "language": "java",
   "name": "java"
  },
  "language_info": {
   "codemirror_mode": "java",
   "file_extension": ".jshell",
   "mimetype": "text/x-java-source",
   "name": "Java",
   "pygments_lexer": "java",
   "version": "11.0.8+10-LTS"
  }
 },
 "nbformat": 4,
 "nbformat_minor": 5
}
