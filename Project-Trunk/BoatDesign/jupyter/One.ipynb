{
 "cells": [
  {
   "cell_type": "markdown",
   "id": "3dc917c9",
   "metadata": {},
   "source": [
    "# Bezier at work\n",
    "Make sure you've run `../../gradlew shadowJar` from the `BoatDesign` folder for the imports to work."
   ]
  },
  {
   "cell_type": "code",
   "execution_count": 1,
   "id": "272a42a4",
   "metadata": {},
   "outputs": [],
   "source": [
    "%classpath add jar \"../build/libs/BoatDesign-1.0-all.jar\""
   ]
  },
  {
   "cell_type": "code",
   "execution_count": 17,
   "id": "5a818c12",
   "metadata": {},
   "outputs": [],
   "source": [
    "// Verify if the classpath above is taken in account\n",
    "import gsg.SwingUtils.Box3D;\n",
    "import gsg.SwingUtils.WhiteBoardPanel;\n",
    "import gsg.VectorUtils;\n",
    "\n",
    "import bezier.Bezier;\n",
    "import boatdesign.threeD.BoatBox3D;\n",
    "\n",
    "import java.awt.Color;\n",
    "import java.awt.Font;\n",
    "import java.awt.Dimension;"
   ]
  },
  {
   "cell_type": "code",
   "execution_count": 18,
   "id": "d367eec0",
   "metadata": {},
   "outputs": [
    {
     "name": "stdout",
     "output_type": "stream",
     "text": [
      "Running from folder /Users/olivierlediouris/repos/raspberry-coffee/Project-Trunk/BoatDesign/jupyter\n",
      "Java version 11.0.8\n"
     ]
    }
   ],
   "source": [
    "System.out.println(String.format(\"Running from folder %s\", System.getProperty(\"user.dir\")));\n",
    "System.out.println(String.format(\"Java version %s\", System.getProperty(\"java.version\")));"
   ]
  },
  {
   "cell_type": "markdown",
   "id": "ed0d1e83",
   "metadata": {},
   "source": [
    "The Bezier points"
   ]
  },
  {
   "cell_type": "code",
   "execution_count": 19,
   "id": "7ed89edc",
   "metadata": {},
   "outputs": [],
   "source": [
    "List<List<Double>> railPoints = List.of(\n",
    "      List.of( 0.000000, 0.000000, 75.000000 ),\n",
    "      List.of( 0.000000, 21.428571, 75.0 ),\n",
    "      List.of(69.642857, 86.785714, 47.500000 ),\n",
    "      List.of(305.357143, 156.428571, 45.357143 ),\n",
    "      List.of(550.000000, 65.0, 56.000000 ));\n",
    "\n",
    "List<List<Double>> keelPoints = List.of(\n",
    "      List.of( 5.000000, 0.000000, -2.000000 ),\n",
    "      List.of( 300.0, 0.000000, -45.0 ),\n",
    "      List.of( 550.000000, 0.000000, 10.000000 ));"
   ]
  },
  {
   "cell_type": "markdown",
   "id": "f51d175b",
   "metadata": {},
   "source": [
    "Points to Bezier Control Points"
   ]
  },
  {
   "cell_type": "code",
   "execution_count": 20,
   "id": "fd3d1d7d",
   "metadata": {},
   "outputs": [],
   "source": [
    "List<Bezier.Point3D> railCtrlPoints = new ArrayList<>();\n",
    "List<Bezier.Point3D> keelCtrlPoints = new ArrayList<>();\n",
    "\n",
    "// Rail\n",
    "railPoints.forEach(pt -> {\n",
    "    railCtrlPoints.add(new Bezier.Point3D(pt.get(0), pt.get(1), pt.get(2)));\n",
    "});\n",
    "// Keel\n",
    "keelPoints.forEach(pt -> {\n",
    "    keelCtrlPoints.add(new Bezier.Point3D(pt.get(0), pt.get(1), pt.get(2)));\n",
    "});"
   ]
  },
  {
   "cell_type": "code",
   "execution_count": 21,
   "id": "e07c9aa6",
   "metadata": {},
   "outputs": [],
   "source": [
    "WhiteBoardPanel whiteBoardXY = new WhiteBoardPanel(); // from above\n",
    "WhiteBoardPanel whiteBoardXZ = new WhiteBoardPanel(); // side\n",
    "WhiteBoardPanel whiteBoardYZ = new WhiteBoardPanel(); // facing\n",
    "BoatBox3D box3D = new BoatBox3D();"
   ]
  },
  {
   "cell_type": "code",
   "execution_count": 22,
   "id": "e73b5ee6",
   "metadata": {},
   "outputs": [],
   "source": [
    "box3D.setRailCtrlPoints(railCtrlPoints); // The rail.\n",
    "box3D.setKeelCtrlPoints(keelCtrlPoints); // The keel."
   ]
  },
  {
   "cell_type": "code",
   "execution_count": 23,
   "id": "78394c5d",
   "metadata": {},
   "outputs": [],
   "source": [
    "// Override defaults (not mandatory)\n",
    "// XY\n",
    "whiteBoardXY.setAxisColor(Color.BLACK);\n",
    "whiteBoardXY.setGridColor(Color.GRAY);\n",
    "whiteBoardXY.setForceTickIncrement(50);\n",
    "whiteBoardXY.setEnforceXAxisAt(0d);\n",
    "whiteBoardXY.setEnforceYAxisAt(0d);\n",
    "\n",
    "whiteBoardXY.setWithGrid(true);\n",
    "whiteBoardXY.setBgColor(new Color(250, 250, 250, 255));\n",
    "whiteBoardXY.setGraphicTitle(null); // \"X not equals Y, Y ampl enforced [0, 100]\");\n",
    "whiteBoardXY.setSize(new Dimension(800, 200));\n",
    "whiteBoardXY.setPreferredSize(new Dimension(600, 200));\n",
    "whiteBoardXY.setTextColor(Color.RED);\n",
    "whiteBoardXY.setTitleFont(new Font(\"Arial\", Font.BOLD | Font.ITALIC, 32));\n",
    "whiteBoardXY.setGraphicMargins(30);\n",
    "whiteBoardXY.setXEqualsY(true); // false);\n",
    "// Enforce Y amplitude\n",
    "whiteBoardXY.setForcedMinY(0d);\n",
    "whiteBoardXY.setForcedMaxY(150d);\n",
    "\n",
    "// XZ\n",
    "whiteBoardXZ.setAxisColor(Color.BLACK);\n",
    "whiteBoardXZ.setGridColor(Color.GRAY);\n",
    "whiteBoardXZ.setForceTickIncrement(50);\n",
    "whiteBoardXZ.setEnforceXAxisAt(0d);\n",
    "whiteBoardXZ.setEnforceYAxisAt(0d);\n",
    "\n",
    "whiteBoardXZ.setWithGrid(true);\n",
    "whiteBoardXZ.setBgColor(new Color(250, 250, 250, 255));\n",
    "whiteBoardXZ.setGraphicTitle(null); // \"X not equals Y, Y ampl enforced [0, 100]\");\n",
    "whiteBoardXZ.setSize(new Dimension(800, 200));\n",
    "whiteBoardXZ.setPreferredSize(new Dimension(600, 200));\n",
    "whiteBoardXZ.setTextColor(Color.RED);\n",
    "whiteBoardXZ.setTitleFont(new Font(\"Arial\", Font.BOLD | Font.ITALIC, 32));\n",
    "whiteBoardXZ.setGraphicMargins(30);\n",
    "whiteBoardXZ.setXEqualsY(true); // false);\n",
    "// Enforce Y amplitude\n",
    "whiteBoardXZ.setForcedMinY(-50d);\n",
    "whiteBoardXZ.setForcedMaxY(100d);\n",
    "\n",
    "// YZ\n",
    "whiteBoardYZ.setAxisColor(Color.BLACK);\n",
    "whiteBoardYZ.setGridColor(Color.GRAY);\n",
    "whiteBoardYZ.setForceTickIncrement(50);\n",
    "whiteBoardYZ.setEnforceXAxisAt(0d);\n",
    "whiteBoardYZ.setEnforceYAxisAt(0d);\n",
    "\n",
    "whiteBoardYZ.setWithGrid(true);\n",
    "whiteBoardYZ.setBgColor(new Color(250, 250, 250, 255));\n",
    "whiteBoardYZ.setGraphicTitle(null); // \"X not equals Y, Y ampl enforced [0, 100]\");\n",
    "whiteBoardYZ.setSize(new Dimension(400, 200));\n",
    "whiteBoardYZ.setPreferredSize(new Dimension(400, 200));\n",
    "whiteBoardYZ.setTextColor(Color.RED);\n",
    "whiteBoardYZ.setTitleFont(new Font(\"Arial\", Font.BOLD | Font.ITALIC, 32));\n",
    "whiteBoardYZ.setGraphicMargins(30);\n",
    "whiteBoardYZ.setXEqualsY(true); // false);\n",
    "// Enforce Y amplitude\n",
    "whiteBoardYZ.setForcedMinY(-50d);\n",
    "whiteBoardYZ.setForcedMaxY(100d);"
   ]
  },
  {
   "cell_type": "markdown",
   "id": "47ac28ee",
   "metadata": {},
   "source": [
    "Prepare the data to display"
   ]
  },
  {
   "cell_type": "code",
   "execution_count": 26,
   "id": "fc9e7cb1",
   "metadata": {},
   "outputs": [],
   "source": [
    "// Generate the data, the Bézier curve(s).\n",
    "\n",
    "// 1 - Rail Ctrl Points\n",
    "Bezier railBezier = new Bezier(railCtrlPoints);\n",
    "List<VectorUtils.Vector3D> bezierRailPoints = new ArrayList<>(); // The points to display.\n",
    "if (railCtrlPoints.size() > 2) { // 3 points minimum.\n",
    "    for (double t = 0; t <= 1.0; t += 1E-3) {\n",
    "        Bezier.Point3D tick = railBezier.getBezierPoint(t);\n",
    "        // System.out.println(String.format(\"%.03f: %s\", t, tick.toString()));\n",
    "        bezierRailPoints.add(new VectorUtils.Vector3D(tick.getX(), tick.getY(), tick.getZ()));\n",
    "    }\n",
    "}\n",
    "double[] xRailCtrlPoints = railCtrlPoints.stream()\n",
    "        .mapToDouble(bp -> bp.getX())\n",
    "        .toArray();\n",
    "double[] yRailCtrlPoints = railCtrlPoints.stream()\n",
    "        .mapToDouble(bp -> bp.getY())\n",
    "        .toArray();\n",
    "double[] zRailCtrlPoints = railCtrlPoints.stream()\n",
    "        .mapToDouble(bp -> bp.getZ())\n",
    "        .toArray();\n",
    "List<VectorUtils.Vector2D> railCtrlPtsXYVectors = new ArrayList<>();\n",
    "for (int i = 0; i < xRailCtrlPoints.length; i++) {\n",
    "    railCtrlPtsXYVectors.add(new VectorUtils.Vector2D(xRailCtrlPoints[i], yRailCtrlPoints[i]));\n",
    "}\n",
    "List<VectorUtils.Vector2D> railCtrlPtsXZVectors = new ArrayList<>();\n",
    "for (int i = 0; i < xRailCtrlPoints.length; i++) {\n",
    "    railCtrlPtsXZVectors.add(new VectorUtils.Vector2D(xRailCtrlPoints[i], zRailCtrlPoints[i]));\n",
    "}\n",
    "List<VectorUtils.Vector2D> railCtrlPtsYZVectors = new ArrayList<>();\n",
    "for (int i = 0; i < yRailCtrlPoints.length; i++) {\n",
    "    railCtrlPtsYZVectors.add(new VectorUtils.Vector2D(yRailCtrlPoints[i], zRailCtrlPoints[i]));\n",
    "}\n",
    "\n",
    "// Curve points\n",
    "double[] xData = bezierRailPoints.stream()\n",
    "        .mapToDouble(bp -> bp.getX())\n",
    "        .toArray();\n",
    "double[] yData = bezierRailPoints.stream()\n",
    "        .mapToDouble(bp -> bp.getY())\n",
    "        .toArray();\n",
    "double[] zData = bezierRailPoints.stream()\n",
    "        .mapToDouble(bp -> bp.getZ())\n",
    "        .toArray();\n",
    "List<VectorUtils.Vector2D> railDataXYVectors = new ArrayList<>();\n",
    "for (int i = 0; i < xData.length; i++) {\n",
    "    railDataXYVectors.add(new VectorUtils.Vector2D(xData[i], yData[i]));\n",
    "}\n",
    "List<VectorUtils.Vector2D> railDataXZVectors = new ArrayList<>();\n",
    "for (int i = 0; i < xData.length; i++) {\n",
    "    railDataXZVectors.add(new VectorUtils.Vector2D(xData[i], zData[i]));\n",
    "}\n",
    "List<VectorUtils.Vector2D> railDataYZVectors = new ArrayList<>();\n",
    "for (int i = 0; i < yData.length; i++) {\n",
    "    railDataYZVectors.add(new VectorUtils.Vector2D(yData[i], zData[i]));\n",
    "}\n",
    "// 2 - Keel Ctrl Points\n",
    "Bezier keelBezier = new Bezier(keelCtrlPoints);\n",
    "List<VectorUtils.Vector3D> bezierKeelPoints = new ArrayList<>(); // The points to display.\n",
    "if (keelCtrlPoints.size() > 2) { // 3 points minimum.\n",
    "    for (double t = 0; t <= 1.0; t += 1E-3) {\n",
    "        Bezier.Point3D tick = keelBezier.getBezierPoint(t);\n",
    "        // System.out.println(String.format(\"%.03f: %s\", t, tick.toString()));\n",
    "        bezierKeelPoints.add(new VectorUtils.Vector3D(tick.getX(), tick.getY(), tick.getZ()));\n",
    "    }\n",
    "}\n",
    "double[] xKeelCtrlPoints = keelCtrlPoints.stream()\n",
    "        .mapToDouble(bp -> bp.getX())\n",
    "        .toArray();\n",
    "double[] yKeelCtrlPoints = keelCtrlPoints.stream()\n",
    "        .mapToDouble(bp -> bp.getY())\n",
    "        .toArray();\n",
    "double[] zKeelCtrlPoints = keelCtrlPoints.stream()\n",
    "        .mapToDouble(bp -> bp.getZ())\n",
    "        .toArray();\n",
    "List<VectorUtils.Vector2D> keelCtrlPtsXYVectors = new ArrayList<>();\n",
    "for (int i = 0; i < xKeelCtrlPoints.length; i++) {\n",
    "    keelCtrlPtsXYVectors.add(new VectorUtils.Vector2D(xKeelCtrlPoints[i], yKeelCtrlPoints[i]));\n",
    "}\n",
    "List<VectorUtils.Vector2D> keelCtrlPtsXZVectors = new ArrayList<>();\n",
    "for (int i = 0; i < xKeelCtrlPoints.length; i++) {\n",
    "    keelCtrlPtsXZVectors.add(new VectorUtils.Vector2D(xKeelCtrlPoints[i], zKeelCtrlPoints[i]));\n",
    "}\n",
    "List<VectorUtils.Vector2D> keelCtrlPtsYZVectors = new ArrayList<>();\n",
    "for (int i = 0; i < yKeelCtrlPoints.length; i++) {\n",
    "    keelCtrlPtsYZVectors.add(new VectorUtils.Vector2D(yKeelCtrlPoints[i], zKeelCtrlPoints[i]));\n",
    "}\n",
    "\n",
    "// Curve points\n",
    "xData = bezierKeelPoints.stream()\n",
    "        .mapToDouble(bp -> bp.getX())\n",
    "        .toArray();\n",
    "yData = bezierKeelPoints.stream()\n",
    "        .mapToDouble(bp -> bp.getY())\n",
    "        .toArray();\n",
    "zData = bezierKeelPoints.stream()\n",
    "        .mapToDouble(bp -> bp.getZ())\n",
    "        .toArray();\n",
    "List<VectorUtils.Vector2D> keelDataXYVectors = new ArrayList<>();\n",
    "for (int i = 0; i < xData.length; i++) {\n",
    "    keelDataXYVectors.add(new VectorUtils.Vector2D(xData[i], yData[i]));\n",
    "}\n",
    "List<VectorUtils.Vector2D> keelDataXZVectors = new ArrayList<>();\n",
    "for (int i = 0; i < xData.length; i++) {\n",
    "    keelDataXZVectors.add(new VectorUtils.Vector2D(xData[i], zData[i]));\n",
    "}\n",
    "List<VectorUtils.Vector2D> keelDataYZVectors = new ArrayList<>();\n",
    "for (int i = 0; i < yData.length; i++) {\n",
    "    keelDataYZVectors.add(new VectorUtils.Vector2D(yData[i], zData[i]));\n",
    "}\n",
    "\n",
    "whiteBoardXY.resetAllData();\n",
    "whiteBoardXZ.resetAllData();\n",
    "whiteBoardYZ.resetAllData();\n",
    "\n",
    "// Bezier ctrl points series\n",
    "// XY - Rail\n",
    "WhiteBoardPanel.DataSerie railCtrlXYSerie = new WhiteBoardPanel.DataSerie()\n",
    "        .data(railCtrlPtsXYVectors)\n",
    "        .graphicType(WhiteBoardPanel.GraphicType.LINE_WITH_DOTS)\n",
    "        .lineThickness(1)\n",
    "        .color(Color.ORANGE);\n",
    "whiteBoardXY.addSerie(railCtrlXYSerie);\n",
    "// XY - Keel\n",
    "WhiteBoardPanel.DataSerie keelCtrlXYSerie = new WhiteBoardPanel.DataSerie()\n",
    "        .data(keelCtrlPtsXYVectors)\n",
    "        .graphicType(WhiteBoardPanel.GraphicType.LINE_WITH_DOTS)\n",
    "        .lineThickness(1)\n",
    "        .color(Color.ORANGE);\n",
    "whiteBoardXY.addSerie(keelCtrlXYSerie);\n",
    "\n",
    "// XZ - Rail\n",
    "WhiteBoardPanel.DataSerie railCtrlXZSerie = new WhiteBoardPanel.DataSerie()\n",
    "        .data(railCtrlPtsXZVectors)\n",
    "        .graphicType(WhiteBoardPanel.GraphicType.LINE_WITH_DOTS)\n",
    "        .lineThickness(1)\n",
    "        .color(Color.ORANGE);\n",
    "whiteBoardXZ.addSerie(railCtrlXZSerie);\n",
    "// XZ - Keel\n",
    "WhiteBoardPanel.DataSerie keelCtrlXZSerie = new WhiteBoardPanel.DataSerie()\n",
    "        .data(keelCtrlPtsXZVectors)\n",
    "        .graphicType(WhiteBoardPanel.GraphicType.LINE_WITH_DOTS)\n",
    "        .lineThickness(1)\n",
    "        .color(Color.ORANGE);\n",
    "whiteBoardXZ.addSerie(keelCtrlXZSerie);\n",
    "\n",
    "// YZ - Rail\n",
    "WhiteBoardPanel.DataSerie railCtrlYZSerie = new WhiteBoardPanel.DataSerie()\n",
    "        .data(railCtrlPtsYZVectors)\n",
    "        .graphicType(WhiteBoardPanel.GraphicType.LINE_WITH_DOTS)\n",
    "        .lineThickness(1)\n",
    "        .color(Color.ORANGE);\n",
    "whiteBoardYZ.addSerie(railCtrlYZSerie);\n",
    "// YZ - Keel\n",
    "WhiteBoardPanel.DataSerie keelCtrlYZSerie = new WhiteBoardPanel.DataSerie()\n",
    "        .data(keelCtrlPtsYZVectors)\n",
    "        .graphicType(WhiteBoardPanel.GraphicType.LINE_WITH_DOTS)\n",
    "        .lineThickness(1)\n",
    "        .color(Color.ORANGE);\n",
    "whiteBoardYZ.addSerie(keelCtrlYZSerie);\n",
    "\n",
    "// Bezier points series\n",
    "// XY - Rail\n",
    "WhiteBoardPanel.DataSerie railDataXYSerie = new WhiteBoardPanel.DataSerie()\n",
    "        .data(railDataXYVectors)\n",
    "        .graphicType(WhiteBoardPanel.GraphicType.LINE)\n",
    "        .lineThickness(3)\n",
    "        .color(Color.BLUE);\n",
    "whiteBoardXY.addSerie(railDataXYSerie);\n",
    "// XY - Keel\n",
    "WhiteBoardPanel.DataSerie keelDataXYSerie = new WhiteBoardPanel.DataSerie()\n",
    "        .data(keelDataXYVectors)\n",
    "        .graphicType(WhiteBoardPanel.GraphicType.LINE)\n",
    "        .lineThickness(3)\n",
    "        .color(Color.BLUE);\n",
    "whiteBoardXY.addSerie(keelDataXYSerie);\n",
    "\n",
    "// XZ - Rail\n",
    "WhiteBoardPanel.DataSerie railDataXZSerie = new WhiteBoardPanel.DataSerie()\n",
    "        .data(railDataXZVectors)\n",
    "        .graphicType(WhiteBoardPanel.GraphicType.LINE)\n",
    "        .lineThickness(3)\n",
    "        .color(Color.BLUE);\n",
    "whiteBoardXZ.addSerie(railDataXZSerie);\n",
    "// XZ - Keel\n",
    "WhiteBoardPanel.DataSerie keelDataXZSerie = new WhiteBoardPanel.DataSerie()\n",
    "        .data(keelDataXZVectors)\n",
    "        .graphicType(WhiteBoardPanel.GraphicType.LINE)\n",
    "        .lineThickness(3)\n",
    "        .color(Color.BLUE);\n",
    "whiteBoardXZ.addSerie(keelDataXZSerie);\n",
    "\n",
    "// YZ - Rail\n",
    "WhiteBoardPanel.DataSerie railDataYZSerie = new WhiteBoardPanel.DataSerie()\n",
    "        .data(railDataYZVectors)\n",
    "        .graphicType(WhiteBoardPanel.GraphicType.LINE)\n",
    "        .lineThickness(3)\n",
    "        .color(Color.BLUE);\n",
    "whiteBoardYZ.addSerie(railDataYZSerie);\n",
    "// YZ - Keel\n",
    "WhiteBoardPanel.DataSerie keelDataYZSerie = new WhiteBoardPanel.DataSerie()\n",
    "        .data(keelDataYZVectors)\n",
    "        .graphicType(WhiteBoardPanel.GraphicType.LINE)\n",
    "        .lineThickness(3)\n",
    "        .color(Color.BLUE);\n",
    "whiteBoardYZ.addSerie(keelDataYZSerie);"
   ]
  },
  {
   "cell_type": "markdown",
   "id": "ef067731",
   "metadata": {},
   "source": [
    "### First display"
   ]
  },
  {
   "cell_type": "code",
   "execution_count": 27,
   "id": "6a4cdcb9",
   "metadata": {},
   "outputs": [
    {
     "data": {
      "image/png": "[encoded data removed]",
      "text/plain": [
       "BufferedImage@4b3a452c: type = 1 DirectColorModel: rmask=ff0000 gmask=ff00 bmask=ff amask=0 IntegerInterleavedRaster: width = 800 height = 200 #Bands = 3 xOff = 0 yOff = 0 dataOffset[0] 0"
      ]
     },
     "execution_count": 27,
     "metadata": {},
     "output_type": "execute_result"
    }
   ],
   "source": [
    "whiteBoardXY.getImage();  // This is for a Jupyter Notebook context"
   ]
  },
  {
   "cell_type": "code",
   "execution_count": 28,
   "id": "b3cdf072",
   "metadata": {},
   "outputs": [
    {
     "data": {
      "image/png": "[encoded data removed]",
      "text/plain": [
       "BufferedImage@4b8a72a4: type = 1 DirectColorModel: rmask=ff0000 gmask=ff00 bmask=ff amask=0 IntegerInterleavedRaster: width = 800 height = 200 #Bands = 3 xOff = 0 yOff = 0 dataOffset[0] 0"
      ]
     },
     "execution_count": 28,
     "metadata": {},
     "output_type": "execute_result"
    }
   ],
   "source": [
    "whiteBoardXZ.getImage();  // This is for a Jupyter Notebook context"
   ]
  },
  {
   "cell_type": "code",
   "execution_count": 29,
   "id": "74166bde",
   "metadata": {},
   "outputs": [
    {
     "data": {
      "image/png": "[encoded data removed]",
      "text/plain": [
       "BufferedImage@73b7a6c1: type = 1 DirectColorModel: rmask=ff0000 gmask=ff00 bmask=ff amask=0 IntegerInterleavedRaster: width = 400 height = 200 #Bands = 3 xOff = 0 yOff = 0 dataOffset[0] 0"
      ]
     },
     "execution_count": 29,
     "metadata": {},
     "output_type": "execute_result"
    }
   ],
   "source": [
    "whiteBoardYZ.getImage();  // This is for a Jupyter Notebook context"
   ]
  },
  {
   "cell_type": "code",
   "execution_count": 32,
   "id": "f0555eb2",
   "metadata": {},
   "outputs": [
    {
     "name": "stdout",
     "output_type": "stream",
     "text": [
      "From Z Displ: 0.675 m3\n",
      "Disp on Z: 0.67506 m3, zCC: -0.129 m\n"
     ]
    }
   ],
   "source": [
    "box3D.repaint();\n",
    "box3D.refreshData();"
   ]
  },
  {
   "cell_type": "code",
   "execution_count": 33,
   "id": "7fd7e391",
   "metadata": {},
   "outputs": [
    {
     "data": {
      "image/png": "[encoded data removed]",
      "text/plain": [
       "BufferedImage@191d2e67: type = 1 DirectColorModel: rmask=ff0000 gmask=ff00 bmask=ff amask=0 IntegerInterleavedRaster: width = 800 height = 800 #Bands = 3 xOff = 0 yOff = 0 dataOffset[0] 0"
      ]
     },
     "execution_count": 33,
     "metadata": {},
     "output_type": "execute_result"
    }
   ],
   "source": [
    "box3D.getImage();"
   ]
  },
  {
   "cell_type": "code",
   "execution_count": null,
   "id": "7c66332d",
   "metadata": {},
   "outputs": [],
   "source": []
  }
 ],
 "metadata": {
  "kernelspec": {
   "display_name": "Java",
   "language": "java",
   "name": "java"
  },
  "language_info": {
   "codemirror_mode": "java",
   "file_extension": ".jshell",
   "mimetype": "text/x-java-source",
   "name": "Java",
   "pygments_lexer": "java",
   "version": "11.0.8+10-LTS"
  }
 },
 "nbformat": 4,
 "nbformat_minor": 5
}
