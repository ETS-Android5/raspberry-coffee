{
 "cells": [
  {
   "cell_type": "markdown",
   "metadata": {},
   "source": [
    "# Low Pass Filter, all in Java, with Graphics\n",
    "\n",
    "First, set the classpath with the right jar. This `jar` contains the statistical functions, system resolution and other linear algebra features, as well as the graphic library we use to display the curves.\n",
    "\n",
    "This jar is built from the root of this repository, using the following command:\n",
    "```\n",
    "$ ./gradlew shadowJar --parallel\n",
    "```"
   ]
  },
  {
   "cell_type": "code",
   "execution_count": 1,
   "metadata": {},
   "outputs": [],
   "source": [
    "%classpath add jar \"../build/libs/Algebra-1.0-all.jar\""
   ]
  },
  {
   "cell_type": "code",
   "execution_count": 2,
   "metadata": {},
   "outputs": [],
   "source": [
    "// Verify if the classpath above is taken in account\n",
    "import gsg.SwingUtils.WhiteBoardPanel;\n",
    "import gsg.VectorUtils;\n",
    "import lowpass.Filter;\n",
    "\n",
    "import javax.swing.*;\n",
    "import java.awt.*;\n",
    "import java.awt.event.ActionEvent;\n",
    "import java.util.ArrayList;\n",
    "import java.util.List;\n",
    "import java.util.concurrent.atomic.AtomicReference;"
   ]
  },
  {
   "cell_type": "code",
   "execution_count": 3,
   "metadata": {},
   "outputs": [],
   "source": [
    "String TITLE = \"Low Pass Filter sample\";"
   ]
  },
  {
   "cell_type": "markdown",
   "metadata": {},
   "source": [
    "Where we are:"
   ]
  },
  {
   "cell_type": "code",
   "execution_count": 4,
   "metadata": {},
   "outputs": [
    {
     "name": "stdout",
     "output_type": "stream",
     "text": [
      "Running from folder /Users/olivierlediouris/repos/raspberry-coffee/Algebra/jupyter\n",
      "Java version 11.0.8\n"
     ]
    }
   ],
   "source": [
    "System.out.println(String.format(\"Running from folder %s\", System.getProperty(\"user.dir\")));\n",
    "System.out.println(String.format(\"Java version %s\", System.getProperty(\"java.version\")));"
   ]
  },
  {
   "cell_type": "markdown",
   "metadata": {},
   "source": [
    "Now create a white board, with several non-default options"
   ]
  },
  {
   "cell_type": "code",
   "execution_count": 5,
   "metadata": {},
   "outputs": [],
   "source": [
    "WhiteBoardPanel whiteBoard = new WhiteBoardPanel();\n",
    "whiteBoard.setAxisColor(new Color(125, 0, 255, 255));\n",
    "whiteBoard.setWithGrid(false);\n",
    "whiteBoard.setBgColor(new Color(250, 250, 250, 255));\n",
    "whiteBoard.setGraphicTitle(null);\n",
    "whiteBoard.setSize(new Dimension(800, 600));\n",
    "whiteBoard.setTextColor(Color.RED);\n",
    "whiteBoard.setTitleFont(new Font(\"Arial\", Font.BOLD | Font.ITALIC, 32));\n",
    "whiteBoard.setGraphicMargins(30);\n",
    "whiteBoard.setXEqualsY(false);\n",
    "// Enforce Y amplitude\n",
    "whiteBoard.setForcedMinY(0d);\n",
    "whiteBoard.setForcedMaxY(100d);"
   ]
  },
  {
   "cell_type": "markdown",
   "metadata": {},
   "source": [
    "### Create random data\n",
    "They are created as `List<Double>`, and will be eventually transformed into a `List<VectorUtils.Vector2D>`, to be easilly managed by the white board. This could be done all in one step, we proceed like this for clarity."
   ]
  },
  {
   "cell_type": "code",
   "execution_count": 6,
   "metadata": {},
   "outputs": [],
   "source": [
    "double START_FROM_Y = 50d;\n",
    "\n",
    "double previousY = START_FROM_Y;   // Y starts here\n",
    "double yAmpl = 100d;               // Y amplitude\n",
    "List<Double> xs = new ArrayList<>();\n",
    "List<Double> data = new ArrayList<>();\n",
    "for (int i=0; i<1_000; i++) {\n",
    "    xs.add((double)i);\n",
    "    double delta = Math.random() - 0.5;  // [-0.5, 0.5]\n",
    "    double nextY = previousY + (5d * delta);\n",
    "    if (nextY > yAmpl || nextY < 0) {\n",
    "        nextY = previousY - delta;\n",
    "    }\n",
    "    data.add(nextY);\n",
    "    previousY = nextY;\n",
    "}"
   ]
  },
  {
   "cell_type": "markdown",
   "metadata": {},
   "source": [
    "### Apply Filter"
   ]
  },
  {
   "cell_type": "code",
   "execution_count": 7,
   "metadata": {},
   "outputs": [],
   "source": [
    "// Filter\n",
    "final List<Double> filteredValues = new ArrayList<>();\n",
    "final AtomicReference<Double> acc = new AtomicReference<>(START_FROM_Y);\n",
    "data.stream().forEach(value -> {\n",
    "    acc.set(Filter.lowPass(Filter.ALPHA, value, acc.get()));\n",
    "    filteredValues.add(acc.get());\n",
    "});"
   ]
  },
  {
   "cell_type": "markdown",
   "metadata": {},
   "source": [
    "### Prepare data for display"
   ]
  },
  {
   "cell_type": "code",
   "execution_count": 8,
   "metadata": {},
   "outputs": [],
   "source": [
    "// Prepare data for display\n",
    "double[] xData = xs.stream()\n",
    "        .mapToDouble(Double::doubleValue)\n",
    "        .toArray();\n",
    "double[] yData = data.stream()\n",
    "        .mapToDouble(Double::doubleValue)\n",
    "        .toArray();\n",
    "List<VectorUtils.Vector2D> dataVectors = new ArrayList<>();\n",
    "for (int i=0; i<xData.length; i++) {\n",
    "    dataVectors.add(new VectorUtils.Vector2D(xData[i], yData[i]));\n",
    "}\n",
    "\n",
    "double[] filteredY = filteredValues.stream()\n",
    "        .mapToDouble(Double::doubleValue)\n",
    "        .toArray();\n",
    "List<VectorUtils.Vector2D> filteredDataVectors = new ArrayList<>();\n",
    "for (int i=0; i<xData.length; i++) {\n",
    "    filteredDataVectors.add(new VectorUtils.Vector2D(xData[i], filteredY[i]));\n",
    "}\n",
    "\n",
    "whiteBoard.setAxisColor(Color.BLACK);\n",
    "whiteBoard.resetAllData();\n"
   ]
  },
  {
   "cell_type": "markdown",
   "metadata": {},
   "source": [
    "### Set data as series to the WhiteBoard, and display."
   ]
  },
  {
   "cell_type": "code",
   "execution_count": 9,
   "metadata": {},
   "outputs": [
    {
     "data": {
      "image/png": "[encoded data removed]",
      "text/plain": [
       "BufferedImage@452b4bc1: type = 1 DirectColorModel: rmask=ff0000 gmask=ff00 bmask=ff amask=0 IntegerInterleavedRaster: width = 800 height = 600 #Bands = 3 xOff = 0 yOff = 0 dataOffset[0] 0"
      ]
     },
     "execution_count": 9,
     "metadata": {},
     "output_type": "execute_result"
    }
   ],
   "source": [
    "// Raw series\n",
    "WhiteBoardPanel.DataSerie dataSerie = new WhiteBoardPanel.DataSerie()\n",
    "        .data(dataVectors)\n",
    "        .graphicType(WhiteBoardPanel.GraphicType.LINE)\n",
    "        .lineThickness(3)\n",
    "        .color(Color.BLUE);\n",
    "whiteBoard.addSerie(dataSerie);\n",
    "// Filtered series\n",
    "WhiteBoardPanel.DataSerie filteredDataSerie = new WhiteBoardPanel.DataSerie()\n",
    "        .data(filteredDataVectors)\n",
    "        .graphicType(WhiteBoardPanel.GraphicType.LINE)\n",
    "        .lineThickness(3)\n",
    "        .color(Color.RED);\n",
    "whiteBoard.addSerie(filteredDataSerie);\n",
    "\n",
    "// And this is the display\n",
    "whiteBoard.getImage();"
   ]
  },
  {
   "cell_type": "markdown",
   "metadata": {},
   "source": [
    "---"
   ]
  }
 ],
 "metadata": {
  "kernelspec": {
   "display_name": "Java",
   "language": "java",
   "name": "java"
  },
  "language_info": {
   "codemirror_mode": "java",
   "file_extension": ".jshell",
   "mimetype": "text/x-java-source",
   "name": "Java",
   "pygments_lexer": "java",
   "version": "11.0.8+10-LTS"
  }
 },
 "nbformat": 4,
 "nbformat_minor": 4
}
