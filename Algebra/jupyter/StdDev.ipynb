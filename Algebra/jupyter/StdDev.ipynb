{
 "cells": [
  {
   "cell_type": "markdown",
   "metadata": {},
   "source": [
    "# Sample: Std dev, and Co, all in Java\n",
    "\n",
    "First, set the classpath with the right jar. This `jar` contains the statistical functions, system resolution and other linear algebra features, as well as the graphic library we use to display the curves.\n",
    "\n",
    "This jar is built from the root of this repository, using the following command:\n",
    "```\n",
    "$ ./gradlew shadowJar --parallel\n",
    "```"
   ]
  },
  {
   "cell_type": "code",
   "execution_count": 1,
   "metadata": {},
   "outputs": [],
   "source": [
    "%classpath add jar \"../build/libs/Algebra-1.0-all.jar\""
   ]
  },
  {
   "cell_type": "code",
   "execution_count": 2,
   "metadata": {},
   "outputs": [],
   "source": [
    "// Verify if the classpath above is taken in account\n",
    "import matrix.SquareMatrix;\n",
    "import matrix.SystemUtil;\n",
    "import smoothing.LeastSquaresMethod;\n",
    "import stat.StatFunctions;\n",
    "\n",
    "import gsg.SwingUtils.WhiteBoardPanel;\n",
    "import gsg.VectorUtils;\n",
    "\n",
    "import java.util.concurrent.atomic.AtomicInteger;\n",
    "import java.awt.Color;\n",
    "import java.awt.Dimension;\n",
    "import java.awt.Font;"
   ]
  },
  {
   "cell_type": "markdown",
   "metadata": {},
   "source": [
    "Where we are:"
   ]
  },
  {
   "cell_type": "code",
   "execution_count": 3,
   "metadata": {},
   "outputs": [
    {
     "name": "stdout",
     "output_type": "stream",
     "text": [
      "Running from folder /Users/olivierlediouris/repos/raspberry-coffee/Algebra/jupyter\n",
      "Java version 11.0.8\n"
     ]
    }
   ],
   "source": [
    "System.out.println(String.format(\"Running from folder %s\", System.getProperty(\"user.dir\")));\n",
    "System.out.println(String.format(\"Java version %s\", System.getProperty(\"java.version\")));"
   ]
  },
  {
   "cell_type": "markdown",
   "metadata": {},
   "source": [
    "Now create a white board, with several non-default options"
   ]
  },
  {
   "cell_type": "code",
   "execution_count": 4,
   "metadata": {},
   "outputs": [],
   "source": [
    "WhiteBoardPanel whiteBoard = new WhiteBoardPanel();\n",
    "whiteBoard.setAxisColor(new Color(125, 0, 255, 255));\n",
    "whiteBoard.setWithGrid(false);\n",
    "whiteBoard.setBgColor(new Color(250, 250, 250, 255));\n",
    "whiteBoard.setGraphicTitle(null);\n",
    "whiteBoard.setDimension(new Dimension(800, 600));\n",
    "whiteBoard.setTextColor(Color.RED);\n",
    "whiteBoard.setTitleFont(new Font(\"Arial\", Font.BOLD | Font.ITALIC, 32));\n",
    "whiteBoard.setGraphicMargins(30);\n",
    "whiteBoard.setXEqualsY(false);"
   ]
  },
  {
   "cell_type": "markdown",
   "metadata": {},
   "source": [
    "### Create random data\n",
    "They are created as `double arrays`, and will be eventually transformed into a `List<VectorUtils.Vector2D>`, to be easilly managed by the white board. This could be done all in one step, we proceed like this for clarity."
   ]
  },
  {
   "cell_type": "code",
   "execution_count": 5,
   "metadata": {},
   "outputs": [],
   "source": [
    "double previousY = 10d;  // Y starts here\n",
    "double yAmpl = 20d;      // Y amplitude\n",
    "List<Double> xs = new ArrayList<>();\n",
    "List<Double> ys = new ArrayList<>();\n",
    "for (double x=0; x<501; x++) {\n",
    "  xs.add(x);\n",
    "  double delta = Math.random() - 0.5;  // [-0.5, 0.5]\n",
    "  // delta *= yAmpl;\n",
    "  double nextY = previousY + delta;\n",
    "  if (nextY > yAmpl || nextY < 0) {\n",
    "    nextY = previousY - delta;\n",
    "  }\n",
    "  ys.add(nextY);\n",
    "  previousY = nextY;\n",
    "}\n",
    "\n",
    "double[] xData = xs.stream()\n",
    "                   .mapToDouble(Double::doubleValue)\n",
    "                   .toArray();\n",
    "double[] yData = ys.stream()\n",
    "                   .mapToDouble(Double::doubleValue)\n",
    "                   .toArray();\n",
    "                   \n",
    "List<VectorUtils.Vector2D> dataVectors = new ArrayList<>();\n",
    "for (int i=0; i<xData.length; i++) {\n",
    "  dataVectors.add(new VectorUtils.Vector2D(xData[i], yData[i]));\n",
    "}"
   ]
  },
  {
   "cell_type": "markdown",
   "metadata": {},
   "source": [
    "Shape the data (color, line thickness, graphic type), add them to the white board, and trigger the display."
   ]
  },
  {
   "cell_type": "code",
   "execution_count": 6,
   "metadata": {},
   "outputs": [],
   "source": [
    "WhiteBoardPanel.DataSerie dataSerie = new WhiteBoardPanel.DataSerie()\n",
    "                            .data(dataVectors)\n",
    "                            .graphicType(WhiteBoardPanel.GraphicType.LINE)\n",
    "                            .lineThickness(3)\n",
    "                            .color(Color.BLUE);\n",
    "whiteBoard.addSerie(dataSerie);"
   ]
  },
  {
   "cell_type": "code",
   "execution_count": 7,
   "metadata": {},
   "outputs": [
    {
     "data": {
      "image/png": "[encoded data removed]",
      "text/plain": [
       "BufferedImage@79e3b198: type = 1 DirectColorModel: rmask=ff0000 gmask=ff00 bmask=ff amask=0 IntegerInterleavedRaster: width = 800 height = 600 #Bands = 3 xOff = 0 yOff = 0 dataOffset[0] 0"
      ]
     },
     "execution_count": 7,
     "metadata": {},
     "output_type": "execute_result"
    }
   ],
   "source": [
    "whiteBoard.getImage();"
   ]
  },
  {
   "cell_type": "markdown",
   "metadata": {},
   "source": [
    "Use linear regression to find the line (dimension 1) closest to the data points.\n",
    "- Step 1, populate the matrix elements"
   ]
  },
  {
   "cell_type": "code",
   "execution_count": 8,
   "metadata": {},
   "outputs": [],
   "source": [
    "// Linear Regression\n",
    "final int REQUIRED_SMOOTHING_DEGREE = 1;\n",
    "int dimension = REQUIRED_SMOOTHING_DEGREE + 1;\n",
    "double[] sumXArray = new double[(REQUIRED_SMOOTHING_DEGREE * 2) + 1]; // Will fill the matrix\n",
    "double[] sumY      = new double[REQUIRED_SMOOTHING_DEGREE + 1];\n",
    "// init\n",
    "for (int i=0; i<((REQUIRED_SMOOTHING_DEGREE * 2) + 1); i++) {\n",
    "  sumXArray[i] = 0.0;\n",
    "}\n",
    "for (int i=0; i<(REQUIRED_SMOOTHING_DEGREE + 1); i++) {\n",
    "  sumY[i] = 0.0;\n",
    "}\n",
    "List<LeastSquaresMethod.Tuple> data = new ArrayList<>();\n",
    "for (int x=0; x<xData.length; x++) {\n",
    "    data.add(new LeastSquaresMethod.Tuple(xData[x], yData[x]));\n",
    "}\n",
    "data.stream().forEach(tuple -> {\n",
    "  for (int i=0; i<((REQUIRED_SMOOTHING_DEGREE * 2) + 1); i++) {\n",
    "    sumXArray[i] += Math.pow(tuple.getX(), i);\n",
    "  }\n",
    "  for (int i=0; i<(REQUIRED_SMOOTHING_DEGREE + 1); i++) {\n",
    "    sumY[i] += (tuple.getY() * Math.pow(tuple.getX(), i));\n",
    "  }\n",
    "});"
   ]
  },
  {
   "cell_type": "markdown",
   "metadata": {},
   "source": [
    "- Step 2, resolve the system"
   ]
  },
  {
   "cell_type": "code",
   "execution_count": 9,
   "metadata": {},
   "outputs": [
    {
     "name": "stdout",
     "output_type": "stream",
     "text": [
      "[0,0: deg 2] = 4.179175E7\n",
      "[0,1: deg 1] = 125250.0\n",
      "[1,0: deg 1] = 125250.0\n",
      "[1,1: deg 0] = 501.0\n",
      "[1] = 1245161.1354908857\n",
      "[0] = 4964.976378494145\n",
      "Resolving:\n",
      "(41791750.000000 x A) + (125250.000000 x B) = 1245161.135491\n",
      "(125250.000000 x A) + (501.000000 x B) = 4964.976378\n",
      "\n"
     ]
    }
   ],
   "source": [
    "SquareMatrix squareMatrix = new SquareMatrix(dimension);\n",
    "for (int row=0; row<dimension; row++) {\n",
    "  for (int col=0; col<dimension; col++) {\n",
    "    int powerRnk = (REQUIRED_SMOOTHING_DEGREE - row) + (REQUIRED_SMOOTHING_DEGREE - col);\n",
    "    System.out.println(\"[\" + row + \",\" + col + \": deg \" + (powerRnk) + \"] = \" + sumXArray[powerRnk]);\n",
    "    squareMatrix.setElementAt(row, col, sumXArray[powerRnk]);\n",
    "  }\n",
    "}\n",
    "double[] constants = new double[dimension];\n",
    "for (int i=0; i<dimension; i++) {\n",
    "  constants[i] = sumY[REQUIRED_SMOOTHING_DEGREE - i];\n",
    "  System.out.println(\"[\" + (REQUIRED_SMOOTHING_DEGREE - i) + \"] = \" + constants[i]);\n",
    "}\n",
    "\n",
    "System.out.println(\"Resolving:\");\n",
    "SystemUtil.printSystem(squareMatrix, constants);\n",
    "System.out.println();\n",
    "\n",
    "double[] result = SystemUtil.solveSystem(squareMatrix, constants);"
   ]
  },
  {
   "cell_type": "markdown",
   "metadata": {},
   "source": [
    "Resolution Completed, displaying results."
   ]
  },
  {
   "cell_type": "code",
   "execution_count": 10,
   "metadata": {},
   "outputs": [
    {
     "name": "stdout",
     "output_type": "stream",
     "text": [
      "Deg 1 -> 0.000374\n",
      "Deg 0 -> 9.816685\n"
     ]
    }
   ],
   "source": [
    "AtomicInteger integer = new AtomicInteger(0);\n",
    "// Final equation coefficients:\n",
    "Arrays.stream(result)\n",
    "      .boxed()\n",
    "      .map(coef -> new LeastSquaresMethod.IndexedCoeff(integer.incrementAndGet(), coef))\n",
    "      .forEach(ic -> System.out.println(String.format(\"Deg %d -> %f\", (dimension - ic.getIdx()), ic.getCoef())));"
   ]
  },
  {
   "cell_type": "markdown",
   "metadata": {},
   "source": [
    "_**Calculate Standard Deviation**_"
   ]
  },
  {
   "cell_type": "code",
   "execution_count": 11,
   "metadata": {},
   "outputs": [
    {
     "name": "stdout",
     "output_type": "stream",
     "text": [
      "Standard Deviation: 1.794529\n"
     ]
    }
   ],
   "source": [
    "double std = StatFunctions.standardDeviation(yData);\n",
    "System.out.println(String.format(\"Standard Deviation: %f\", std));"
   ]
  },
  {
   "cell_type": "markdown",
   "metadata": {},
   "source": [
    "Display data, with linear regression, top and bottom (plus and minus std-dev).\n",
    "- Step 1, create the data representing the lines"
   ]
  },
  {
   "cell_type": "code",
   "execution_count": 12,
   "metadata": {},
   "outputs": [],
   "source": [
    "List<Double> ySmoothed = new ArrayList<>();\n",
    "\n",
    "xs.forEach(x -> {\n",
    "  double y = (x * result[0]) + result[1];\n",
    "  ySmoothed.add(y);\n",
    "});\n",
    "\n",
    "double[] yDataSmoothed = ySmoothed.stream()\n",
    "                   .mapToDouble(Double::doubleValue)\n",
    "                   .toArray();\n",
    "double[] top = ySmoothed.stream()\n",
    "                   .mapToDouble(d -> d.doubleValue() + std)\n",
    "                   .toArray();\n",
    "double[] bottom = ySmoothed.stream()\n",
    "                   .mapToDouble(d -> d.doubleValue() - std)\n",
    "                   .toArray();"
   ]
  },
  {
   "cell_type": "markdown",
   "metadata": {},
   "source": [
    "- Step 2, create the lists of vectors"
   ]
  },
  {
   "cell_type": "code",
   "execution_count": 13,
   "metadata": {},
   "outputs": [],
   "source": [
    "List<VectorUtils.Vector2D> centerVectors = new ArrayList<>();\n",
    "for (int i=0; i<xData.length; i++) {\n",
    "  centerVectors.add(new VectorUtils.Vector2D(xData[i], yDataSmoothed[i]));\n",
    "}\n",
    "\n",
    "List<VectorUtils.Vector2D> topVectors = new ArrayList<>();\n",
    "for (int i=0; i<xData.length; i++) {\n",
    "  topVectors.add(new VectorUtils.Vector2D(xData[i], top[i]));\n",
    "}\n",
    "\n",
    "List<VectorUtils.Vector2D> bottomVectors = new ArrayList<>();\n",
    "for (int i=0; i<xData.length; i++) {\n",
    "  bottomVectors.add(new VectorUtils.Vector2D(xData[i], bottom[i]));\n",
    "}"
   ]
  },
  {
   "cell_type": "markdown",
   "metadata": {},
   "source": [
    "- Step 3, add the newly created data to the previous graphic, and display them!"
   ]
  },
  {
   "cell_type": "code",
   "execution_count": 14,
   "metadata": {},
   "outputs": [],
   "source": [
    "WhiteBoardPanel.DataSerie centerSerie = new WhiteBoardPanel.DataSerie()\n",
    "                            .data(centerVectors)\n",
    "                            .graphicType(WhiteBoardPanel.GraphicType.LINE)\n",
    "                            .lineThickness(3)\n",
    "                            .color(Color.RED);\n",
    "whiteBoard.addSerie(centerSerie);\n",
    "\n",
    "WhiteBoardPanel.DataSerie topSerie = new WhiteBoardPanel.DataSerie()\n",
    "                            .data(topVectors)\n",
    "                            .graphicType(WhiteBoardPanel.GraphicType.LINE)\n",
    "                            .lineThickness(3)\n",
    "                            .color(Color.YELLOW);\n",
    "whiteBoard.addSerie(topSerie);\n",
    "\n",
    "WhiteBoardPanel.DataSerie bottomSerie = new WhiteBoardPanel.DataSerie()\n",
    "                            .data(bottomVectors)\n",
    "                            .graphicType(WhiteBoardPanel.GraphicType.LINE)\n",
    "                            .lineThickness(3)\n",
    "                            .color(Color.GREEN);\n",
    "whiteBoard.addSerie(bottomSerie);"
   ]
  },
  {
   "cell_type": "code",
   "execution_count": 15,
   "metadata": {},
   "outputs": [
    {
     "data": {
      "image/png": "[encoded data removed]",
      "text/plain": [
       "BufferedImage@40b85f77: type = 1 DirectColorModel: rmask=ff0000 gmask=ff00 bmask=ff amask=0 IntegerInterleavedRaster: width = 800 height = 600 #Bands = 3 xOff = 0 yOff = 0 dataOffset[0] 0"
      ]
     },
     "execution_count": 15,
     "metadata": {},
     "output_type": "execute_result"
    }
   ],
   "source": [
    "whiteBoard.getImage(); // Show!"
   ]
  },
  {
   "cell_type": "markdown",
   "metadata": {},
   "source": [
    "---"
   ]
  },
  {
   "cell_type": "code",
   "execution_count": null,
   "metadata": {},
   "outputs": [],
   "source": []
  }
 ],
 "metadata": {
  "kernelspec": {
   "display_name": "Java",
   "language": "java",
   "name": "java"
  },
  "language_info": {
   "codemirror_mode": "java",
   "file_extension": ".jshell",
   "mimetype": "text/x-java-source",
   "name": "Java",
   "pygments_lexer": "java",
   "version": "11.0.8+10-LTS"
  }
 },
 "nbformat": 4,
 "nbformat_minor": 4
}
