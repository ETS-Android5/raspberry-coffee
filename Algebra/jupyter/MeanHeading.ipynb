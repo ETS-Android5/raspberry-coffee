{
 "cells": [
  {
   "cell_type": "markdown",
   "metadata": {},
   "source": [
    "# Mean Heading, all in Java\n",
    "\n",
    "First, set the classpath with the right jar. This `jar` contains the statistical functions, system resolution and other linear algebra features, as well as the graphic library we use to display the curves.\n",
    "\n",
    "This jar is built from the root of this repository, using the following command:\n",
    "```\n",
    "$ ./gradlew shadowJar --parallel\n",
    "```"
   ]
  },
  {
   "cell_type": "markdown",
   "metadata": {},
   "source": [
    "## What we do here\n",
    "We want to show how to get to the mean of data like headind (or any kind of direction)\n",
    "- If the data vary from 85 to 95 (in degrees)\n",
    "    - The mean value would be around 90, which is **good**\n",
    "- If the data vary from 175 to 185 (in degrees)\n",
    "    - The mean value would be around 180, which is **good**\n",
    "- If the data vary from 265 to 275 (in degrees)\n",
    "    - The mean value would be around 270, which is **good**\n",
    "- If the data vary from 355 to 005 (in degrees)\n",
    "    - The mean value would be around 180, which is **BAAAAD!**\n",
    "    "
   ]
  },
  {
   "cell_type": "code",
   "execution_count": 1,
   "metadata": {},
   "outputs": [],
   "source": [
    "%classpath add jar \"../build/libs/Algebra-1.0-all.jar\""
   ]
  },
  {
   "cell_type": "code",
   "execution_count": 2,
   "metadata": {},
   "outputs": [],
   "source": [
    "// Verify if the classpath above is taken in account\n",
    "import matrix.SquareMatrix;\n",
    "import matrix.SystemUtil;\n",
    "import smoothing.LeastSquaresMethod;\n",
    "import stat.StatFunctions;\n",
    "\n",
    "import gsg.SwingUtils.WhiteBoardPanel;\n",
    "import gsg.VectorUtils;\n",
    "\n",
    "import java.util.concurrent.atomic.AtomicInteger;\n",
    "import java.awt.Color;\n",
    "import java.awt.Dimension;\n",
    "import java.awt.Font;"
   ]
  },
  {
   "cell_type": "markdown",
   "metadata": {},
   "source": [
    "Where we are:"
   ]
  },
  {
   "cell_type": "code",
   "execution_count": 3,
   "metadata": {},
   "outputs": [
    {
     "name": "stdout",
     "output_type": "stream",
     "text": [
      "Running from folder /Users/olivierlediouris/repos/raspberry-coffee/Algebra/jupyter\n",
      "Java version 11.0.8\n"
     ]
    }
   ],
   "source": [
    "System.out.println(String.format(\"Running from folder %s\", System.getProperty(\"user.dir\")));\n",
    "System.out.println(String.format(\"Java version %s\", System.getProperty(\"java.version\")));"
   ]
  },
  {
   "cell_type": "markdown",
   "metadata": {},
   "source": [
    "Now create a white board, with several non-default options"
   ]
  },
  {
   "cell_type": "code",
   "execution_count": 4,
   "metadata": {},
   "outputs": [],
   "source": [
    "WhiteBoardPanel whiteBoard = new WhiteBoardPanel();\n",
    "whiteBoard.setAxisColor(new Color(125, 0, 255, 255));\n",
    "whiteBoard.setWithGrid(false);\n",
    "whiteBoard.setBgColor(new Color(250, 250, 250, 255));\n",
    "whiteBoard.setGraphicTitle(null);\n",
    "whiteBoard.setDimension(new Dimension(800, 600));\n",
    "whiteBoard.setTextColor(Color.RED);\n",
    "whiteBoard.setTitleFont(new Font(\"Arial\", Font.BOLD | Font.ITALIC, 32));\n",
    "whiteBoard.setGraphicMargins(30);\n",
    "whiteBoard.setXEqualsY(false);"
   ]
  },
  {
   "cell_type": "markdown",
   "metadata": {},
   "source": [
    "### Create random data\n",
    "They are created as `double arrays`, and will be eventually transformed into a `List<VectorUtils.Vector2D>`, to be easilly managed by the white board. This could be done all in one step, we proceed like this for clarity."
   ]
  },
  {
   "cell_type": "markdown",
   "metadata": {},
   "source": [
    "#### Dealing with 90 &plusmn; 5"
   ]
  },
  {
   "cell_type": "code",
   "execution_count": 5,
   "metadata": {},
   "outputs": [
    {
     "name": "stdout",
     "output_type": "stream",
     "text": [
      "Mean: 90.081334\n"
     ]
    },
    {
     "data": {
      "text/plain": [
       "java.io.PrintStream@8ab9038"
      ]
     },
     "execution_count": 5,
     "metadata": {},
     "output_type": "execute_result"
    }
   ],
   "source": [
    "List<Double> data90 = new ArrayList<>();\n",
    "for (double x=0; x<500; x++) {\n",
    "  double rndValue = 90 + (10 * (Math.random() - 0.5)); \n",
    "  data90.add(rndValue);\n",
    "}\n",
    "// data90.forEach(System.out::println);\n",
    "double total90 = data90.stream().mapToDouble(Double::doubleValue).sum();\n",
    "double mean90 = total90 / data90.size();\n",
    "System.out.printf(\"Mean: %f\\n\", mean90);\n"
   ]
  },
  {
   "cell_type": "markdown",
   "metadata": {},
   "source": [
    "#### Dealing with 180 &plusmn; 5"
   ]
  },
  {
   "cell_type": "code",
   "execution_count": 6,
   "metadata": {},
   "outputs": [
    {
     "name": "stdout",
     "output_type": "stream",
     "text": [
      "Mean: 180.011771\n"
     ]
    },
    {
     "data": {
      "text/plain": [
       "java.io.PrintStream@8ab9038"
      ]
     },
     "execution_count": 6,
     "metadata": {},
     "output_type": "execute_result"
    }
   ],
   "source": [
    "List<Double> data180 = new ArrayList<>();\n",
    "for (double x=0; x<500; x++) {\n",
    "  double rndValue = 180 + (10 * (Math.random() - 0.5)); \n",
    "  data180.add(rndValue);\n",
    "}\n",
    "// data180.forEach(System.out::println);\n",
    "double total180 = data180.stream().mapToDouble(Double::doubleValue).sum();\n",
    "double mean180 = total180 / data180.size();\n",
    "System.out.printf(\"Mean: %f\\n\", mean180);\n"
   ]
  },
  {
   "cell_type": "markdown",
   "metadata": {},
   "source": [
    "#### Dealing with 270 &plusmn; 5"
   ]
  },
  {
   "cell_type": "code",
   "execution_count": 7,
   "metadata": {},
   "outputs": [
    {
     "name": "stdout",
     "output_type": "stream",
     "text": [
      "Mean: 270.207639\n"
     ]
    },
    {
     "data": {
      "text/plain": [
       "java.io.PrintStream@8ab9038"
      ]
     },
     "execution_count": 7,
     "metadata": {},
     "output_type": "execute_result"
    }
   ],
   "source": [
    "List<Double> data270 = new ArrayList<>();\n",
    "for (double x=0; x<500; x++) {\n",
    "  double rndValue = 270 + (10 * (Math.random() - 0.5)); \n",
    "  data270.add(rndValue);\n",
    "}\n",
    "// data270.forEach(System.out::println);\n",
    "double total270 = data270.stream().mapToDouble(Double::doubleValue).sum();\n",
    "double mean270 = total270 / data270.size();\n",
    "System.out.printf(\"Mean: %f\\n\", mean270);\n"
   ]
  },
  {
   "cell_type": "markdown",
   "metadata": {},
   "source": [
    "#### Dealing with 360 &plusmn; 5"
   ]
  },
  {
   "cell_type": "code",
   "execution_count": 8,
   "metadata": {},
   "outputs": [
    {
     "name": "stdout",
     "output_type": "stream",
     "text": [
      "Mean for [355.012868, 4.982017] = 171.366943, bad value!!!\n"
     ]
    },
    {
     "data": {
      "text/plain": [
       "java.io.PrintStream@8ab9038"
      ]
     },
     "execution_count": 8,
     "metadata": {},
     "output_type": "execute_result"
    }
   ],
   "source": [
    "List<Double> data360 = new ArrayList<>();\n",
    "for (double x=0; x<500; x++) {\n",
    "  double rndValue = 360 + (10 * (Math.random() - 0.5)); \n",
    "  // System.out.println(\"Value \" + (rndValue % 360));\n",
    "  data360.add(rndValue % 360);\n",
    "}\n",
    "\n",
    "// data360.forEach(System.out::println);\n",
    "\n",
    "double min360 = data360.stream().filter(d -> d > 180d).mapToDouble(d -> d).min().orElseThrow(NoSuchElementException::new);\n",
    "// double max360 = Collections.max(data360);\n",
    "double max360 = data360.stream().filter(d -> d < 180d).mapToDouble(d -> d).max().orElseThrow(NoSuchElementException::new);\n",
    "double total360 = data360.stream().mapToDouble(Double::doubleValue).sum();\n",
    "double mean360 = total360 / data360.size();\n",
    "System.out.printf(\"Mean for [%f, %f] = %f, bad value!!!\\n\", min360, max360, mean360);\n"
   ]
  },
  {
   "cell_type": "markdown",
   "metadata": {},
   "source": [
    "#### Let's fix this"
   ]
  },
  {
   "cell_type": "code",
   "execution_count": 9,
   "metadata": {},
   "outputs": [],
   "source": [
    "double totalSin360 = data360.stream().mapToDouble(angle -> Math.sin(Math.toRadians(angle))).sum();\n",
    "double totalCos360 = data360.stream().mapToDouble(angle -> Math.cos(Math.toRadians(angle))).sum();\n",
    "\n",
    "double finalSin = totalSin360 / data360.size();\n",
    "double finalCos = totalCos360 / data360.size();"
   ]
  },
  {
   "cell_type": "code",
   "execution_count": 10,
   "metadata": {},
   "outputs": [
    {
     "name": "stdout",
     "output_type": "stream",
     "text": [
      "Mean: 0.007 º\n"
     ]
    },
    {
     "data": {
      "text/plain": [
       "java.io.PrintStream@8ab9038"
      ]
     },
     "execution_count": 10,
     "metadata": {},
     "output_type": "execute_result"
    }
   ],
   "source": [
    "double angle = Math.toDegrees(Math.atan2(finalSin, finalCos));\n",
    "while (angle < 0) {\n",
    "  angle += 360;\n",
    "}\n",
    "System.out.printf(\"Mean: %.03f \\272\\n\", (angle % 360));"
   ]
  },
  {
   "cell_type": "code",
   "execution_count": null,
   "metadata": {},
   "outputs": [],
   "source": []
  },
  {
   "cell_type": "code",
   "execution_count": null,
   "metadata": {},
   "outputs": [],
   "source": []
  }
 ],
 "metadata": {
  "kernelspec": {
   "display_name": "Java",
   "language": "java",
   "name": "java"
  },
  "language_info": {
   "codemirror_mode": "java",
   "file_extension": ".jshell",
   "mimetype": "text/x-java-source",
   "name": "Java",
   "pygments_lexer": "java",
   "version": "11.0.8+10-LTS"
  }
 },
 "nbformat": 4,
 "nbformat_minor": 4
}
