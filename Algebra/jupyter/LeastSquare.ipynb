{
 "cells": [
  {
   "cell_type": "markdown",
   "metadata": {},
   "source": [
    "## Least Square demo\n",
    "\n",
    "- See <http://www.efunda.com/math/leastsquares/leastsquares.cfm>\n",
    "- See <http://www.lediouris.net/original/sailing/PolarCO2/index.html>"
   ]
  },
  {
   "cell_type": "code",
   "execution_count": 1,
   "metadata": {},
   "outputs": [],
   "source": [
    "%classpath add jar \"../build/libs/Algebra-1.0-all.jar\""
   ]
  },
  {
   "cell_type": "code",
   "execution_count": 2,
   "metadata": {},
   "outputs": [],
   "source": [
    "import smoothing.LeastSquaresMethod;\n",
    "import matrix.SquareMatrix;\n",
    "import matrix.SystemUtil;\n",
    "\n",
    "import gsg.SwingUtils.WhiteBoardPanel;\n",
    "import gsg.VectorUtils;\n",
    "\n",
    "import java.util.concurrent.atomic.AtomicInteger;\n",
    "import java.awt.Color;\n",
    "import java.awt.Dimension;\n",
    "import java.awt.Font;"
   ]
  },
  {
   "cell_type": "markdown",
   "metadata": {},
   "source": [
    "### Data, and resolution"
   ]
  },
  {
   "cell_type": "code",
   "execution_count": 3,
   "metadata": {},
   "outputs": [
    {
     "name": "stdout",
     "output_type": "stream",
     "text": [
      "Y in [-17.031924, 13.491999]\n",
      "[0,0:6] = 3.009055012562896E8\n",
      "[0,1:5] = -3.2014213502407074E-10\n",
      "[0,2:4] = 6574097.066664035\n",
      "[0,3:3] = -6.59383658785373E-11\n",
      "[1,0:5] = -3.2014213502407074E-10\n",
      "[1,1:4] = 6574097.066664035\n",
      "[1,2:3] = -6.59383658785373E-11\n",
      "[1,3:2] = 170986.79999999996\n",
      "[2,0:4] = 6574097.066664035\n",
      "[2,1:3] = -6.59383658785373E-11\n",
      "[2,2:2] = 170986.79999999996\n",
      "[2,3:1] = -1.829647544582258E-13\n",
      "[3,0:3] = -6.59383658785373E-11\n",
      "[3,1:2] = 170986.79999999996\n",
      "[3,2:1] = -1.829647544582258E-13\n",
      "[3,3:0] = 8005.0\n",
      "[3] = 4277280.603702169\n",
      "[2] = -95307.82152187565\n",
      "[1] = 99745.71117680981\n",
      "[0] = 1205.7650299999993\n",
      "Resolving:\n",
      "(300905501.256290 x A) + (-0.000000 x B) + (6574097.066664 x C) + (-0.000000 x D) = 4277280.603702\n",
      "(-0.000000 x A) + (6574097.066664 x B) + (-0.000000 x C) + (170986.800000 x D) = -95307.821522\n",
      "(6574097.066664 x A) + (-0.000000 x B) + (170986.800000 x C) + (-0.000000 x D) = 99745.711177\n",
      "(-0.000000 x A) + (170986.800000 x B) + (-0.000000 x C) + (8005.000000 x D) = 1205.765030\n",
      "\n",
      "[ 0.009186, -0.041434, 0.230169, 1.035659 ]\n",
      "\n",
      "Deg 3 -> 0.009186\n",
      "Deg 2 -> -0.041434\n",
      "Deg 1 -> 0.230169\n",
      "Deg 0 -> 1.035659\n"
     ]
    }
   ],
   "source": [
    "final int REQUIRED_SMOOTHING_DEGREE = 3;\n",
    "\n",
    "if (true) { // Turn to true to re-generate data\n",
    "    BufferedWriter bw = new BufferedWriter(new FileWriter(\"cloud.csv\"));\n",
    "    LeastSquaresMethod.cloudGenerator(bw, -8, 8, 0.01, new double[] {3, 4, 5, 6, 9}, 0.01, -0.04, 0.2, 1);\n",
    "    bw.close();\n",
    "}\n",
    "\n",
    "if (true) {\n",
    "    LeastSquaresMethod.csvToJson(\"cloud.csv\", \"cloud.json\");\n",
    "}\n",
    "\n",
    "List<LeastSquaresMethod.Tuple> data = new ArrayList<>();\n",
    "BufferedReader br = new BufferedReader(new FileReader(\"cloud.csv\"));\n",
    "String line = \"\";\n",
    "boolean go = true;\n",
    "while (go) {\n",
    "    line = br.readLine();\n",
    "    if (line == null) {\n",
    "        go = false;\n",
    "    } else {\n",
    "        String[] tuple = line.split(\";\");\n",
    "        data.add(new LeastSquaresMethod.Tuple(Double.parseDouble(tuple[0]), Double.parseDouble(tuple[1])));\n",
    "    }\n",
    "}\n",
    "br.close();\n",
    "\n",
    "// Data is a list of Tuples\n",
    "int dimension = REQUIRED_SMOOTHING_DEGREE + 1;\n",
    "double[] sumXArray = new double[(REQUIRED_SMOOTHING_DEGREE * 2) + 1]; // Will fill the matrix\n",
    "double[] sumY      = new double[REQUIRED_SMOOTHING_DEGREE + 1];\n",
    "// Init\n",
    "for (int i=0; i<((REQUIRED_SMOOTHING_DEGREE * 2) + 1); i++) {\n",
    "    sumXArray[i] = 0.0;\n",
    "}\n",
    "for (int i=0; i<(REQUIRED_SMOOTHING_DEGREE + 1); i++) {\n",
    "    sumY[i] = 0.0;\n",
    "}\n",
    "\n",
    "data.stream().forEach(tuple -> {\n",
    "    for (int i=0; i<((REQUIRED_SMOOTHING_DEGREE * 2) + 1); i++) {\n",
    "        sumXArray[i] += Math.pow(tuple.getX(), i);\n",
    "    }\n",
    "    for (int i=0; i<(REQUIRED_SMOOTHING_DEGREE + 1); i++) {\n",
    "        sumY[i] += (tuple.getY() * Math.pow(tuple.getX(), i));\n",
    "    }\n",
    "});\n",
    "\n",
    "SquareMatrix squareMatrix = new SquareMatrix(dimension);\n",
    "for (int row=0; row<dimension; row++) {\n",
    "    for (int col=0; col<dimension; col++) {\n",
    "        int powerRnk = (REQUIRED_SMOOTHING_DEGREE - row) + (REQUIRED_SMOOTHING_DEGREE - col);\n",
    "        System.out.println(\"[\" + row + \",\" + col + \":\" + (powerRnk) + \"] = \" + sumXArray[powerRnk]);\n",
    "        squareMatrix.setElementAt(row, col, sumXArray[powerRnk]);\n",
    "    }\n",
    "}\n",
    "double[] constants = new double[dimension];\n",
    "for (int i=0; i<dimension; i++) {\n",
    "    constants[i] = sumY[REQUIRED_SMOOTHING_DEGREE - i];\n",
    "    System.out.println(\"[\" + (REQUIRED_SMOOTHING_DEGREE - i) + \"] = \" + constants[i]);\n",
    "}\n",
    "\n",
    "System.out.println(\"Resolving:\");\n",
    "SystemUtil.printSystem(squareMatrix, constants);\n",
    "System.out.println();\n",
    "\n",
    "double[] result = SystemUtil.solveSystem(squareMatrix, constants);\n",
    "String out = \"[ \";\n",
    "for (int i=0; i<result.length; i++) {\n",
    "    out += String.format(\"%s%f\", (i > 0 ? \", \" : \"\"), result[i]);\n",
    "}\n",
    "out += \" ]\";\n",
    "System.out.println(out);\n",
    "// Nicer (Java 8 and after)\n",
    "System.out.println();\n",
    "AtomicInteger integer = new AtomicInteger(0);\n",
    "Arrays.stream(result)\n",
    "                .boxed()\n",
    "                .map(coef -> new LeastSquaresMethod.IndexedCoeff(integer.incrementAndGet(), coef))\n",
    "                .forEach(ic -> System.out.println(String.format(\"Deg %d -> %f\", (dimension - ic.getIdx()), ic.getCoef())));\n"
   ]
  },
  {
   "cell_type": "markdown",
   "metadata": {},
   "source": [
    "## Graphics"
   ]
  },
  {
   "cell_type": "code",
   "execution_count": 4,
   "metadata": {},
   "outputs": [],
   "source": [
    "WhiteBoardPanel whiteBoard = new WhiteBoardPanel();\n",
    "whiteBoard.setAxisColor(new Color(125, 0, 255, 255));\n",
    "whiteBoard.setWithGrid(true);\n",
    "whiteBoard.setBgColor(new Color(250, 250, 250, 255));\n",
    "whiteBoard.setGraphicTitle(\"Least Squares\");\n",
    "whiteBoard.setDimension(new Dimension(300, 600));\n",
    "whiteBoard.setTextColor(Color.RED);\n",
    "whiteBoard.setTitleFont(new Font(\"Arial\", Font.BOLD | Font.ITALIC, 32));\n",
    "whiteBoard.setGraphicMargins(30);"
   ]
  },
  {
   "cell_type": "code",
   "execution_count": 5,
   "metadata": {},
   "outputs": [],
   "source": [
    "List<VectorUtils.Vector2D> cloudVectors = new ArrayList<>();"
   ]
  },
  {
   "cell_type": "code",
   "execution_count": 6,
   "metadata": {},
   "outputs": [
    {
     "name": "stdout",
     "output_type": "stream",
     "text": [
      "We have 8005 points in the cloud.\n"
     ]
    }
   ],
   "source": [
    "System.out.println(String.format(\"We have %d points in the cloud.\", data.size()));\n",
    "data.forEach(tuple -> {\n",
    "    cloudVectors.add(new VectorUtils.Vector2D(tuple.getX(), tuple.getY()));\n",
    "});"
   ]
  },
  {
   "cell_type": "code",
   "execution_count": 7,
   "metadata": {},
   "outputs": [],
   "source": [
    "WhiteBoardPanel.DataSerie pointSerie = new WhiteBoardPanel.DataSerie()\n",
    "                            .data(cloudVectors)\n",
    "                            .graphicType(WhiteBoardPanel.GraphicType.POINTS)\n",
    "                            .color(Color.BLUE);\n",
    "whiteBoard.addSerie(pointSerie);"
   ]
  },
  {
   "cell_type": "code",
   "execution_count": 8,
   "metadata": {},
   "outputs": [
    {
     "name": "stdout",
     "output_type": "stream",
     "text": [
      "One Unit: 15.000000\n",
      "40 vertical ticks, 20 horizontal ticks.\n",
      "tickIncrement: 1\n",
      "-----------------------------------------------------\n",
      "HxW: 600 x 300\n",
      ">> Working Rectangle: x:30, y:112, w:240, h:458\n",
      "-----------------------------------------------------\n"
     ]
    },
    {
     "data": {
      "image/png": "[encoded data removed]",
      "text/plain": [
       "BufferedImage@669efaa1: type = 1 DirectColorModel: rmask=ff0000 gmask=ff00 bmask=ff amask=0 IntegerInterleavedRaster: width = 300 height = 600 #Bands = 3 xOff = 0 yOff = 0 dataOffset[0] 0"
      ]
     },
     "execution_count": 8,
     "metadata": {},
     "output_type": "execute_result"
    }
   ],
   "source": [
    "whiteBoard.getImage(); // This is for a Notebook"
   ]
  },
  {
   "cell_type": "code",
   "execution_count": 9,
   "metadata": {},
   "outputs": [],
   "source": [
    "List<VectorUtils.Vector2D> function = new ArrayList<>();\n",
    "for (double x=-10d; x<10d; x+=0.1) {\n",
    "    function.add(new VectorUtils.Vector2D(x, LeastSquaresMethod.f(x, result)));\n",
    "}"
   ]
  },
  {
   "cell_type": "code",
   "execution_count": 10,
   "metadata": {},
   "outputs": [],
   "source": [
    "WhiteBoardPanel.DataSerie functionSerie = new WhiteBoardPanel.DataSerie()\n",
    "                            .data(function)\n",
    "                            .graphicType(WhiteBoardPanel.GraphicType.LINE)\n",
    "                            .lineThickness(3)\n",
    "                            .color(Color.GREEN);\n",
    "whiteBoard.addSerie(functionSerie);"
   ]
  },
  {
   "cell_type": "code",
   "execution_count": 11,
   "metadata": {},
   "outputs": [
    {
     "name": "stdout",
     "output_type": "stream",
     "text": [
      "One Unit: 12.000000\n",
      "50 vertical ticks, 25 horizontal ticks.\n",
      "tickIncrement: 2\n",
      "-----------------------------------------------------\n",
      "HxW: 600 x 300\n",
      ">> Working Rectangle: x:30, y:204, w:240, h:366\n",
      "-----------------------------------------------------\n"
     ]
    },
    {
     "data": {
      "image/png": "[encoded data removed]",
      "text/plain": [
       "BufferedImage@222078b8: type = 1 DirectColorModel: rmask=ff0000 gmask=ff00 bmask=ff amask=0 IntegerInterleavedRaster: width = 300 height = 600 #Bands = 3 xOff = 0 yOff = 0 dataOffset[0] 0"
      ]
     },
     "execution_count": 11,
     "metadata": {},
     "output_type": "execute_result"
    }
   ],
   "source": [
    "whiteBoard.getImage();"
   ]
  },
  {
   "cell_type": "markdown",
   "metadata": {},
   "source": [
    "---"
   ]
  },
  {
   "cell_type": "code",
   "execution_count": null,
   "metadata": {},
   "outputs": [],
   "source": []
  }
 ],
 "metadata": {
  "kernelspec": {
   "display_name": "Java",
   "language": "java",
   "name": "java"
  },
  "language_info": {
   "codemirror_mode": "java",
   "file_extension": ".jshell",
   "mimetype": "text/x-java-source",
   "name": "Java",
   "pygments_lexer": "java",
   "version": "11.0.8+10-LTS"
  }
 },
 "nbformat": 4,
 "nbformat_minor": 4
}
