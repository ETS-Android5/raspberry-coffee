{
 "cells": [
  {
   "cell_type": "markdown",
   "metadata": {},
   "source": [
    "## Weight Delta at work"
   ]
  },
  {
   "cell_type": "code",
   "execution_count": 19,
   "metadata": {},
   "outputs": [
    {
     "name": "stdout",
     "output_type": "stream",
     "text": [
      "Populating the interactive namespace from numpy and matplotlib\n"
     ]
    }
   ],
   "source": [
    "import warnings\n",
    "warnings.filterwarnings('ignore')\n",
    "\n",
    "%matplotlib inline\n",
    "%pylab inline\n",
    "import matplotlib.pyplot as plt"
   ]
  },
  {
   "cell_type": "code",
   "execution_count": 20,
   "metadata": {},
   "outputs": [],
   "source": [
    "weight, goal_pred, input = (0.0, 0.8, 1.1)\n",
    "errors = []\n",
    "weights = []"
   ]
  },
  {
   "cell_type": "code",
   "execution_count": 21,
   "metadata": {},
   "outputs": [
    {
     "name": "stdout",
     "output_type": "stream",
     "text": [
      "Iteration #0 Weight: 0.0\n",
      "Error: 0.6400000000000001, Prediction: 0.0\n",
      "Delta: -0.8, Weight Delta: -0.8800000000000001\n",
      "----------------------------\n",
      "Iteration #1 Weight: 0.8800000000000001\n",
      "Error: 0.02822400000000005, Prediction: 0.9680000000000002\n",
      "Delta: 0.16800000000000015, Weight Delta: 0.1848000000000002\n",
      "----------------------------\n",
      "Iteration #2 Weight: 0.6951999999999999\n",
      "Error: 0.0012446784000000064, Prediction: 0.76472\n",
      "Delta: -0.03528000000000009, Weight Delta: -0.0388080000000001\n",
      "----------------------------\n",
      "Iteration #3 Weight: 0.734008\n",
      "Error: 5.4890317439999896e-05, Prediction: 0.8074088\n",
      "Delta: 0.007408799999999993, Weight Delta: 0.008149679999999992\n",
      "----------------------------\n",
      "Iteration #4 Weight: 0.72585832\n",
      "Error: 2.4206629991042546e-06, Prediction: 0.798444152\n",
      "Delta: -0.0015558480000000818, Weight Delta: -0.0017114328000000902\n",
      "----------------------------\n",
      "Iteration #5 Weight: 0.7275697528\n",
      "Error: 1.0675123826048965e-07, Prediction: 0.80032672808\n",
      "Delta: 0.00032672808000000497, Weight Delta: 0.0003594008880000055\n",
      "----------------------------\n",
      "Iteration #6 Weight: 0.727210351912\n",
      "Error: 4.707729607278605e-09, Prediction: 0.7999313871032001\n",
      "Delta: -6.861289679993554e-05, Weight Delta: -7.54741864799291e-05\n",
      "----------------------------\n",
      "Iteration #7 Weight: 0.7272858260984799\n",
      "Error: 2.0761087567900285e-10, Prediction: 0.800014408708328\n",
      "Delta: 1.440870832791763e-05, Weight Delta: 1.5849579160709395e-05\n",
      "----------------------------\n",
      "Iteration #8 Weight: 0.7272699765193192\n",
      "Error: 9.155639616953562e-12, Prediction: 0.7999969741712513\n",
      "Delta: -3.025828748781656e-06, Weight Delta: -3.328411623659822e-06\n",
      "----------------------------\n",
      "Iteration #9 Weight: 0.7272733049309429\n",
      "Error: 4.037637070074764e-13, Prediction: 0.8000006354240372\n",
      "Delta: 6.354240371653219e-07, Weight Delta: 6.989664408818542e-07\n",
      "----------------------------\n",
      "Iteration #10 Weight: 0.727272605964502\n",
      "Error: 1.7805979451178055e-14, Prediction: 0.7999998665609523\n",
      "Delta: -1.3343904770035664e-07, Weight Delta: -1.4678295247039232e-07\n",
      "----------------------------\n",
      "Iteration #11 Weight: 0.7272727527474545\n",
      "Error: 7.852436931125126e-16, Prediction: 0.8000000280222\n",
      "Delta: 2.802220000486244e-08, Weight Delta: 3.082442000534869e-08\n",
      "----------------------------\n",
      "Iteration #12 Weight: 0.7272727219230345\n",
      "Error: 3.4629247924654347e-17, Prediction: 0.799999994115338\n",
      "Delta: -5.8846620909491776e-09, Weight Delta: -6.473128300044096e-09\n",
      "----------------------------\n",
      "Iteration #13 Weight: 0.7272727283961627\n",
      "Error: 1.527149822501334e-18, Prediction: 0.8000000012357791\n",
      "Delta: 1.2357790346584352e-09, Weight Delta: 1.3593569381242788e-09\n",
      "----------------------------\n",
      "Iteration #14 Weight: 0.7272727270368058\n",
      "Error: 6.734732561186023e-20, Prediction: 0.7999999997404864\n",
      "Delta: -2.595136328054082e-10, Weight Delta: -2.85464996085949e-10\n",
      "----------------------------\n",
      "Iteration #15 Weight: 0.7272727273222708\n",
      "Error: 2.9700157283779774e-21, Prediction: 0.8000000000544979\n",
      "Delta: 5.4497850676682447e-11, Weight Delta: 5.99476357443507e-11\n",
      "----------------------------\n",
      "Iteration #16 Weight: 0.7272727272623232\n",
      "Error: 1.3097685502671811e-22, Prediction: 0.7999999999885555\n",
      "Delta: -1.1444512004743501e-11, Weight Delta: -1.2588963205217852e-11\n",
      "----------------------------\n",
      "Iteration #17 Weight: 0.7272727272749121\n",
      "Error: 5.7758498393064944e-24, Prediction: 0.8000000000024033\n",
      "Delta: 2.4032997814060764e-12, Weight Delta: 2.643629759546684e-12\n",
      "----------------------------\n",
      "Iteration #18 Weight: 0.7272727272722684\n",
      "Error: 2.5472954648691306e-25, Prediction: 0.7999999999994953\n",
      "Delta: -5.047073869945962e-13, Weight Delta: -5.551781256940558e-13\n",
      "----------------------------\n",
      "Iteration #19 Weight: 0.7272727272728237\n",
      "Error: 1.124157604819052e-26, Prediction: 0.8000000000001061\n",
      "Delta: 1.0602629885170245e-13, Weight Delta: 1.166289287368727e-13\n",
      "----------------------------\n",
      "Iteration #20 Weight: 0.7272727272727071\n",
      "Error: 4.930380657631324e-28, Prediction: 0.7999999999999778\n",
      "Delta: -2.220446049250313e-14, Weight Delta: -2.4424906541753447e-14\n",
      "----------------------------\n",
      "Iteration #21 Weight: 0.7272727272727315\n",
      "Error: 2.1742978700154138e-29, Prediction: 0.8000000000000047\n",
      "Delta: 4.6629367034256575e-15, Weight Delta: 5.1292303737682235e-15\n",
      "----------------------------\n",
      "Iteration #22 Weight: 0.7272727272727264\n",
      "Error: 7.888609052210118e-31, Prediction: 0.7999999999999992\n",
      "Delta: -8.881784197001252e-16, Weight Delta: -9.769962616701378e-16\n",
      "----------------------------\n",
      "Iteration #23 Weight: 0.7272727272727274\n",
      "Error: 1.232595164407831e-32, Prediction: 0.8000000000000002\n",
      "Delta: 1.1102230246251565e-16, Weight Delta: 1.2212453270876723e-16\n",
      "----------------------------\n",
      "Iteration #24 Weight: 0.7272727272727273\n",
      "Error: 0.0, Prediction: 0.8\n",
      "Delta: 0.0, Weight Delta: 0.0\n",
      "----------------------------\n",
      "Delta=0 for iteration #24\n"
     ]
    }
   ],
   "source": [
    "for iteration in range(100):\n",
    "    print(\"Iteration #{} Weight: {}\".format(iteration, weight))\n",
    "    pred = input * weight\n",
    "    error = (pred - goal_pred) ** 2\n",
    "    delta = pred - goal_pred\n",
    "    weight_delta = delta * input\n",
    "    weight -= weight_delta\n",
    "    errors.append(error)\n",
    "    weights.append(weight)\n",
    "    print(\"Error: {}, Prediction: {}\".format(error, pred))\n",
    "    print(\"Delta: {}, Weight Delta: {}\".format(delta, weight_delta))\n",
    "    print(\"----------------------------\")\n",
    "    if delta == 0:\n",
    "        print(\"Delta=0 for iteration #{}\".format(iteration))\n",
    "        break"
   ]
  },
  {
   "cell_type": "markdown",
   "metadata": {},
   "source": [
    "Good `matlibplot` tutorial [here](https://matplotlib.org/users/pyplot_tutorial.html)"
   ]
  },
  {
   "cell_type": "code",
   "execution_count": 26,
   "metadata": {},
   "outputs": [
    {
     "data": {
      "image/png": "[encoded data removed]",
      "text/plain": [
       "<Figure size 432x288 with 1 Axes>"
      ]
     },
     "metadata": {
      "needs_background": "light"
     },
     "output_type": "display_data"
    }
   ],
   "source": [
    "plt.plot(weights, errors)  #, 'ro')\n",
    "plt.xlabel('weights')\n",
    "plt.ylabel('errors')\n",
    "plt.title('Errors vs Weights')\n",
    "plt.grid(True)\n",
    "plt.show()"
   ]
  },
  {
   "cell_type": "code",
   "execution_count": null,
   "metadata": {},
   "outputs": [],
   "source": []
  }
 ],
 "metadata": {
  "kernelspec": {
   "display_name": "Python 3",
   "language": "python",
   "name": "python3"
  },
  "language_info": {
   "codemirror_mode": {
    "name": "ipython",
    "version": 3
   },
   "file_extension": ".py",
   "mimetype": "text/x-python",
   "name": "python",
   "nbconvert_exporter": "python",
   "pygments_lexer": "ipython3",
   "version": "3.7.0"
  }
 },
 "nbformat": 4,
 "nbformat_minor": 2
}
