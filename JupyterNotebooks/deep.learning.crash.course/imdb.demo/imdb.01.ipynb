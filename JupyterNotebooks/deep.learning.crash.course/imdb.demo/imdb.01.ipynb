{
 "cells": [
  {
   "cell_type": "markdown",
   "metadata": {},
   "source": [
    "## IMDB, binary classification example\n",
    "Page 68 and after"
   ]
  },
  {
   "cell_type": "code",
   "execution_count": 1,
   "metadata": {},
   "outputs": [
    {
     "name": "stderr",
     "output_type": "stream",
     "text": [
      "Using TensorFlow backend.\n"
     ]
    }
   ],
   "source": [
    "from keras.datasets import imdb"
   ]
  },
  {
   "cell_type": "code",
   "execution_count": 2,
   "metadata": {},
   "outputs": [],
   "source": [
    "(train_data, train_labels), (test_data, test_labels) = imdb.load_data(num_words=10000)"
   ]
  },
  {
   "cell_type": "code",
   "execution_count": 3,
   "metadata": {},
   "outputs": [
    {
     "name": "stdout",
     "output_type": "stream",
     "text": [
      "First set of train data:\n",
      "[1, 14, 22, 16, 43, 530, 973, 1622, 1385, 65, 458, 4468, 66, 3941, 4, 173, 36, 256, 5, 25, 100, 43, 838, 112, 50, 670, 2, 9, 35, 480, 284, 5, 150, 4, 172, 112, 167, 2, 336, 385, 39, 4, 172, 4536, 1111, 17, 546, 38, 13, 447, 4, 192, 50, 16, 6, 147, 2025, 19, 14, 22, 4, 1920, 4613, 469, 4, 22, 71, 87, 12, 16, 43, 530, 38, 76, 15, 13, 1247, 4, 22, 17, 515, 17, 12, 16, 626, 18, 2, 5, 62, 386, 12, 8, 316, 8, 106, 5, 4, 2223, 5244, 16, 480, 66, 3785, 33, 4, 130, 12, 16, 38, 619, 5, 25, 124, 51, 36, 135, 48, 25, 1415, 33, 6, 22, 12, 215, 28, 77, 52, 5, 14, 407, 16, 82, 2, 8, 4, 107, 117, 5952, 15, 256, 4, 2, 7, 3766, 5, 723, 36, 71, 43, 530, 476, 26, 400, 317, 46, 7, 4, 2, 1029, 13, 104, 88, 4, 381, 15, 297, 98, 32, 2071, 56, 26, 141, 6, 194, 7486, 18, 4, 226, 22, 21, 134, 476, 26, 480, 5, 144, 30, 5535, 18, 51, 36, 28, 224, 92, 25, 104, 4, 226, 65, 16, 38, 1334, 88, 12, 16, 283, 5, 16, 4472, 113, 103, 32, 15, 16, 5345, 19, 178, 32]\n",
      "(218 elements)\n"
     ]
    }
   ],
   "source": [
    "print(\"First set of train data:\\n{}\\n({} elements)\".format(train_data[0], len(train_data[0])))"
   ]
  },
  {
   "cell_type": "code",
   "execution_count": 4,
   "metadata": {},
   "outputs": [
    {
     "name": "stdout",
     "output_type": "stream",
     "text": [
      "First train label:\n",
      "[1 0 0 1 0 0 1 0 1 0]\n"
     ]
    }
   ],
   "source": [
    "print(\"First 10 train labels:\\n{}\".format(train_labels[0:10]))"
   ]
  },
  {
   "cell_type": "code",
   "execution_count": 5,
   "metadata": {},
   "outputs": [
    {
     "data": {
      "text/plain": [
       "9999"
      ]
     },
     "execution_count": 5,
     "metadata": {},
     "output_type": "execute_result"
    }
   ],
   "source": [
    "max([max(sequence) for sequence in train_data])  # should be 9999, 10000 - 1."
   ]
  },
  {
   "cell_type": "code",
   "execution_count": 6,
   "metadata": {},
   "outputs": [],
   "source": [
    "word_index = imdb.get_word_index()\n",
    "reverse_word_index = dict(\n",
    "    [(value, key) for (key, value) in word_index.items()])\n",
    "decoded_review = ' '.join([reverse_word_index.get(i - 3, '?') for i in train_data[0]])"
   ]
  },
  {
   "cell_type": "code",
   "execution_count": 7,
   "metadata": {},
   "outputs": [],
   "source": [
    "import numpy as np\n",
    "\n",
    "def vectorize_sequences(sequences, dimension=10000):\n",
    "    results = np.zeros((len(sequences), dimension))\n",
    "    for i, sequence in enumerate(sequences):\n",
    "        results[i, sequence] = 1\n",
    "    return results\n",
    "\n",
    "x_train = vectorize_sequences(train_data)\n",
    "x_test = vectorize_sequences(test_data)"
   ]
  },
  {
   "cell_type": "code",
   "execution_count": 8,
   "metadata": {},
   "outputs": [
    {
     "data": {
      "text/plain": [
       "array([0., 1., 1., ..., 0., 0., 0.])"
      ]
     },
     "execution_count": 8,
     "metadata": {},
     "output_type": "execute_result"
    }
   ],
   "source": [
    "x_train[0]"
   ]
  },
  {
   "cell_type": "code",
   "execution_count": 9,
   "metadata": {},
   "outputs": [],
   "source": [
    "y_train = np.asarray(train_labels).astype('float32')\n",
    "y_test = np.asarray(test_labels).astype('float32')"
   ]
  },
  {
   "cell_type": "markdown",
   "metadata": {},
   "source": [
    "#### Building the Model (Network)"
   ]
  },
  {
   "cell_type": "code",
   "execution_count": 26,
   "metadata": {},
   "outputs": [],
   "source": [
    "from keras import models\n",
    "from keras import layers\n",
    "\n",
    "activation = 'relu'  \n",
    "model = models.Sequential()\n",
    "model.add(layers.Dense(16, activation=activation, input_shape=(10000,)))   \n",
    "model.add(layers.Dense(16, activation=activation))\n",
    "model.add(layers.Dense(1, activation='sigmoid'))"
   ]
  },
  {
   "cell_type": "code",
   "execution_count": 27,
   "metadata": {},
   "outputs": [],
   "source": [
    "model.compile(optimizer='rmsprop',\n",
    "              loss='binary_crossentropy',\n",
    "              metrics=['accuracy'])"
   ]
  },
  {
   "cell_type": "markdown",
   "metadata": {},
   "source": [
    "##### Configuring the optimizers"
   ]
  },
  {
   "cell_type": "code",
   "execution_count": 28,
   "metadata": {},
   "outputs": [],
   "source": [
    "from keras import optimizers\n",
    "\n",
    "model.compile(optimizer=optimizers.RMSprop(lr=0.001),\n",
    "              loss='binary_crossentropy',\n",
    "              metrics=['accuracy'])"
   ]
  },
  {
   "cell_type": "code",
   "execution_count": 29,
   "metadata": {},
   "outputs": [],
   "source": [
    "from keras import losses\n",
    "from keras import metrics\n",
    "\n",
    "model.compile(optimizer=optimizers.RMSprop(lr=0.001),\n",
    "              loss=losses.binary_crossentropy,\n",
    "              metrics=[metrics.binary_accuracy])"
   ]
  },
  {
   "cell_type": "markdown",
   "metadata": {},
   "source": [
    "##### Validating the approach"
   ]
  },
  {
   "cell_type": "code",
   "execution_count": 30,
   "metadata": {},
   "outputs": [],
   "source": [
    "x_val = x_train[:10000]\n",
    "partial_x_train = x_train[10000:]\n",
    "\n",
    "y_val = y_train[:10000]\n",
    "partial_y_train = y_train[10000:]"
   ]
  },
  {
   "cell_type": "markdown",
   "metadata": {},
   "source": [
    "#### Let's go train it"
   ]
  },
  {
   "cell_type": "code",
   "execution_count": 31,
   "metadata": {},
   "outputs": [
    {
     "name": "stdout",
     "output_type": "stream",
     "text": [
      "Model: \"sequential_3\"\n",
      "_________________________________________________________________\n",
      "Layer (type)                 Output Shape              Param #   \n",
      "=================================================================\n",
      "dense_7 (Dense)              (None, 16)                160016    \n",
      "_________________________________________________________________\n",
      "dense_8 (Dense)              (None, 16)                272       \n",
      "_________________________________________________________________\n",
      "dense_9 (Dense)              (None, 1)                 17        \n",
      "=================================================================\n",
      "Total params: 160,305\n",
      "Trainable params: 160,305\n",
      "Non-trainable params: 0\n",
      "_________________________________________________________________\n",
      "Train on 15000 samples, validate on 10000 samples\n",
      "Epoch 1/20\n",
      "15000/15000 [==============================] - 5s 326us/step - loss: 0.5775 - acc: 0.7729 - val_loss: 0.4592 - val_acc: 0.8598\n",
      "Epoch 2/20\n",
      "15000/15000 [==============================] - 3s 169us/step - loss: 0.3757 - acc: 0.8897 - val_loss: 0.3515 - val_acc: 0.8788\n",
      "Epoch 3/20\n",
      "15000/15000 [==============================] - 3s 230us/step - loss: 0.2727 - acc: 0.9192 - val_loss: 0.2975 - val_acc: 0.8888\n",
      "Epoch 4/20\n",
      "15000/15000 [==============================] - 4s 265us/step - loss: 0.2130 - acc: 0.9332 - val_loss: 0.2788 - val_acc: 0.8902\n",
      "Epoch 5/20\n",
      "15000/15000 [==============================] - 4s 292us/step - loss: 0.1730 - acc: 0.9451 - val_loss: 0.2787 - val_acc: 0.8899\n",
      "Epoch 6/20\n",
      "15000/15000 [==============================] - 3s 232us/step - loss: 0.1432 - acc: 0.9559 - val_loss: 0.2800 - val_acc: 0.8875\n",
      "Epoch 7/20\n",
      "15000/15000 [==============================] - 3s 193us/step - loss: 0.1222 - acc: 0.9627 - val_loss: 0.2981 - val_acc: 0.8838\n",
      "Epoch 8/20\n",
      "15000/15000 [==============================] - 3s 193us/step - loss: 0.1012 - acc: 0.9711 - val_loss: 0.3088 - val_acc: 0.8816\n",
      "Epoch 9/20\n",
      "15000/15000 [==============================] - 3s 213us/step - loss: 0.0851 - acc: 0.9763 - val_loss: 0.3214 - val_acc: 0.8828\n",
      "Epoch 10/20\n",
      "15000/15000 [==============================] - 3s 172us/step - loss: 0.0717 - acc: 0.9815 - val_loss: 0.3420 - val_acc: 0.8790\n",
      "Epoch 11/20\n",
      "15000/15000 [==============================] - 3s 211us/step - loss: 0.0572 - acc: 0.9865 - val_loss: 0.3730 - val_acc: 0.8782\n",
      "Epoch 12/20\n",
      "15000/15000 [==============================] - 4s 242us/step - loss: 0.0469 - acc: 0.9893 - val_loss: 0.3925 - val_acc: 0.8786\n",
      "Epoch 13/20\n",
      "15000/15000 [==============================] - 4s 241us/step - loss: 0.0378 - acc: 0.9919 - val_loss: 0.4181 - val_acc: 0.8774\n",
      "Epoch 14/20\n",
      "15000/15000 [==============================] - 3s 212us/step - loss: 0.0294 - acc: 0.9951 - val_loss: 0.4510 - val_acc: 0.8734\n",
      "Epoch 15/20\n",
      "15000/15000 [==============================] - 3s 213us/step - loss: 0.0241 - acc: 0.9955 - val_loss: 0.4738 - val_acc: 0.8763\n",
      "Epoch 16/20\n",
      "15000/15000 [==============================] - 3s 217us/step - loss: 0.0187 - acc: 0.9971 - val_loss: 0.5060 - val_acc: 0.8733\n",
      "Epoch 17/20\n",
      "15000/15000 [==============================] - 4s 259us/step - loss: 0.0140 - acc: 0.9988 - val_loss: 0.5484 - val_acc: 0.8691\n",
      "Epoch 18/20\n",
      "15000/15000 [==============================] - 3s 180us/step - loss: 0.0096 - acc: 0.9992 - val_loss: 0.6044 - val_acc: 0.8659\n",
      "Epoch 19/20\n",
      "15000/15000 [==============================] - 2s 166us/step - loss: 0.0089 - acc: 0.9993 - val_loss: 0.6085 - val_acc: 0.8679\n",
      "Epoch 20/20\n",
      "15000/15000 [==============================] - 4s 261us/step - loss: 0.0069 - acc: 0.9989 - val_loss: 0.6364 - val_acc: 0.8687\n"
     ]
    }
   ],
   "source": [
    "model.compile(optimizer='rmsprop',  # mse or rmsprop\n",
    "              loss='binary_crossentropy',\n",
    "              metrics=['acc'])\n",
    "\n",
    "model.summary()\n",
    "\n",
    "history = model.fit(partial_x_train,\n",
    "                    partial_y_train,\n",
    "                    epochs=20,\n",
    "                    batch_size=512,\n",
    "                    validation_data=(x_val, y_val))"
   ]
  },
  {
   "cell_type": "code",
   "execution_count": 32,
   "metadata": {},
   "outputs": [
    {
     "name": "stdout",
     "output_type": "stream",
     "text": [
      "Keys dict_keys(['val_loss', 'val_acc', 'loss', 'acc'])\n"
     ]
    }
   ],
   "source": [
    "history_dict = history.history\n",
    "print(\"Keys {}\".format(history_dict.keys()))\n",
    "\n",
    "acc = history_dict['acc']"
   ]
  },
  {
   "cell_type": "code",
   "execution_count": 33,
   "metadata": {},
   "outputs": [
    {
     "data": {
      "image/png": "[encoded data removed]",
      "text/plain": [
       "<Figure size 432x288 with 1 Axes>"
      ]
     },
     "metadata": {
      "needs_background": "light"
     },
     "output_type": "display_data"
    }
   ],
   "source": [
    "import matplotlib.pyplot as plt\n",
    "\n",
    "history_dict = history.history\n",
    "loss_values = history_dict['loss']\n",
    "val_loss_values = history_dict['val_loss']\n",
    "\n",
    "epochs = range(1, len(acc) + 1)\n",
    "\n",
    "plt.plot(epochs, loss_values, 'bo', label='Training loss')  # 'bo' = \"blue dot\"\n",
    "plt.plot(epochs, val_loss_values, 'b', label='Validation loss')  # 'b' = \"solid blue line\"\n",
    "plt.title('Training and validation loss')\n",
    "plt.xlabel('Epoch')\n",
    "plt.ylabel('Loss')\n",
    "plt.legend()\n",
    "\n",
    "plt.show()"
   ]
  },
  {
   "cell_type": "code",
   "execution_count": 34,
   "metadata": {},
   "outputs": [
    {
     "data": {
      "image/png": "[encoded data removed]",
      "text/plain": [
       "<Figure size 432x288 with 1 Axes>"
      ]
     },
     "metadata": {
      "needs_background": "light"
     },
     "output_type": "display_data"
    }
   ],
   "source": [
    "plt.clf()  # Clear Figure\n",
    "acc_values = history_dict['acc']\n",
    "val_acc_values = history_dict['val_acc']\n",
    "\n",
    "plt.plot(epochs, acc_values, 'bo', label='Training acc')  # 'bo' = \"blue dot\"\n",
    "plt.plot(epochs, val_acc_values, 'b', label='Validation acc')  # 'b' = \"solid blue line\"\n",
    "plt.title('Training and validation accuracy')\n",
    "plt.xlabel('Epoch')\n",
    "plt.ylabel('Loss')\n",
    "plt.legend()\n",
    "\n",
    "plt.show()"
   ]
  },
  {
   "cell_type": "markdown",
   "metadata": {},
   "source": [
    "#### Retraining the model from scratch\n",
    "- Try changing activation type ('relu', 'tanh')\n",
    "- Try changing the number of layers\n",
    "- Tray changing the width of the layers (16, 32, 64)\n",
    "- Tri changing the optimizer ('rmsprop', 'mse')"
   ]
  },
  {
   "cell_type": "code",
   "execution_count": 55,
   "metadata": {},
   "outputs": [
    {
     "name": "stdout",
     "output_type": "stream",
     "text": [
      "Model: \"sequential_10\"\n",
      "_________________________________________________________________\n",
      "Layer (type)                 Output Shape              Param #   \n",
      "=================================================================\n",
      "dense_32 (Dense)             (None, 4)                 40004     \n",
      "_________________________________________________________________\n",
      "dense_33 (Dense)             (None, 4)                 20        \n",
      "_________________________________________________________________\n",
      "dense_34 (Dense)             (None, 4)                 20        \n",
      "_________________________________________________________________\n",
      "dense_35 (Dense)             (None, 4)                 20        \n",
      "_________________________________________________________________\n",
      "dense_36 (Dense)             (None, 1)                 5         \n",
      "=================================================================\n",
      "Total params: 40,069\n",
      "Trainable params: 40,069\n",
      "Non-trainable params: 0\n",
      "_________________________________________________________________\n",
      "Train on 25000 samples, validate on 10000 samples\n",
      "Epoch 1/10\n",
      "25000/25000 [==============================] - 6s 229us/step - loss: 0.6012 - acc: 0.7002 - val_loss: 0.5113 - val_acc: 0.8410\n",
      "Epoch 2/10\n",
      "25000/25000 [==============================] - 3s 135us/step - loss: 0.4821 - acc: 0.8607 - val_loss: 0.4407 - val_acc: 0.9154\n",
      "Epoch 3/10\n",
      "25000/25000 [==============================] - 4s 141us/step - loss: 0.4304 - acc: 0.9052 - val_loss: 0.4023 - val_acc: 0.9109\n",
      "Epoch 4/10\n",
      "25000/25000 [==============================] - 3s 125us/step - loss: 0.3977 - acc: 0.9261 - val_loss: 0.3827 - val_acc: 0.9564\n",
      "Epoch 5/10\n",
      "25000/25000 [==============================] - 4s 179us/step - loss: 0.3734 - acc: 0.9383 - val_loss: 0.3520 - val_acc: 0.9600\n",
      "Epoch 6/10\n",
      "25000/25000 [==============================] - 3s 136us/step - loss: 0.3524 - acc: 0.9467 - val_loss: 0.3355 - val_acc: 0.9498\n",
      "Epoch 7/10\n",
      "25000/25000 [==============================] - 3s 125us/step - loss: 0.3354 - acc: 0.9510 - val_loss: 0.3291 - val_acc: 0.9663\n",
      "Epoch 8/10\n",
      "25000/25000 [==============================] - 4s 158us/step - loss: 0.3183 - acc: 0.9568 - val_loss: 0.3141 - val_acc: 0.9683\n",
      "Epoch 9/10\n",
      "25000/25000 [==============================] - 4s 157us/step - loss: 0.3051 - acc: 0.9593 - val_loss: 0.2930 - val_acc: 0.9731\n",
      "Epoch 10/10\n",
      "25000/25000 [==============================] - 3s 134us/step - loss: 0.2924 - acc: 0.9613 - val_loss: 0.2803 - val_acc: 0.9745\n",
      "25000/25000 [==============================] - 3s 115us/step\n"
     ]
    },
    {
     "data": {
      "text/plain": [
       "[0.5222051197242736, 0.86224]"
      ]
     },
     "execution_count": 55,
     "metadata": {},
     "output_type": "execute_result"
    }
   ],
   "source": [
    "activation = 'relu'    # relu, tanh?\n",
    "optimizer = 'rmsprop'  # 'rmsprop, mse?'\n",
    "width = 4             # 4, 8, 16, 32, 64?\n",
    "hidden_layers = 3      # 1, 2, 3?\n",
    "\n",
    "model = models.Sequential()\n",
    "model.add(layers.Dense(width, activation=activation, input_shape=(10000,)))  \n",
    "for i in range(hidden_layers):\n",
    "    model.add(layers.Dense(width, activation=activation))\n",
    "model.add(layers.Dense(1, activation='sigmoid'))\n",
    "\n",
    "model.compile(optimizer=optimizer,\n",
    "              loss='binary_crossentropy',\n",
    "              metrics=['accuracy'])\n",
    "\n",
    "model.summary()\n",
    "\n",
    "history = model.fit(x_train, \n",
    "                    y_train,\n",
    "                    epochs=10,  # 4\n",
    "                    batch_size=512,\n",
    "                    validation_data=(x_val, y_val))\n",
    "results = model.evaluate(x_test, y_test)\n",
    "print(\"Evaluation results: {}\".format(results))"
   ]
  },
  {
   "cell_type": "markdown",
   "metadata": {},
   "source": [
    "###### Redraw the graphs"
   ]
  },
  {
   "cell_type": "code",
   "execution_count": 56,
   "metadata": {},
   "outputs": [
    {
     "name": "stdout",
     "output_type": "stream",
     "text": [
      "Keys dict_keys(['val_loss', 'val_acc', 'loss', 'acc'])\n"
     ]
    }
   ],
   "source": [
    "history_dict = history.history\n",
    "print(\"Keys {}\".format(history_dict.keys()))\n",
    "\n",
    "acc = history_dict['acc']"
   ]
  },
  {
   "cell_type": "code",
   "execution_count": 57,
   "metadata": {},
   "outputs": [
    {
     "data": {
      "image/png": "[encoded data removed]",
      "text/plain": [
       "<Figure size 432x288 with 1 Axes>"
      ]
     },
     "metadata": {
      "needs_background": "light"
     },
     "output_type": "display_data"
    }
   ],
   "source": [
    "history_dict = history.history\n",
    "\n",
    "loss_values = history_dict['loss']\n",
    "val_loss_values = history_dict['val_loss']\n",
    "\n",
    "epochs = range(1, len(acc) + 1)\n",
    "\n",
    "plt.plot(epochs, loss_values, 'bo', label='Training loss')  # 'bo' = \"blue dot\"\n",
    "plt.plot(epochs, val_loss_values, 'b', label='Validation loss')  # 'b' = \"solid blue line\"\n",
    "plt.title('Training and validation loss')\n",
    "plt.xlabel('Epoch')\n",
    "plt.ylabel('Loss')\n",
    "plt.legend()\n",
    "\n",
    "plt.show()"
   ]
  },
  {
   "cell_type": "code",
   "execution_count": 58,
   "metadata": {},
   "outputs": [
    {
     "data": {
      "image/png": "[encoded data removed]",
      "text/plain": [
       "<Figure size 432x288 with 1 Axes>"
      ]
     },
     "metadata": {
      "needs_background": "light"
     },
     "output_type": "display_data"
    }
   ],
   "source": [
    "plt.clf()  # Clear Figure\n",
    "acc_values = history_dict['acc']\n",
    "val_acc_values = history_dict['val_acc']\n",
    "\n",
    "plt.plot(epochs, acc_values, 'bo', label='Training acc')  # 'bo' = \"blue dot\"\n",
    "plt.plot(epochs, val_acc_values, 'b', label='Validation acc')  # 'b' = \"solid blue line\"\n",
    "plt.title('Training and validation accuracy')\n",
    "plt.xlabel('Epoch')\n",
    "plt.ylabel('Loss')\n",
    "plt.legend()\n",
    "\n",
    "plt.show()"
   ]
  },
  {
   "cell_type": "code",
   "execution_count": 61,
   "metadata": {},
   "outputs": [
    {
     "name": "stdout",
     "output_type": "stream",
     "text": [
      "Predictions:\n",
      "[[0.10889244]\n",
      " [0.6210218 ]\n",
      " [0.06134588]\n",
      " ...\n",
      " [0.01628008]\n",
      " [0.01807708]\n",
      " [0.49428973]]\n"
     ]
    }
   ],
   "source": [
    "prediction = model.predict(x_test)\n",
    "print(\"Predictions:\\n{}\".format(prediction))"
   ]
  },
  {
   "cell_type": "code",
   "execution_count": null,
   "metadata": {},
   "outputs": [],
   "source": []
  }
 ],
 "metadata": {
  "kernelspec": {
   "display_name": "Python 3",
   "language": "python",
   "name": "python3"
  },
  "language_info": {
   "codemirror_mode": {
    "name": "ipython",
    "version": 3
   },
   "file_extension": ".py",
   "mimetype": "text/x-python",
   "name": "python",
   "nbconvert_exporter": "python",
   "pygments_lexer": "ipython3",
   "version": "3.7.0"
  }
 },
 "nbformat": 4,
 "nbformat_minor": 2
}
