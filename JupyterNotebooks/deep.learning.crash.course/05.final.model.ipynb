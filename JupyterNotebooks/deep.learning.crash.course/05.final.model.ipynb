{
 "cells": [
  {
   "cell_type": "markdown",
   "metadata": {
    "colab_type": "text",
    "id": "UVO0p5dnEGks"
   },
   "source": [
    "# Our final model"
   ]
  },
  {
   "cell_type": "code",
   "execution_count": 1,
   "metadata": {
    "colab": {},
    "colab_type": "code",
    "id": "jg3M3q9oEGkv"
   },
   "outputs": [],
   "source": [
    "import warnings\n",
    "warnings.filterwarnings('ignore')"
   ]
  },
  {
   "cell_type": "code",
   "execution_count": 2,
   "metadata": {
    "colab": {
     "base_uri": "https://localhost:8080/",
     "height": 34
    },
    "colab_type": "code",
    "id": "BgRmy8QPEGkz",
    "outputId": "bced6f5d-7d1f-4d0e-e286-3a9a38736232"
   },
   "outputs": [
    {
     "name": "stdout",
     "output_type": "stream",
     "text": [
      "Populating the interactive namespace from numpy and matplotlib\n"
     ]
    }
   ],
   "source": [
    "%matplotlib inline\n",
    "%pylab inline\n",
    "import matplotlib.pyplot as plt"
   ]
  },
  {
   "cell_type": "code",
   "execution_count": 3,
   "metadata": {
    "colab": {
     "base_uri": "https://localhost:8080/",
     "height": 34
    },
    "colab_type": "code",
    "id": "VwfByNsHEGk5",
    "outputId": "54f148a5-404c-4852-fd0b-a05376c93ed2"
   },
   "outputs": [
    {
     "name": "stdout",
     "output_type": "stream",
     "text": [
      "0.23.4\n"
     ]
    }
   ],
   "source": [
    "import pandas as pd\n",
    "print(pd.__version__)"
   ]
  },
  {
   "cell_type": "code",
   "execution_count": 4,
   "metadata": {
    "colab": {
     "base_uri": "https://localhost:8080/",
     "height": 34
    },
    "colab_type": "code",
    "id": "PrM2tBVMEGk-",
    "outputId": "9d6423a9-7cff-47b2-df0e-914aa4a3be29"
   },
   "outputs": [
    {
     "name": "stdout",
     "output_type": "stream",
     "text": [
      "1.13.1\n"
     ]
    }
   ],
   "source": [
    "import tensorflow as tf\n",
    "tf.logging.set_verbosity(tf.logging.ERROR)\n",
    "print(tf.__version__)"
   ]
  },
  {
   "cell_type": "code",
   "execution_count": 5,
   "metadata": {
    "colab": {
     "base_uri": "https://localhost:8080/",
     "height": 51
    },
    "colab_type": "code",
    "id": "GVRfbgW2EGlB",
    "outputId": "4993aba2-ad0e-49f9-a753-e975a6d40f14"
   },
   "outputs": [
    {
     "name": "stdout",
     "output_type": "stream",
     "text": [
      "/job:localhost/replica:0/task:0/device:CPU:0\n"
     ]
    }
   ],
   "source": [
    "# let's see what compute devices we have available, hopefully a GPU \n",
    "sess = tf.Session()\n",
    "devices = sess.list_devices()\n",
    "for d in devices:\n",
    "    print(d.name)"
   ]
  },
  {
   "cell_type": "code",
   "execution_count": 6,
   "metadata": {
    "colab": {
     "base_uri": "https://localhost:8080/",
     "height": 34
    },
    "colab_type": "code",
    "id": "8BxAyvYeEGlF",
    "outputId": "20d6ad60-be5a-4a00-a686-0661f44daeaa"
   },
   "outputs": [
    {
     "name": "stdout",
     "output_type": "stream",
     "text": [
      "b'Hello TF!'\n"
     ]
    }
   ],
   "source": [
    "# a small sanity check, does tf seem to work ok?\n",
    "hello = tf.constant('Hello TF!')\n",
    "print(sess.run(hello))"
   ]
  },
  {
   "cell_type": "code",
   "execution_count": 7,
   "metadata": {
    "colab": {
     "base_uri": "https://localhost:8080/",
     "height": 34
    },
    "colab_type": "code",
    "id": "ccv-63JREGlK",
    "outputId": "24fbcba2-6d6c-4470-9758-bd4a02af6a1a"
   },
   "outputs": [
    {
     "name": "stdout",
     "output_type": "stream",
     "text": [
      "2.2.4-tf\n"
     ]
    }
   ],
   "source": [
    "from tensorflow import keras\n",
    "print(keras.__version__)"
   ]
  },
  {
   "cell_type": "markdown",
   "metadata": {
    "colab_type": "text",
    "id": "YKwki1IaEGlN"
   },
   "source": [
    "## Loading and preparing our data set for classification\n",
    "> Note: curl behind a firewall: `curl -x http://www-proxy.us.oracle.com:80 -O https://raw.githubusercontent...`"
   ]
  },
  {
   "cell_type": "code",
   "execution_count": 8,
   "metadata": {
    "colab": {
     "base_uri": "https://localhost:8080/",
     "height": 68
    },
    "colab_type": "code",
    "id": "K7dNSqEOEGlO",
    "outputId": "f7f1f9a7-29fa-4e73-9c31-a81d562f66fd"
   },
   "outputs": [
    {
     "name": "stdout",
     "output_type": "stream",
     "text": [
      "  % Total    % Received % Xferd  Average Speed   Time    Time     Time  Current\n",
      "                                 Dload  Upload   Total   Spent    Left  Speed\n",
      "100 26783  100 26783    0     0  72978      0 --:--:-- --:--:-- --:--:-- 72779\n"
     ]
    }
   ],
   "source": [
    "!curl -O https://raw.githubusercontent.com/DJCordhose/deep-learning-crash-course-notebooks/master/data/insurance-customers-1500.csv"
   ]
  },
  {
   "cell_type": "code",
   "execution_count": 1,
   "metadata": {},
   "outputs": [
    {
     "name": "stdout",
     "output_type": "stream",
     "text": [
      "    1501\r\n"
     ]
    }
   ],
   "source": [
    "!cat ./insurance-customers-1500.csv | wc -l"
   ]
  },
  {
   "cell_type": "code",
   "execution_count": 12,
   "metadata": {},
   "outputs": [
    {
     "name": "stdout",
     "output_type": "stream",
     "text": [
      "speed;age;miles;group\r\n",
      "98.0;44.0;25.0;1\r\n",
      "118.0;54.0;24.0;1\r\n",
      "111.0;26.0;34.0;0\r\n",
      "97.0;25.0;10.0;2\r\n",
      "114.0;38.0;22.0;1\r\n",
      "130.0;55.0;34.0;0\r\n",
      "118.0;40.0;51.0;0\r\n",
      "143.0;42.0;34.0;1\r\n",
      "120.0;41.0;42.0;2\r\n"
     ]
    }
   ],
   "source": [
    "!head ./insurance-customers-1500.csv"
   ]
  },
  {
   "cell_type": "code",
   "execution_count": 13,
   "metadata": {
    "colab": {},
    "colab_type": "code",
    "id": "Nk250kDKEGlS"
   },
   "outputs": [],
   "source": [
    "df = pd.read_csv('./insurance-customers-1500.csv', sep=';')\n",
    "y=df['group']                                   # Isolate output data\n",
    "df.drop('group', axis='columns', inplace=True)  # We drop the 'group' (last column, 0, 1, or 2) from the input data\n",
    "X = df.as_matrix()"
   ]
  },
  {
   "cell_type": "code",
   "execution_count": 14,
   "metadata": {
    "colab": {
     "base_uri": "https://localhost:8080/",
     "height": 204
    },
    "colab_type": "code",
    "id": "uwlx0rhIEGlV",
    "outputId": "6af3011c-5bd8-43a2-f3e1-fd6a47456b60"
   },
   "outputs": [
    {
     "data": {
      "text/html": [
       "<div>\n",
       "<style scoped>\n",
       "    .dataframe tbody tr th:only-of-type {\n",
       "        vertical-align: middle;\n",
       "    }\n",
       "\n",
       "    .dataframe tbody tr th {\n",
       "        vertical-align: top;\n",
       "    }\n",
       "\n",
       "    .dataframe thead th {\n",
       "        text-align: right;\n",
       "    }\n",
       "</style>\n",
       "<table border=\"1\" class=\"dataframe\">\n",
       "  <thead>\n",
       "    <tr style=\"text-align: right;\">\n",
       "      <th></th>\n",
       "      <th>speed</th>\n",
       "      <th>age</th>\n",
       "      <th>miles</th>\n",
       "    </tr>\n",
       "  </thead>\n",
       "  <tbody>\n",
       "    <tr>\n",
       "      <th>0</th>\n",
       "      <td>98.0</td>\n",
       "      <td>44.0</td>\n",
       "      <td>25.0</td>\n",
       "    </tr>\n",
       "    <tr>\n",
       "      <th>1</th>\n",
       "      <td>118.0</td>\n",
       "      <td>54.0</td>\n",
       "      <td>24.0</td>\n",
       "    </tr>\n",
       "    <tr>\n",
       "      <th>2</th>\n",
       "      <td>111.0</td>\n",
       "      <td>26.0</td>\n",
       "      <td>34.0</td>\n",
       "    </tr>\n",
       "    <tr>\n",
       "      <th>3</th>\n",
       "      <td>97.0</td>\n",
       "      <td>25.0</td>\n",
       "      <td>10.0</td>\n",
       "    </tr>\n",
       "    <tr>\n",
       "      <th>4</th>\n",
       "      <td>114.0</td>\n",
       "      <td>38.0</td>\n",
       "      <td>22.0</td>\n",
       "    </tr>\n",
       "  </tbody>\n",
       "</table>\n",
       "</div>"
      ],
      "text/plain": [
       "   speed   age  miles\n",
       "0   98.0  44.0   25.0\n",
       "1  118.0  54.0   24.0\n",
       "2  111.0  26.0   34.0\n",
       "3   97.0  25.0   10.0\n",
       "4  114.0  38.0   22.0"
      ]
     },
     "execution_count": 14,
     "metadata": {},
     "output_type": "execute_result"
    }
   ],
   "source": [
    "df.head()"
   ]
  },
  {
   "cell_type": "code",
   "execution_count": 15,
   "metadata": {
    "colab": {
     "base_uri": "https://localhost:8080/",
     "height": 297
    },
    "colab_type": "code",
    "id": "5x6mzzwzEGla",
    "outputId": "228bc77f-0aa7-4266-d162-0f386ba68f6d"
   },
   "outputs": [
    {
     "data": {
      "text/html": [
       "<div>\n",
       "<style scoped>\n",
       "    .dataframe tbody tr th:only-of-type {\n",
       "        vertical-align: middle;\n",
       "    }\n",
       "\n",
       "    .dataframe tbody tr th {\n",
       "        vertical-align: top;\n",
       "    }\n",
       "\n",
       "    .dataframe thead th {\n",
       "        text-align: right;\n",
       "    }\n",
       "</style>\n",
       "<table border=\"1\" class=\"dataframe\">\n",
       "  <thead>\n",
       "    <tr style=\"text-align: right;\">\n",
       "      <th></th>\n",
       "      <th>speed</th>\n",
       "      <th>age</th>\n",
       "      <th>miles</th>\n",
       "    </tr>\n",
       "  </thead>\n",
       "  <tbody>\n",
       "    <tr>\n",
       "      <th>count</th>\n",
       "      <td>1500.000000</td>\n",
       "      <td>1500.000000</td>\n",
       "      <td>1500.000000</td>\n",
       "    </tr>\n",
       "    <tr>\n",
       "      <th>mean</th>\n",
       "      <td>122.492667</td>\n",
       "      <td>44.980667</td>\n",
       "      <td>30.434000</td>\n",
       "    </tr>\n",
       "    <tr>\n",
       "      <th>std</th>\n",
       "      <td>17.604333</td>\n",
       "      <td>17.130400</td>\n",
       "      <td>15.250815</td>\n",
       "    </tr>\n",
       "    <tr>\n",
       "      <th>min</th>\n",
       "      <td>68.000000</td>\n",
       "      <td>16.000000</td>\n",
       "      <td>1.000000</td>\n",
       "    </tr>\n",
       "    <tr>\n",
       "      <th>25%</th>\n",
       "      <td>108.000000</td>\n",
       "      <td>32.000000</td>\n",
       "      <td>18.000000</td>\n",
       "    </tr>\n",
       "    <tr>\n",
       "      <th>50%</th>\n",
       "      <td>120.000000</td>\n",
       "      <td>42.000000</td>\n",
       "      <td>29.000000</td>\n",
       "    </tr>\n",
       "    <tr>\n",
       "      <th>75%</th>\n",
       "      <td>137.000000</td>\n",
       "      <td>55.000000</td>\n",
       "      <td>42.000000</td>\n",
       "    </tr>\n",
       "    <tr>\n",
       "      <th>max</th>\n",
       "      <td>166.000000</td>\n",
       "      <td>100.000000</td>\n",
       "      <td>84.000000</td>\n",
       "    </tr>\n",
       "  </tbody>\n",
       "</table>\n",
       "</div>"
      ],
      "text/plain": [
       "             speed          age        miles\n",
       "count  1500.000000  1500.000000  1500.000000\n",
       "mean    122.492667    44.980667    30.434000\n",
       "std      17.604333    17.130400    15.250815\n",
       "min      68.000000    16.000000     1.000000\n",
       "25%     108.000000    32.000000    18.000000\n",
       "50%     120.000000    42.000000    29.000000\n",
       "75%     137.000000    55.000000    42.000000\n",
       "max     166.000000   100.000000    84.000000"
      ]
     },
     "execution_count": 15,
     "metadata": {},
     "output_type": "execute_result"
    }
   ],
   "source": [
    "df.describe()"
   ]
  },
  {
   "cell_type": "code",
   "execution_count": 16,
   "metadata": {
    "colab": {},
    "colab_type": "code",
    "id": "aYtgkKOQEGlf"
   },
   "outputs": [],
   "source": [
    "from sklearn.model_selection import train_test_split"
   ]
  },
  {
   "cell_type": "markdown",
   "metadata": {},
   "source": [
    "Below, we split the data, into Training Data Set, and Test Data Set."
   ]
  },
  {
   "cell_type": "code",
   "execution_count": 17,
   "metadata": {
    "colab": {},
    "colab_type": "code",
    "id": "KBf3NAexEGlh"
   },
   "outputs": [],
   "source": [
    "X_train, X_test, y_train, y_test = train_test_split(X, y, test_size=0.4, random_state=42, stratify=y)"
   ]
  },
  {
   "cell_type": "code",
   "execution_count": 18,
   "metadata": {
    "colab": {
     "base_uri": "https://localhost:8080/",
     "height": 34
    },
    "colab_type": "code",
    "id": "WitUAVOoEGlk",
    "outputId": "ba897eac-0883-458b-d101-0e7404d0dde7"
   },
   "outputs": [
    {
     "data": {
      "text/plain": [
       "((900, 3), (900,), (600, 3), (600,))"
      ]
     },
     "execution_count": 18,
     "metadata": {},
     "output_type": "execute_result"
    }
   ],
   "source": [
    "X_train.shape, y_train.shape, X_test.shape, y_test.shape"
   ]
  },
  {
   "cell_type": "code",
   "execution_count": 19,
   "metadata": {
    "colab": {},
    "colab_type": "code",
    "id": "BfbyWr1VEGls"
   },
   "outputs": [],
   "source": [
    "# ignore this, it is just technical code to plot decision boundaries\n",
    "# Adapted from:\n",
    "# http://scikit-learn.org/stable/auto_examples/neighbors/plot_classification.html\n",
    "# http://jponttuset.cat/xkcd-deep-learning/\n",
    "\n",
    "def plot_history(history, samples=100, init_phase_samples=None, plot_line=False):\n",
    "    epochs = history.params['epochs']\n",
    "    \n",
    "    acc = history.history['acc']\n",
    "    val_acc = history.history['val_acc']\n",
    "    loss = history.history['loss']\n",
    "    val_loss = history.history['val_loss']\n",
    "\n",
    "    every_sample =  int(epochs / samples)\n",
    "    acc = pd.DataFrame(acc).iloc[::every_sample, :]\n",
    "    val_acc = pd.DataFrame(val_acc).iloc[::every_sample, :]\n",
    "    loss = pd.DataFrame(loss).iloc[::every_sample, :]\n",
    "    val_loss = pd.DataFrame(val_loss).iloc[::every_sample, :]\n",
    "\n",
    "    if init_phase_samples:\n",
    "        acc = acc.loc[init_phase_samples:]\n",
    "        val_acc = val_acc.loc[init_phase_samples:]\n",
    "        loss = loss.loc[init_phase_samples:]\n",
    "        val_loss = val_loss.loc[init_phase_samples:]\n",
    "    \n",
    "    fig, ax = plt.subplots(nrows=2, figsize=(20,10))\n",
    "\n",
    "    ax[0].plot(acc, 'bo', label='Training acc')\n",
    "    ax[0].plot(val_acc, 'b', label='Validation acc')\n",
    "    ax[0].set_title('Training and validation accuracy')\n",
    "    ax[0].legend()\n",
    "    \n",
    "    if plot_line:\n",
    "        x, y, _ = linear_regression(acc)\n",
    "        ax[0].plot(x, y, 'bo', color='red')\n",
    "        x, y, _ = linear_regression(val_acc)\n",
    "        ax[0].plot(x, y, 'b', color='red')\n",
    "    \n",
    "    ax[1].plot(loss, 'bo', label='Training loss')\n",
    "    ax[1].plot(val_loss, 'b', label='Validation loss')\n",
    "    ax[1].set_title('Training and validation loss')\n",
    "    ax[1].legend()\n",
    "    \n",
    "    if plot_line:\n",
    "        x, y, _ = linear_regression(loss)\n",
    "        ax[1].plot(x, y, 'bo', color='red')\n",
    "        x, y, _ = linear_regression(val_loss)\n",
    "        ax[1].plot(x, y, 'b', color='red')\n",
    "    \n",
    "from sklearn import linear_model\n",
    "\n",
    "def linear_regression(data):\n",
    "    x = np.array(data.index).reshape(-1, 1)\n",
    "    y = data.values.reshape(-1, 1)\n",
    "\n",
    "    regr = linear_model.LinearRegression()\n",
    "    regr.fit(x, y)\n",
    "    y_pred = regr.predict(x)\n",
    "    return x, y_pred, regr.coef_"
   ]
  },
  {
   "cell_type": "markdown",
   "metadata": {
    "colab_type": "text",
    "id": "xx8hmXoHEGlx"
   },
   "source": [
    "## Almost all real-life scenarios have many more than 2 inputs\n",
    "* With more than 2 input features plotting decision boundaries does not make much sense any more\n",
    "* From now on we work with 3 features and only rely on accuracy measures"
   ]
  },
  {
   "cell_type": "code",
   "execution_count": 24,
   "metadata": {
    "colab": {
     "base_uri": "https://localhost:8080/",
     "height": 442
    },
    "colab_type": "code",
    "id": "oynT3LNDEGlx",
    "outputId": "c0f4cfa4-84c9-4cb4-99ce-47e1fd6ae04d"
   },
   "outputs": [
    {
     "name": "stdout",
     "output_type": "stream",
     "text": [
      "_________________________________________________________________\n",
      "Layer (type)                 Output Shape              Param #   \n",
      "=================================================================\n",
      "hidden1 (Dense)              (None, 100)               400       \n",
      "_________________________________________________________________\n",
      "batch_normalization_v1_2 (Ba (None, 100)               400       \n",
      "_________________________________________________________________\n",
      "activation_2 (Activation)    (None, 100)               0         \n",
      "_________________________________________________________________\n",
      "dropout_2 (Dropout)          (None, 100)               0         \n",
      "_________________________________________________________________\n",
      "hidden2 (Dense)              (None, 100)               10100     \n",
      "_________________________________________________________________\n",
      "batch_normalization_v1_3 (Ba (None, 100)               400       \n",
      "_________________________________________________________________\n",
      "activation_3 (Activation)    (None, 100)               0         \n",
      "_________________________________________________________________\n",
      "dropout_3 (Dropout)          (None, 100)               0         \n",
      "_________________________________________________________________\n",
      "softmax (Dense)              (None, 3)                 303       \n",
      "=================================================================\n",
      "Total params: 11,603\n",
      "Trainable params: 11,203\n",
      "Non-trainable params: 400\n",
      "_________________________________________________________________\n"
     ]
    }
   ],
   "source": [
    "from tensorflow.keras.layers import Dense, Dropout, BatchNormalization, Activation\n",
    "\n",
    "num_categories = 3\n",
    "dropout = 0.6\n",
    "# Define the model here\n",
    "model = keras.Sequential()\n",
    "\n",
    "model.add(Dense(100, name='hidden1', input_dim=3))\n",
    "model.add(BatchNormalization())\n",
    "model.add(Activation('relu'))\n",
    "model.add(Dropout(dropout))\n",
    "\n",
    "model.add(Dense(100, name='hidden2'))\n",
    "model.add(BatchNormalization())\n",
    "model.add(Activation('relu'))\n",
    "model.add(Dropout(dropout))\n",
    "\n",
    "model.add(Dense(num_categories, name='softmax', activation='softmax'))\n",
    "\n",
    "# Compile it\n",
    "model.compile(loss='sparse_categorical_crossentropy',\n",
    "             optimizer='adam',\n",
    "             metrics=['accuracy'])\n",
    "model.summary()"
   ]
  },
  {
   "cell_type": "markdown",
   "metadata": {
    "colab_type": "text",
    "id": "7rDoO3UVEGl1"
   },
   "source": [
    "### We also limit the number of epochs further to 2000 (because we have seen that after that nothing good is going to happen)"
   ]
  },
  {
   "cell_type": "markdown",
   "metadata": {},
   "source": [
    "Actual training happens right here:"
   ]
  },
  {
   "cell_type": "code",
   "execution_count": 25,
   "metadata": {
    "colab": {
     "base_uri": "https://localhost:8080/",
     "height": 51
    },
    "colab_type": "code",
    "id": "Hz3RRQQAEGl2",
    "outputId": "ba8cdcc6-fae3-4158-ef96-f86f0edf4803"
   },
   "outputs": [
    {
     "name": "stdout",
     "output_type": "stream",
     "text": [
      "CPU times: user 38.8 s, sys: 6.85 s, total: 45.7 s\n",
      "Wall time: 26.9 s\n"
     ]
    }
   ],
   "source": [
    "BATCH_SIZE=1000\n",
    "EPOCHS = 2000\n",
    "\n",
    "%time history = model.fit(X_train, y_train, epochs=EPOCHS, batch_size=BATCH_SIZE, validation_split=0.2, verbose=0)"
   ]
  },
  {
   "cell_type": "markdown",
   "metadata": {},
   "source": [
    "Now let's see how good the model is:"
   ]
  },
  {
   "cell_type": "code",
   "execution_count": 26,
   "metadata": {
    "colab": {
     "base_uri": "https://localhost:8080/",
     "height": 51
    },
    "colab_type": "code",
    "id": "mTw4tcllEGmA",
    "outputId": "614498c9-61eb-413b-8755-7fbcd8323b2e"
   },
   "outputs": [
    {
     "name": "stdout",
     "output_type": "stream",
     "text": [
      "\r",
      "900/900 [==============================] - 0s 6us/sample - loss: 0.4886 - acc: 0.8078\n"
     ]
    },
    {
     "data": {
      "text/plain": [
       "(0.4886113703250885, 0.80777776)"
      ]
     },
     "execution_count": 26,
     "metadata": {},
     "output_type": "execute_result"
    }
   ],
   "source": [
    "train_loss, train_accuracy = model.evaluate(X_train, y_train, batch_size=BATCH_SIZE)\n",
    "train_loss, train_accuracy"
   ]
  },
  {
   "cell_type": "code",
   "execution_count": 27,
   "metadata": {
    "colab": {
     "base_uri": "https://localhost:8080/",
     "height": 51
    },
    "colab_type": "code",
    "id": "Dpk5C_k5EGmF",
    "outputId": "a28b4ef7-40cf-4e51-8dfd-a8da42f47448"
   },
   "outputs": [
    {
     "name": "stdout",
     "output_type": "stream",
     "text": [
      "\r",
      "600/600 [==============================] - 0s 6us/sample - loss: 0.5252 - acc: 0.7967\n"
     ]
    },
    {
     "data": {
      "text/plain": [
       "(0.5252487063407898, 0.7966667)"
      ]
     },
     "execution_count": 27,
     "metadata": {},
     "output_type": "execute_result"
    }
   ],
   "source": [
    "test_loss, test_accuracy = model.evaluate(X_test, y_test, batch_size=BATCH_SIZE)\n",
    "test_loss, test_accuracy"
   ]
  },
  {
   "cell_type": "code",
   "execution_count": 28,
   "metadata": {
    "colab": {
     "base_uri": "https://localhost:8080/",
     "height": 606
    },
    "colab_type": "code",
    "id": "d8x9kNbyEGmM",
    "outputId": "153322f7-3a77-49d0-ad49-dd315fb2920b"
   },
   "outputs": [
    {
     "data": {
      "image/png": "[encoded data removed]",
      "text/plain": [
       "<Figure size 1440x720 with 2 Axes>"
      ]
     },
     "metadata": {
      "needs_background": "light"
     },
     "output_type": "display_data"
    }
   ],
   "source": [
    "plot_history(history)"
   ]
  },
  {
   "cell_type": "code",
   "execution_count": 29,
   "metadata": {
    "colab": {
     "base_uri": "https://localhost:8080/",
     "height": 606
    },
    "colab_type": "code",
    "id": "wplkepEuEGmQ",
    "outputId": "a7201ae4-5958-40f1-854e-ae5f837c5037"
   },
   "outputs": [
    {
     "data": {
      "image/png": "[encoded data removed]",
      "text/plain": [
       "<Figure size 1440x720 with 2 Axes>"
      ]
     },
     "metadata": {
      "needs_background": "light"
     },
     "output_type": "display_data"
    }
   ],
   "source": [
    "plot_history(history, init_phase_samples=250, plot_line=True)"
   ]
  },
  {
   "cell_type": "markdown",
   "metadata": {
    "colab_type": "text",
    "id": "n2QyiAM8EGmT"
   },
   "source": [
    "### Scores around 80% look good now, there might even be a bit more potential here, but we are not going after a final percent here"
   ]
  },
  {
   "cell_type": "markdown",
   "metadata": {
    "colab_type": "text",
    "id": "3hdqOrJuEGmU"
   },
   "source": [
    "## We now seem to have a decent model, so we save it for the next steps"
   ]
  },
  {
   "cell_type": "code",
   "execution_count": 30,
   "metadata": {
    "colab": {},
    "colab_type": "code",
    "id": "0JJoZoazEGmW"
   },
   "outputs": [],
   "source": [
    "model.save('insurance.h5')"
   ]
  },
  {
   "cell_type": "code",
   "execution_count": 31,
   "metadata": {
    "colab": {
     "base_uri": "https://localhost:8080/",
     "height": 34
    },
    "colab_type": "code",
    "id": "rGI2f8nMEGmZ",
    "outputId": "1ddad622-524b-4915-84d8-11ec5dfe9203"
   },
   "outputs": [
    {
     "name": "stdout",
     "output_type": "stream",
     "text": [
      "-rw-r--r--  1 olediour  staff  179840 Aug 24 10:57 insurance.h5\r\n"
     ]
    }
   ],
   "source": [
    "# the model has a decent size as we only have a little more than 10.000 parameters\n",
    "!ls -l insurance.h5"
   ]
  },
  {
   "cell_type": "code",
   "execution_count": 0,
   "metadata": {
    "colab": {},
    "colab_type": "code",
    "id": "nK8l17GREGmg"
   },
   "outputs": [],
   "source": []
  }
 ],
 "metadata": {
  "accelerator": "GPU",
  "colab": {
   "include_colab_link": true,
   "name": "U3-M10-final-model.ipynb",
   "provenance": [],
   "version": "0.3.2"
  },
  "kernelspec": {
   "display_name": "Python 3",
   "language": "python",
   "name": "python3"
  },
  "language_info": {
   "codemirror_mode": {
    "name": "ipython",
    "version": 3
   },
   "file_extension": ".py",
   "mimetype": "text/x-python",
   "name": "python",
   "nbconvert_exporter": "python",
   "pygments_lexer": "ipython3",
   "version": "3.7.0"
  }
 },
 "nbformat": 4,
 "nbformat_minor": 1
}
