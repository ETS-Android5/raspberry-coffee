{
 "cells": [
  {
   "cell_type": "markdown",
   "metadata": {},
   "source": [
    "## Artificial Neurons"
   ]
  },
  {
   "cell_type": "markdown",
   "metadata": {},
   "source": [
    "![Neuron at work](./img/neuron.example.png)"
   ]
  },
  {
   "cell_type": "code",
   "execution_count": 1,
   "metadata": {},
   "outputs": [
    {
     "name": "stdout",
     "output_type": "stream",
     "text": [
      "=> y = 17.000000\n"
     ]
    }
   ],
   "source": [
    "import java.util.Arrays;\n",
    "import java.util.List;\n",
    "/**\n",
    " * Basic example of a Java Artificial Neuron\n",
    " */\n",
    "public class ArtificialNeuron {\n",
    "  private double bias = 0;\n",
    "  private List<Double> weights;\n",
    "  \n",
    "  public ArtificialNeuron(List<Double> weights, double bias) {\n",
    "    this.weights = weights;\n",
    "    this.bias = bias;\n",
    "  }\n",
    "  \n",
    "  public double compute(List<Double> xValues) throws Exception {\n",
    "    if (xValues.size() != this.weights.size()) {\n",
    "      throw new RuntimeException(\"Size mismatch\");\n",
    "    }\n",
    "    double yValue = 0;\n",
    "    for (int i=0; i<xValues.size(); i++) {\n",
    "      yValue += (xValues.get(i) * this.weights.get(i));\n",
    "    }\n",
    "    yValue += this.bias;\n",
    "    return yValue;\n",
    "  }\n",
    "}\n",
    "\n",
    "ArtificialNeuron neuron = new ArtificialNeuron(\n",
    "    Arrays.asList(new Double[] { 1.5, -2d, 1d }), \n",
    "    6d);\n",
    "try {\n",
    "  double y = neuron.compute(Arrays.asList(new Double[]{ 10d, 6d, 8d }));\n",
    "  System.out.println(String.format(\"=> y = %f\", y));\n",
    "} catch (Exception ex) {\n",
    "  ex.printStackTrace();\n",
    "}\n"
   ]
  },
  {
   "cell_type": "markdown",
   "metadata": {},
   "source": [
    "### With an Activation Function"
   ]
  },
  {
   "cell_type": "code",
   "execution_count": 7,
   "metadata": {},
   "outputs": [
    {
     "name": "stdout",
     "output_type": "stream",
     "text": [
      "=> y = 1.000000\n"
     ]
    }
   ],
   "source": [
    "import java.util.Arrays;\n",
    "import java.util.List;\n",
    "import java.util.function.Function;\n",
    "/**\n",
    " * With an Activation Function (Hyperbolic Tangent)\n",
    " */\n",
    "public class NeuronWithActivationFunction extends ArtificialNeuron {\n",
    "  public NeuronWithActivationFunction(List<Double> weights, double bias) {\n",
    "    super(weights, bias);\n",
    "  }\n",
    "\n",
    "  public double compute(List<Double> xValues, Function<Double, Double> activation) throws Exception {\n",
    "    double y = super.compute(xValues);\n",
    "    // Activation function here\n",
    "    return activation.apply(y);\n",
    "  }\n",
    "}\n",
    "\n",
    "NeuronWithActivationFunction neuron = new NeuronWithActivationFunction(\n",
    "    Arrays.asList(new Double[] { 1.5, -2d, 1d }), \n",
    "    6d);\n",
    "try {\n",
    "  double y = neuron.compute(Arrays.asList(new Double[]{ 10d, 6d, 8d }), Math::tanh);\n",
    "  System.out.println(String.format(\"=> y = %f\", y));\n",
    "} catch (Exception ex) {\n",
    "  ex.printStackTrace();\n",
    "}\n",
    "\n",
    "final boolean TEST = false;\n",
    "if (TEST) {\n",
    "  for (double d = -1d; d <= 1d; d += 0.02) {\n",
    "    System.out.println(String.format(\"exp(%f) = %f\", d, Math.tanh(d)));\n",
    "  }\n",
    "}\n"
   ]
  },
  {
   "cell_type": "code",
   "execution_count": null,
   "metadata": {},
   "outputs": [],
   "source": []
  }
 ],
 "metadata": {
  "kernelspec": {
   "display_name": "Java",
   "language": "java",
   "name": "java"
  },
  "language_info": {
   "codemirror_mode": "java",
   "file_extension": ".java",
   "mimetype": "text/x-java-source",
   "name": "Java",
   "pygments_lexer": "java",
   "version": "9.0.1+11"
  }
 },
 "nbformat": 4,
 "nbformat_minor": 2
}
