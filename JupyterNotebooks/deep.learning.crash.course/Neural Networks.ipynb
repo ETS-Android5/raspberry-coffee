{
 "cells": [
  {
   "cell_type": "markdown",
   "metadata": {},
   "source": [
    "## Artificial Neurons"
   ]
  },
  {
   "cell_type": "markdown",
   "metadata": {},
   "source": [
    "![Neuron at work](./img/neuron.example.png)"
   ]
  },
  {
   "cell_type": "code",
   "execution_count": 10,
   "metadata": {},
   "outputs": [
    {
     "name": "stdout",
     "output_type": "stream",
     "text": [
      "=> y = 17.000000\n"
     ]
    }
   ],
   "source": [
    "/**\n",
    " * Basic example of a Java Artificial Neuron\n",
    " */\n",
    "public class ArtificialNeuron {\n",
    "  private double bias = 0;\n",
    "  private List<Double> weights;\n",
    "  \n",
    "  public ArtificialNeuron(List<Double> weights, double bias) {\n",
    "    this.weights = weights;\n",
    "    this.bias = bias;\n",
    "  }\n",
    "  \n",
    "  public double compute(List<Double> xValues) throws Exception {\n",
    "    if (xValues.size() != this.weights.size()) {\n",
    "      throw new RuntimeException(\"Size mismatch\");\n",
    "    }\n",
    "    double yValue = 0;\n",
    "    for (int i=0; i<xValues.size(); i++) {\n",
    "      yValue += (xValues.get(i) * this.weights.get(i));\n",
    "    }\n",
    "    yValue += this.bias;\n",
    "    return yValue;\n",
    "  }\n",
    "}\n",
    "\n",
    "ArtificialNeuron neuron = new ArtificialNeuron( Arrays.asList(new Double[] { 1.5, -2d, 1d }), 6d);\n",
    "try {\n",
    "  double y = neuron.compute(Arrays.asList(new Double[]{ 10d, 6d, 8d }));\n",
    "  System.out.println(String.format(\"=> y = %f\", y));\n",
    "} catch (Exception ex) {\n",
    "  ex.printStackTrace();\n",
    "}\n"
   ]
  },
  {
   "cell_type": "code",
   "execution_count": null,
   "metadata": {},
   "outputs": [],
   "source": []
  }
 ],
 "metadata": {
  "kernelspec": {
   "display_name": "Java",
   "language": "java",
   "name": "java"
  },
  "language_info": {
   "codemirror_mode": "java",
   "file_extension": ".java",
   "mimetype": "text/x-java-source",
   "name": "Java",
   "pygments_lexer": "java",
   "version": "9.0.1+11"
  }
 },
 "nbformat": 4,
 "nbformat_minor": 2
}
