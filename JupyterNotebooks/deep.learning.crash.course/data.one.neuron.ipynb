{
 "cells": [
  {
   "cell_type": "markdown",
   "metadata": {},
   "source": [
    "## Data for one neuron"
   ]
  },
  {
   "cell_type": "code",
   "execution_count": 1,
   "metadata": {},
   "outputs": [],
   "source": [
    "import java.util.List;\n",
    "import java.util.ArrayList;\n",
    "\n",
    "public static class Point {\n",
    "  private double x;\n",
    "  private double y;\n",
    "  \n",
    "  public Point(double x, double y) {\n",
    "    this.x = x;\n",
    "    this.y = y;\n",
    "  }\n",
    "  \n",
    "  public double getX() {\n",
    "      return this.x;\n",
    "  }\n",
    "  public double getY() {\n",
    "      return this.y;\n",
    "  }\n",
    "}\n",
    "\n",
    "// Create random point lists\n",
    "List<Point> orangeList = new ArrayList<>();\n",
    "List<Point> blueList = new ArrayList<>();\n",
    "\n",
    "final double RADIUS = 3;\n",
    "\n",
    "int xOrangeCenter = -3;\n",
    "int yOrangeCenter = -3;\n",
    "for (int i=0; i<500; i++) { // Bottom left\n",
    "  double rndAngle = Math.PI * 2 * Math.random();\n",
    "  double x = xOrangeCenter + (Math.random() * RADIUS * Math.sin(rndAngle));\n",
    "  double y = yOrangeCenter + (Math.random() * RADIUS * Math.cos(rndAngle));\n",
    "  orangeList.add(new Point(x, y));\n",
    "}\n",
    "\n",
    "int xBlueCenter = 3;\n",
    "int yBlueCenter = 3;\n",
    "for (int i=0; i<500; i++) { // Top right\n",
    "  double rndAngle = Math.PI * 2 * Math.random();\n",
    "  double x = xBlueCenter + (Math.random() * RADIUS * Math.sin(rndAngle));\n",
    "  double y = yBlueCenter + (Math.random() * RADIUS * Math.cos(rndAngle));\n",
    "  blueList.add(new Point(x, y));\n",
    "}"
   ]
  },
  {
   "cell_type": "code",
   "execution_count": 2,
   "metadata": {},
   "outputs": [
    {
     "ename": "EvalException",
     "evalue": "null",
     "output_type": "error",
     "traceback": [
      "\u001b[1m\u001b[31m---------------------------------------------------------------------------\u001b[0m",
      "\u001b[1m\u001b[31mjava.lang.NullPointerException: null\u001b[0m",
      "\u001b[1m\u001b[31m\tat .(#42:1)\u001b[0m"
     ]
    }
   ],
   "source": [
    "// Charts\n",
    "// Doc and examples at https://knowm.org/open-source/xchart/xchart-example-code/\n",
    "\n",
    "%maven org.knowm.xchart:xchart:3.5.4\n",
    "import org.knowm.xchart.*;\n",
    "import org.knowm.xchart.style.markers.SeriesMarkers;\n",
    "import java.awt.Color;\n",
    "\n",
    "// double[] xData = orangeList.stream()\n",
    "//                     .mapToDouble(Point::getX)\n",
    "//                     .toArray();\n",
    "// double[] yData = orangeList.stream()\n",
    "//                     .mapToDouble(Point::getY)\n",
    "//                     .toArray();\n",
    "XYChart chart = new XYChartBuilder().width(800).height(600).build();\n",
    "\n",
    "// Customize Chart\n",
    "chart.getStyler().setDefaultSeriesRenderStyle(XYSeries.XYSeriesRenderStyle.Scatter);\n",
    "chart.getStyler().setChartTitleVisible(false);\n",
    "\n",
    "chart.getStyler().setMarkerSize(10);\n",
    "\n",
    "// Series, Orange\n",
    "List<Double> xDataOrange = new LinkedList<>();\n",
    "List<Double> yDataOrange = new LinkedList<>();\n",
    "\n",
    "orangeList.stream().forEach(pt -> xDataOrange.add(pt.getX()));\n",
    "orangeList.stream().forEach(pt -> yDataOrange.add(pt.getY()));\n",
    "\n",
    "XYSeries orangeSeries = chart.addSeries(\"Group One\", xDataOrange, yDataOrange);   \n",
    "orangeSeries.setMarker(SeriesMarkers.CIRCLE);\n",
    "orangeSeries.setMarkerColor(Color.ORANGE);\n",
    "    \n",
    "// Blue\n",
    "List<Double> xDataBlue = new LinkedList<>();\n",
    "List<Double> yDataBlue = new LinkedList<>();\n",
    "\n",
    "blueList.stream().forEach(pt -> xDataBlue.add(pt.getX()));\n",
    "blueList.stream().forEach(pt -> yDataBlue.add(pt.getY()));\n",
    "\n",
    "XYSeries blueSeries = chart.addSeries(\"Group Two\", xDataBlue, yDataBlue);   \n",
    "System.out.println(String.format(\"Added group two, blueSeries is %snull.\", blueSe));\n",
    "blueSeries.setMarker(SeriesMarkers.CIRCLE);\n",
    "blueSeries.setMarkerColor(Color.BLUE);\n",
    "    \n",
    "// Render the chart\n",
    "BitmapEncoder.getBufferedImage(chart);"
   ]
  },
  {
   "cell_type": "code",
   "execution_count": 64,
   "metadata": {},
   "outputs": [
    {
     "name": "stdout",
     "output_type": "stream",
     "text": [
      "x1: 0.50, x2: 0.50, y: 0.86 => blue\n"
     ]
    }
   ],
   "source": [
    "// One neuron\n",
    "double w1 = -0.69, \n",
    "       w2 = -0.67, \n",
    "       wFinal = -2d;\n",
    "double bias = 0.030;\n",
    "private double neuron(double x1, double x2) {\n",
    "  return Math.tanh(wFinal * ((w1 * x1) + (w2 * x2) + bias));    \n",
    "}\n",
    "\n",
    "double x1 = +0.5, x2 = +0.5;\n",
    "double y = neuron(x1, x2);\n",
    "System.out.println(String.format(\"x1: %.02f, x2: %.02f, y: %.02f => %s\", x1, x2, y, y > 0 ? \"blue\" : \"orange\"));\n"
   ]
  },
  {
   "cell_type": "code",
   "execution_count": null,
   "metadata": {},
   "outputs": [],
   "source": []
  }
 ],
 "metadata": {
  "kernelspec": {
   "display_name": "Java",
   "language": "java",
   "name": "java"
  },
  "language_info": {
   "codemirror_mode": "java",
   "file_extension": ".java",
   "mimetype": "text/x-java-source",
   "name": "Java",
   "pygments_lexer": "java",
   "version": "9.0.1+11"
  }
 },
 "nbformat": 4,
 "nbformat_minor": 2
}
