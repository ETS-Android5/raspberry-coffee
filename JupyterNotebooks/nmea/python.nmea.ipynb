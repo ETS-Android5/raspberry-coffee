{
 "cells": [
  {
   "cell_type": "markdown",
   "metadata": {},
   "source": [
    "# NMEA Parsing, in Python"
   ]
  },
  {
   "cell_type": "markdown",
   "metadata": {},
   "source": [
    "## Full Sample, RMC Parsing, from scratch. \n",
    "### Reading the serial port to displaying readable data"
   ]
  },
  {
   "cell_type": "markdown",
   "metadata": {},
   "source": [
    "#### Reading the Serial port\n",
    "Make sure you have `pyserial` installed\n",
    "```\n",
    "$ pip3 install pyserial\n",
    "```"
   ]
  },
  {
   "cell_type": "code",
   "execution_count": null,
   "metadata": {},
   "outputs": [],
   "source": [
    "import serial"
   ]
  },
  {
   "cell_type": "markdown",
   "metadata": {},
   "source": [
    "> *Important*: Modify the port name below, so it matches what the Jupyter server can see."
   ]
  },
  {
   "cell_type": "code",
   "execution_count": null,
   "metadata": {},
   "outputs": [],
   "source": [
    "port_name = \"/dev/tty.usbmodem14101\"\n",
    "# port_name = \"/dev/ttyS80\"\n",
    "baud_rate = 4800\n",
    "port = serial.Serial(port_name, baudrate=baud_rate, timeout=3.0)"
   ]
  },
  {
   "cell_type": "markdown",
   "metadata": {},
   "source": [
    "Let us try to read the serial port\n",
    "> Note: We limit the read to 200 characters"
   ]
  },
  {
   "cell_type": "code",
   "execution_count": null,
   "metadata": {},
   "outputs": [],
   "source": [
    "nb_read = 0\n",
    "while True:\n",
    "    try:\n",
    "        ch = port.read()\n",
    "        print(\"{:02x} \".format(ord(ch)), end='', flush=True)\n",
    "        nb_read += 1\n",
    "        if nb_read > 200:\n",
    "            break\n",
    "    except KeyboardInterrupt as ki:\n",
    "        break\n",
    "    except Exception as ex:\n",
    "        print(\"Argh! {}\".format(ex))\n",
    "\n",
    "print(\"\\n\\n\\t\\tDone reading, exiting.\")\n",
    "port.close()\n",
    "\n",
    "print(\"Bye.\")"
   ]
  },
  {
   "cell_type": "markdown",
   "metadata": {},
   "source": [
    "We can see that data are being read from the Serial port. Now let us try to make some sense out of them.\n",
    "\n",
    "We know that NMEA Sentences begin with a `$` sign, and end with `\\r\\n` (Carriage Return, New Line).\n",
    "Let us try to extract the NMEA Sentences from the continuous serial flow.\n",
    "We will stop when 20 sentences are read."
   ]
  },
  {
   "cell_type": "code",
   "execution_count": null,
   "metadata": {},
   "outputs": [],
   "source": [
    "port = serial.Serial(port_name, baudrate=baud_rate, timeout=3.0)\n",
    "previous_char = ''\n",
    "nb_sentences = 0\n",
    "rv = []\n",
    "#\n",
    "while True:\n",
    "    try:\n",
    "        ch = port.read()\n",
    "        if ord(ch) == ord('$'):\n",
    "            print(\"\\nNew sentence?\")\n",
    "        print(\"{:02x} \".format(ord(ch)), end='', flush=True)\n",
    "        rv.append(ch)\n",
    "        if ord(ch) == 0x0A and ord(previous_char) == 0x0D:\n",
    "            string = \"\".join(map(bytes.decode, rv))\n",
    "            print(\"\\nEnd of sentence {}\".format(string))\n",
    "            nb_sentences += 1\n",
    "            rv = []\n",
    "            if nb_sentences > 20:\n",
    "                break\n",
    "        previous_char = ch\n",
    "    except KeyboardInterrupt as ki:\n",
    "        break\n",
    "    except Exception as ex:\n",
    "            print(\"Argh! {}\".format(ex))\n",
    "            nb_sentence += 1  # Not to end up in infinite loop...\n",
    "            \n",
    "print(\"\\n\\n\\t\\tDone reading, exiting.\")\n",
    "port.close()\n",
    "\n",
    "print(\"Bye.\")"
   ]
  },
  {
   "cell_type": "markdown",
   "metadata": {},
   "source": [
    "So, now we can extract NMEA sentences from the Serial flow. Let's move on, and try to extract the data conveyed by those sentences.\n",
    "\n",
    "\n",
    "#### Validation. Example: RMC sentence\n",
    "Set the data string to validate"
   ]
  },
  {
   "cell_type": "code",
   "execution_count": 22,
   "metadata": {},
   "outputs": [],
   "source": [
    "rmc_data = \"$GPRMC,183333.000,A,4047.7034,N,07247.9938,W,0.66,196.21,150912,,,A*7C\\r\\n\""
   ]
  },
  {
   "cell_type": "markdown",
   "metadata": {},
   "source": [
    "Will keep going as long as good"
   ]
  },
  {
   "cell_type": "code",
   "execution_count": 23,
   "metadata": {},
   "outputs": [],
   "source": [
    "valid = True"
   ]
  },
  {
   "cell_type": "markdown",
   "metadata": {},
   "source": [
    "Validate start of the string"
   ]
  },
  {
   "cell_type": "code",
   "execution_count": 24,
   "metadata": {},
   "outputs": [
    {
     "name": "stdout",
     "output_type": "stream",
     "text": [
      "Start of String OK, moving on.\n"
     ]
    }
   ],
   "source": [
    "if rmc_data[0] != '$':\n",
    "    valid = False\n",
    "    print(\"String does not begin with '$', not valid\")\n",
    "else:\n",
    "    print(\"Start of String OK, moving on.\")"
   ]
  },
  {
   "cell_type": "markdown",
   "metadata": {},
   "source": [
    "Validate the end"
   ]
  },
  {
   "cell_type": "code",
   "execution_count": 25,
   "metadata": {},
   "outputs": [
    {
     "name": "stdout",
     "output_type": "stream",
     "text": [
      "String termination OK, moving on.\n"
     ]
    }
   ],
   "source": [
    "if valid:\n",
    "    if rmc_data[-2:] != \"\\r\\n\":\n",
    "        valid = False\n",
    "        print(\"Bad string termination\")\n",
    "    else:\n",
    "        print(\"String termination OK, moving on.\")"
   ]
  },
  {
   "cell_type": "markdown",
   "metadata": {},
   "source": [
    "Now, the checksum"
   ]
  },
  {
   "cell_type": "code",
   "execution_count": 26,
   "metadata": {},
   "outputs": [
    {
     "name": "stdout",
     "output_type": "stream",
     "text": [
      "Data to validate: GPRMC,183333.000,A,4047.7034,N,07247.9938,W,0.66,196.21,150912,,,A against 7C\n"
     ]
    }
   ],
   "source": [
    "if valid:\n",
    "    string_to_validate = rmc_data[1:-5]\n",
    "    checksum = rmc_data[-4:-2]\n",
    "    print(\"Data to validate: {} against {}\".format(string_to_validate, checksum))"
   ]
  },
  {
   "cell_type": "code",
   "execution_count": 27,
   "metadata": {},
   "outputs": [
    {
     "name": "stdout",
     "output_type": "stream",
     "text": [
      "Char G (0x47 0b01000111) -> CheckSum now 0x47 0b01000111\n",
      "Char P (0x50 0b01010000) -> CheckSum now 0x17 0b00010111\n",
      "Char R (0x52 0b01010010) -> CheckSum now 0x45 0b01000101\n",
      "Char M (0x4d 0b01001101) -> CheckSum now 0x08 0b00001000\n",
      "Char C (0x43 0b01000011) -> CheckSum now 0x4b 0b01001011\n",
      "Char , (0x2c 0b00101100) -> CheckSum now 0x67 0b01100111\n",
      "Char 1 (0x31 0b00110001) -> CheckSum now 0x56 0b01010110\n",
      "Char 8 (0x38 0b00111000) -> CheckSum now 0x6e 0b01101110\n",
      "Char 3 (0x33 0b00110011) -> CheckSum now 0x5d 0b01011101\n",
      "Char 3 (0x33 0b00110011) -> CheckSum now 0x6e 0b01101110\n",
      "Char 3 (0x33 0b00110011) -> CheckSum now 0x5d 0b01011101\n",
      "Char 3 (0x33 0b00110011) -> CheckSum now 0x6e 0b01101110\n",
      "Char . (0x2e 0b00101110) -> CheckSum now 0x40 0b01000000\n",
      "Char 0 (0x30 0b00110000) -> CheckSum now 0x70 0b01110000\n",
      "Char 0 (0x30 0b00110000) -> CheckSum now 0x40 0b01000000\n",
      "Char 0 (0x30 0b00110000) -> CheckSum now 0x70 0b01110000\n",
      "Char , (0x2c 0b00101100) -> CheckSum now 0x5c 0b01011100\n",
      "Char A (0x41 0b01000001) -> CheckSum now 0x1d 0b00011101\n",
      "Char , (0x2c 0b00101100) -> CheckSum now 0x31 0b00110001\n",
      "Char 4 (0x34 0b00110100) -> CheckSum now 0x05 0b00000101\n",
      "Char 0 (0x30 0b00110000) -> CheckSum now 0x35 0b00110101\n",
      "Char 4 (0x34 0b00110100) -> CheckSum now 0x01 0b00000001\n",
      "Char 7 (0x37 0b00110111) -> CheckSum now 0x36 0b00110110\n",
      "Char . (0x2e 0b00101110) -> CheckSum now 0x18 0b00011000\n",
      "Char 7 (0x37 0b00110111) -> CheckSum now 0x2f 0b00101111\n",
      "Char 0 (0x30 0b00110000) -> CheckSum now 0x1f 0b00011111\n",
      "Char 3 (0x33 0b00110011) -> CheckSum now 0x2c 0b00101100\n",
      "Char 4 (0x34 0b00110100) -> CheckSum now 0x18 0b00011000\n",
      "Char , (0x2c 0b00101100) -> CheckSum now 0x34 0b00110100\n",
      "Char N (0x4e 0b01001110) -> CheckSum now 0x7a 0b01111010\n",
      "Char , (0x2c 0b00101100) -> CheckSum now 0x56 0b01010110\n",
      "Char 0 (0x30 0b00110000) -> CheckSum now 0x66 0b01100110\n",
      "Char 7 (0x37 0b00110111) -> CheckSum now 0x51 0b01010001\n",
      "Char 2 (0x32 0b00110010) -> CheckSum now 0x63 0b01100011\n",
      "Char 4 (0x34 0b00110100) -> CheckSum now 0x57 0b01010111\n",
      "Char 7 (0x37 0b00110111) -> CheckSum now 0x60 0b01100000\n",
      "Char . (0x2e 0b00101110) -> CheckSum now 0x4e 0b01001110\n",
      "Char 9 (0x39 0b00111001) -> CheckSum now 0x77 0b01110111\n",
      "Char 9 (0x39 0b00111001) -> CheckSum now 0x4e 0b01001110\n",
      "Char 3 (0x33 0b00110011) -> CheckSum now 0x7d 0b01111101\n",
      "Char 8 (0x38 0b00111000) -> CheckSum now 0x45 0b01000101\n",
      "Char , (0x2c 0b00101100) -> CheckSum now 0x69 0b01101001\n",
      "Char W (0x57 0b01010111) -> CheckSum now 0x3e 0b00111110\n",
      "Char , (0x2c 0b00101100) -> CheckSum now 0x12 0b00010010\n",
      "Char 0 (0x30 0b00110000) -> CheckSum now 0x22 0b00100010\n",
      "Char . (0x2e 0b00101110) -> CheckSum now 0x0c 0b00001100\n",
      "Char 6 (0x36 0b00110110) -> CheckSum now 0x3a 0b00111010\n",
      "Char 6 (0x36 0b00110110) -> CheckSum now 0x0c 0b00001100\n",
      "Char , (0x2c 0b00101100) -> CheckSum now 0x20 0b00100000\n",
      "Char 1 (0x31 0b00110001) -> CheckSum now 0x11 0b00010001\n",
      "Char 9 (0x39 0b00111001) -> CheckSum now 0x28 0b00101000\n",
      "Char 6 (0x36 0b00110110) -> CheckSum now 0x1e 0b00011110\n",
      "Char . (0x2e 0b00101110) -> CheckSum now 0x30 0b00110000\n",
      "Char 2 (0x32 0b00110010) -> CheckSum now 0x02 0b00000010\n",
      "Char 1 (0x31 0b00110001) -> CheckSum now 0x33 0b00110011\n",
      "Char , (0x2c 0b00101100) -> CheckSum now 0x1f 0b00011111\n",
      "Char 1 (0x31 0b00110001) -> CheckSum now 0x2e 0b00101110\n",
      "Char 5 (0x35 0b00110101) -> CheckSum now 0x1b 0b00011011\n",
      "Char 0 (0x30 0b00110000) -> CheckSum now 0x2b 0b00101011\n",
      "Char 9 (0x39 0b00111001) -> CheckSum now 0x12 0b00010010\n",
      "Char 1 (0x31 0b00110001) -> CheckSum now 0x23 0b00100011\n",
      "Char 2 (0x32 0b00110010) -> CheckSum now 0x11 0b00010001\n",
      "Char , (0x2c 0b00101100) -> CheckSum now 0x3d 0b00111101\n",
      "Char , (0x2c 0b00101100) -> CheckSum now 0x11 0b00010001\n",
      "Char , (0x2c 0b00101100) -> CheckSum now 0x3d 0b00111101\n",
      "Char A (0x41 0b01000001) -> CheckSum now 0x7c 0b01111100\n",
      "Checksum OK, moving on\n"
     ]
    }
   ],
   "source": [
    "if valid:\n",
    "    cs = 0\n",
    "    char_array = list(string_to_validate)\n",
    "    for c in range(len(string_to_validate)):\n",
    "        cs = cs ^ ord(char_array[c])\n",
    "        print (\"Char {} (0x{:02x} 0b{}) -> CheckSum now 0x{:02x} 0b{}\".format(\n",
    "            char_array[c], \n",
    "            ord(char_array[c]), \n",
    "            str(bin(ord(char_array[c])))[2:].rjust(8, '0'), \n",
    "            cs,\n",
    "            str(bin(cs))[2:].rjust(8, '0')))\n",
    "    original_cs = int(checksum, 16)\n",
    "    if original_cs != cs:\n",
    "        valid = False\n",
    "        print(\"Invalid Checksum: Found {:02x}, expected {:02x}\".format(cs, original_cs))\n",
    "    else:\n",
    "        print(\"Checksum OK, moving on\")\n",
    "    "
   ]
  },
  {
   "cell_type": "markdown",
   "metadata": {},
   "source": [
    "### Validations OK\n",
    "Now splitting the data"
   ]
  },
  {
   "cell_type": "code",
   "execution_count": 28,
   "metadata": {},
   "outputs": [
    {
     "name": "stdout",
     "output_type": "stream",
     "text": [
      "We have 13 members:\n",
      "GPRMC\n",
      "183333.000\n",
      "A\n",
      "4047.7034\n",
      "N\n",
      "07247.9938\n",
      "W\n",
      "0.66\n",
      "196.21\n",
      "150912\n",
      "-\n",
      "-\n",
      "A\n"
     ]
    }
   ],
   "source": [
    "if valid:\n",
    "    members = string_to_validate.split(',')\n",
    "    print(\"We have {} members:\".format(len(members)))\n",
    "    for item in members:\n",
    "        print(item if len(item) > 0 else '-')"
   ]
  },
  {
   "cell_type": "code",
   "execution_count": 29,
   "metadata": {},
   "outputs": [
    {
     "name": "stdout",
     "output_type": "stream",
     "text": [
      "Device Prefix is GP, Sentence ID is RMC\n"
     ]
    }
   ],
   "source": [
    "if valid:\n",
    "    if len(members[0]) != 5:\n",
    "        print(\"Bad length for sentence prefix and ID\")\n",
    "    else:\n",
    "        device_prefix = members[0][0:2]\n",
    "        sentence_id = members[0][-3:]\n",
    "        print(\"Device Prefix is {}, Sentence ID is {}\".format(device_prefix, sentence_id))"
   ]
  },
  {
   "cell_type": "markdown",
   "metadata": {},
   "source": [
    "#### Quick utility: `Decimal to Sexagesimal` and vice-versa"
   ]
  },
  {
   "cell_type": "code",
   "execution_count": 30,
   "metadata": {},
   "outputs": [],
   "source": [
    "import math\n",
    "\n",
    "NS = 0\n",
    "EW = 1\n",
    "\n",
    "def dec_to_sex(value, type):\n",
    "    abs_val = abs(value)  # (-value) if (value < 0) else value\n",
    "    int_value = math.floor(abs_val)\n",
    "    i = int(int_value)\n",
    "    dec = abs_val - int_value\n",
    "    dec *= 60\n",
    "    sign = \"N\"\n",
    "    if type == NS:\n",
    "        if value < 0:\n",
    "            sign = \"S\"\n",
    "    else:\n",
    "        if value < 0:\n",
    "            sign = \"W\"\n",
    "        else:\n",
    "            sign = \"E\"\n",
    "    formatted = \"{} {}\\272{:0.2f}'\".format(sign, i, dec)\n",
    "    return formatted\n",
    "\n",
    "\n",
    "def sex_to_dec(deg_str, min_str):\n",
    "    \"\"\"\n",
    "    Sexagesimal to decimal\n",
    "    :param deg_str: degrees value (as string containing an int) like '12'\n",
    "    :param min_str: minutes value (as a string containing a float) like '45.00'\n",
    "    :return: decimal value, like 12.75 here.\n",
    "    \"\"\"\n",
    "    try:\n",
    "        degrees = float(deg_str)\n",
    "        minutes = float(min_str)\n",
    "        minutes *= (10.0 / 6.0)\n",
    "        ret = degrees + minutes / 100.0\n",
    "        return ret\n",
    "    except ValueError:\n",
    "        raise Exception(\"Bad numbers [{}] [{}]\".format(deg_str, min_str))\n"
   ]
  },
  {
   "cell_type": "code",
   "execution_count": 31,
   "metadata": {},
   "outputs": [
    {
     "name": "stdout",
     "output_type": "stream",
     "text": [
      "-122.5069175 becomes W 122º30.42'\n",
      "37.748837 becomes N 37º44.93'\n"
     ]
    }
   ],
   "source": [
    "sample_one = -122.5069175      \n",
    "sample_two = 37.748837\n",
    "print(\"{} becomes {}\".format(sample_one, dec_to_sex(sample_one, EW)))\n",
    "print(\"{} becomes {}\".format(sample_two, dec_to_sex(sample_two, NS)))"
   ]
  },
  {
   "cell_type": "code",
   "execution_count": 32,
   "metadata": {},
   "outputs": [
    {
     "name": "stdout",
     "output_type": "stream",
     "text": [
      "122º30.42' becomes 122.507\n"
     ]
    }
   ],
   "source": [
    "deg_1 = '122'\n",
    "min_1 = '30.42'\n",
    "print(\"{} becomes {}\".format(deg_1 + '\\272' + min_1 + \"'\", sex_to_dec(deg_1, min_1)))"
   ]
  },
  {
   "cell_type": "markdown",
   "metadata": {},
   "source": [
    "### A note about Latitude and Longitude\n",
    "In the `RMC` String above, the position is represented by\n",
    "```\n",
    " 4047.7034,N,07247.9938,W\n",
    "```\n",
    "- The latitude `4047.7034` must be read `40` degrees and `47.7034` minutes.\n",
    "- The longitude `07247.9938` means `72` degrees and `47.9938` minutes.\n",
    "\n",
    "In the `RMC` case:\n",
    "- Element with index `3` holds the latitude's value (absolute)\n",
    "- Element with index `4` holds the latitude's sign (`N` or `S`)\n",
    "- Element with index `5` holds the longitude's value (absolute)\n",
    "- Element with index `6` holds the longitude's sign (`E` or `W`)\n",
    "\n",
    "```\n",
    "                                                                    12\n",
    "  0      1      2 3        4 5         6 7     8     9      10    11\n",
    "  $GPRMC,123519,A,4807.038,N,01131.000,E,022.4,084.4,230394,003.1,W,A*6A\n",
    "         |      | |        | |         | |     |     |      |     | |\n",
    "         |      | |        | |         | |     |     |      |     | Type: A=autonomous,\n",
    "         |      | |        | |         | |     |     |      |     |       D=differential,\n",
    "         |      | |        | |         | |     |     |      |     |       E=Estimated,\n",
    "         |      | |        | |         | |     |     |      |     |       N=not valid,\n",
    "         |      | |        | |         | |     |     |      |     |       S=Simulator\n",
    "         |      | |        | |         | |     |     |      |     Variation sign\n",
    "         |      | |        | |         | |     |     |      Variation value\n",
    "         |      | |        | |         | |     |     Date DDMMYY\n",
    "         |      | |        | |         | |     COG\n",
    "         |      | |        | |         | SOG\n",
    "         |      | |        | |         Longitude Sign\n",
    "         |      | |        | Longitude Value\n",
    "         |      | |        Latitude Sign\n",
    "         |      | Latitude value\n",
    "         |      Active or Void\n",
    "         UTC\n",
    "```\n",
    "Let's re-display the array of data with the labels:"
   ]
  },
  {
   "cell_type": "code",
   "execution_count": 33,
   "metadata": {},
   "outputs": [
    {
     "name": "stdout",
     "output_type": "stream",
     "text": [
      "                 Key: GPRMC\n",
      "                 UTC: 183333.000\n",
      "                 Act: A\n",
      "           Lat Value: 4047.7034\n",
      "            Lat Sign: N\n",
      "          Long Value: 07247.9938\n",
      "           Long Sign: W\n",
      "                 SOG: 0.66\n",
      "                 COG: 196.21\n",
      "            UTC Date: 150912\n",
      "     Variation value: -\n",
      "      Variation Sign: -\n",
      "                Type: A\n"
     ]
    }
   ],
   "source": [
    "rmc_labels = [\n",
    "    \"Key\",\n",
    "    \"UTC\",\n",
    "    \"Act\",\n",
    "    \"Lat Value\",\n",
    "    \"Lat Sign\",\n",
    "    \"Long Value\",\n",
    "    \"Long Sign\",\n",
    "    \"SOG\",\n",
    "    \"COG\",\n",
    "    \"UTC Date\",\n",
    "    \"Variation value\",\n",
    "    \"Variation Sign\",\n",
    "    \"Type\"\n",
    "]\n",
    "for i in range(len(members)):\n",
    "    try:\n",
    "        val = members[i]\n",
    "    except IndexError:\n",
    "        val = '-'\n",
    "    print(\"{}: {}\".format(rmc_labels[i].rjust(20, ' '), val if len(val) > 0 else '-'))\n"
   ]
  },
  {
   "cell_type": "markdown",
   "metadata": {},
   "source": [
    "Now, extract position:"
   ]
  },
  {
   "cell_type": "code",
   "execution_count": 34,
   "metadata": {},
   "outputs": [
    {
     "name": "stdout",
     "output_type": "stream",
     "text": [
      "Abs Lat: 40.477033999999996, Lat Deg: 40, Lat Min: 47.70339999999962 \n",
      "Latitude 40.79505666666666\n"
     ]
    }
   ],
   "source": [
    "# Extract Latitude\n",
    "abs_lat = float(members[3]) / 100\n",
    "lat_deg = int(abs_lat)\n",
    "lat_min = (abs_lat - lat_deg) * 100\n",
    "print(\"Abs Lat: {}, Lat Deg: {}, Lat Min: {} \".format(abs_lat, lat_deg, lat_min))\n",
    "decimal_lat = sex_to_dec(str(lat_deg), str(lat_min))\n",
    "decimal_lat *= (1 if members[4] == 'N' else -1)\n",
    "print(\"Latitude {}\".format(decimal_lat))"
   ]
  },
  {
   "cell_type": "code",
   "execution_count": 35,
   "metadata": {},
   "outputs": [
    {
     "name": "stdout",
     "output_type": "stream",
     "text": [
      "Abs Lng: 72.479938, Lng Deg: 72, Lng Min: 47.99380000000042 \n",
      "Longitude -72.79989666666667\n"
     ]
    }
   ],
   "source": [
    "# Extract Longitude\n",
    "abs_lng = float(members[5]) / 100\n",
    "lng_deg = int(abs_lng)\n",
    "lng_min = (abs_lng - lng_deg) * 100\n",
    "print(\"Abs Lng: {}, Lng Deg: {}, Lng Min: {} \".format(abs_lng, lng_deg, lng_min))\n",
    "decimal_lng = sex_to_dec(str(lng_deg), str(lng_min))\n",
    "decimal_lng *= (1 if members[6] == 'E' else -1)\n",
    "print(\"Longitude {}\".format(decimal_lng))"
   ]
  },
  {
   "cell_type": "markdown",
   "metadata": {},
   "source": [
    "### Using the `nmea_parser.py`"
   ]
  },
  {
   "cell_type": "code",
   "execution_count": null,
   "metadata": {},
   "outputs": [],
   "source": [
    "import json\n",
    "import nmea_parser as NMEAParser"
   ]
  },
  {
   "cell_type": "code",
   "execution_count": null,
   "metadata": {},
   "outputs": [],
   "source": [
    "samples = [\n",
    "    \"$IIRMC,092551,A,1036.145,S,15621.845,W,04.8,317,,10,E,A*0D\\r\\n\",\n",
    "    \"$IIMWV,088,T,14.34,N,A*27\\r\\n\",\n",
    "    \"$IIVWR,148.,L,02.4,N,01.2,M,04.4,K*XX\\r\\n\",\n",
    "    \"$IIVTG,054.7,T,034.4,M,005.5,N,010.2,K,A*XX\\r\\n\",\n",
    "    \"$GPTXT,01,01,02,u-blox ag - www.u-blox.com*50\\r\\n\",\n",
    "    \"$GPRMC,183333.000,A,4047.7034,N,07247.9938,W,0.66,196.21,150912,,,A*7C\\r\\n\",\n",
    "    \"$IIGLL,3739.854,N,12222.812,W,014003,A,A*49\\r\\n\"\n",
    "]"
   ]
  },
  {
   "cell_type": "code",
   "execution_count": null,
   "metadata": {},
   "outputs": [],
   "source": [
    "for sentence in samples:\n",
    "    print(\"Parsing {}\".format(sentence))\n",
    "    try:\n",
    "        nmea_obj = NMEAParser.parse_nmea_sentence(sentence)\n",
    "        try:\n",
    "            print('Parsed Object: {}'.format(json.dumps(nmea_obj, indent=2)))\n",
    "        except TypeError as type_error:\n",
    "            print('TypeError: {}'.format(type_error))\n",
    "            print('Parsed Object (raw): {}'.format(nmea_obj))\n",
    "    except Exception as ex:\n",
    "        print(\"Ooops! {}, {}\".format(type(ex), ex))\n",
    "    print(\"----------------------------------\")\n"
   ]
  },
  {
   "cell_type": "code",
   "execution_count": null,
   "metadata": {},
   "outputs": [],
   "source": []
  }
 ],
 "metadata": {
  "kernelspec": {
   "display_name": "Python 3",
   "language": "python",
   "name": "python3"
  },
  "language_info": {
   "codemirror_mode": {
    "name": "ipython",
    "version": 3
   },
   "file_extension": ".py",
   "mimetype": "text/x-python",
   "name": "python",
   "nbconvert_exporter": "python",
   "pygments_lexer": "ipython3",
   "version": "3.7.0"
  }
 },
 "nbformat": 4,
 "nbformat_minor": 2
}
