{
 "cells": [
  {
   "cell_type": "markdown",
   "metadata": {},
   "source": [
    "## NMEA Parsing, in Python"
   ]
  },
  {
   "cell_type": "code",
   "execution_count": 1,
   "metadata": {},
   "outputs": [
    {
     "name": "stdout",
     "output_type": "stream",
     "text": [
      "---------------------\n",
      "nmea_parser NOT running as main\n",
      "---------------------\n"
     ]
    }
   ],
   "source": [
    "import nmea_parser as NMEAParser"
   ]
  },
  {
   "cell_type": "code",
   "execution_count": 2,
   "metadata": {},
   "outputs": [],
   "source": [
    "samples = [\n",
    "    \"$IIRMC,092551,A,1036.145,S,15621.845,W,04.8,317,,10,E,A*0D\\r\\n\",\n",
    "    \"$IIMWV,088,T,14.34,N,A*27\\r\\n\",\n",
    "    \"$IIVWR,148.,L,02.4,N,01.2,M,04.4,K*XX\\r\\n\",\n",
    "    \"$IIVTG,054.7,T,034.4,M,005.5,N,010.2,K,A*XX\\r\\n\",\n",
    "    \"$GPRMC,183333.000,A,4047.7034,N,07247.9938,W,0.66,196.21,150912,,,A*7C\\r\\n\"\n",
    "]"
   ]
  },
  {
   "cell_type": "code",
   "execution_count": 3,
   "metadata": {},
   "outputs": [
    {
     "name": "stdout",
     "output_type": "stream",
     "text": [
      "Parsing $IIRMC,092551,A,1036.145,S,15621.845,W,04.8,317,,10,E,A*0D\r\n",
      "\n",
      "Parsing RMC, 13 items\n",
      "Parsed Object: {'type': 'rmc', 'parsed': {'valid': 'true', 'position': {'latitude': -10.602416666666667, 'longitude': -156.10241666666667}}}\n",
      "----------------------------------\n",
      "Parsing $IIMWV,088,T,14.34,N,A*27\r\n",
      "\n",
      "Ooops! No parser exists for MWV\n",
      "----------------------------------\n",
      "Parsing $IIVWR,148.,L,02.4,N,01.2,M,04.4,K*XX\r\n",
      "\n",
      "Invalid Hex CS Key XX\n",
      "Ooops! Invalid checksum\n",
      "----------------------------------\n",
      "Parsing $IIVTG,054.7,T,034.4,M,005.5,N,010.2,K,A*XX\r\n",
      "\n",
      "Invalid Hex CS Key XX\n",
      "Ooops! Invalid checksum\n",
      "----------------------------------\n",
      "Parsing $GPRMC,183333.000,A,4047.7034,N,07247.9938,W,0.66,196.21,150912,,,A*7C\r\n",
      "\n",
      "Parsing RMC, 13 items\n",
      "Parsed Object: {'type': 'rmc', 'parsed': {'valid': 'true', 'position': {'latitude': 40.79505666666667, 'longitude': -72.12839}}}\n",
      "----------------------------------\n"
     ]
    }
   ],
   "source": [
    "\n",
    "# akeu = sex_to_dec(\"12\", \"34.XX\")\n",
    "\n",
    "for sentence in samples:\n",
    "    print(\"Parsing {}\".format(sentence))\n",
    "    try:\n",
    "        nmea_obj = NMEAParser.parse_nmea_sentence(sentence)\n",
    "        print('Parsed Object: {}'.format(nmea_obj))\n",
    "    except Exception as ex:\n",
    "        print(\"Ooops! {}\".format(ex))\n",
    "    print(\"----------------------------------\")\n"
   ]
  },
  {
   "cell_type": "code",
   "execution_count": null,
   "metadata": {},
   "outputs": [],
   "source": []
  }
 ],
 "metadata": {
  "kernelspec": {
   "display_name": "Python 3",
   "language": "python",
   "name": "python3"
  },
  "language_info": {
   "codemirror_mode": {
    "name": "ipython",
    "version": 3
   },
   "file_extension": ".py",
   "mimetype": "text/x-python",
   "name": "python",
   "nbconvert_exporter": "python",
   "pygments_lexer": "ipython3",
   "version": "3.7.0"
  }
 },
 "nbformat": 4,
 "nbformat_minor": 2
}
