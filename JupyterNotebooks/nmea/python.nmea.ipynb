{
 "cells": [
  {
   "cell_type": "markdown",
   "metadata": {},
   "source": [
    "# NMEA Parsing, in Python"
   ]
  },
  {
   "cell_type": "markdown",
   "metadata": {},
   "source": [
    "## Full Sample, RMC Parsing, from scratch. \n",
    "### Reading the serial port to displaying readable data"
   ]
  },
  {
   "cell_type": "markdown",
   "metadata": {},
   "source": [
    "#### Reading the Serial port\n",
    "Make sure you have `pyserial` installed\n",
    "```\n",
    "$ pip3 install pyserial\n",
    "```"
   ]
  },
  {
   "cell_type": "code",
   "execution_count": null,
   "metadata": {},
   "outputs": [],
   "source": [
    "import serial"
   ]
  },
  {
   "cell_type": "markdown",
   "metadata": {},
   "source": [
    "> *Important*: Modify the port name below, so it matches what the Jupyter server can see."
   ]
  },
  {
   "cell_type": "code",
   "execution_count": null,
   "metadata": {},
   "outputs": [],
   "source": [
    "port_name = \"/dev/tty.usbmodem14101\"\n",
    "# port_name = \"/dev/ttyS80\"\n",
    "baud_rate = 4800\n",
    "port = serial.Serial(port_name, baudrate=baud_rate, timeout=3.0)"
   ]
  },
  {
   "cell_type": "markdown",
   "metadata": {},
   "source": [
    "Let us try to read the serial port\n",
    "> Note: We limit the read to 200 characters"
   ]
  },
  {
   "cell_type": "code",
   "execution_count": null,
   "metadata": {},
   "outputs": [],
   "source": [
    "nb_read = 0\n",
    "while True:\n",
    "    try:\n",
    "        ch = port.read()\n",
    "        print(\"{:02x} \".format(ord(ch)), end='', flush=True)\n",
    "        nb_read += 1\n",
    "        if nb_read > 200:\n",
    "            break\n",
    "    except KeyboardInterrupt as ki:\n",
    "        break\n",
    "    except Exception as ex:\n",
    "        print(\"Argh! {}\".format(ex))\n",
    "\n",
    "print(\"\\n\\n\\t\\tDone reading, exiting.\")\n",
    "port.close()\n",
    "\n",
    "print(\"Bye.\")"
   ]
  },
  {
   "cell_type": "markdown",
   "metadata": {},
   "source": [
    "We can see that data are being read from the Serial port. Now let us try to make some sense out of them.\n",
    "\n",
    "We know that NMEA Sentences begin with a `$` sign, and end with `\\r\\n` (Carriage Return, New Line).\n",
    "Let us try to extract the NMEA Sentences from the continuous serial flow.\n",
    "We will stop when 20 sentences are read."
   ]
  },
  {
   "cell_type": "code",
   "execution_count": null,
   "metadata": {},
   "outputs": [],
   "source": [
    "port = serial.Serial(port_name, baudrate=baud_rate, timeout=3.0)\n",
    "previous_char = ''\n",
    "nb_sentences = 0\n",
    "rv = []\n",
    "#\n",
    "while True:\n",
    "    try:\n",
    "        ch = port.read()\n",
    "        if ord(ch) == ord('$'):\n",
    "            print(\"\\nNew sentence?\")\n",
    "        print(\"{:02x} \".format(ord(ch)), end='', flush=True)\n",
    "        rv.append(ch)\n",
    "        if ord(ch) == 0x0A and ord(previous_char) == 0x0D:\n",
    "            string = \"\".join(map(bytes.decode, rv))\n",
    "            print(\"\\nEnd of sentence {}\".format(string))\n",
    "            nb_sentences += 1\n",
    "            rv = []\n",
    "            if nb_sentences > 20:\n",
    "                break\n",
    "        previous_char = ch\n",
    "    except KeyboardInterrupt as ki:\n",
    "        break\n",
    "    except Exception as ex:\n",
    "            print(\"Argh! {}\".format(ex))\n",
    "            nb_sentence += 1  # Not to end up in infinite loop...\n",
    "            \n",
    "print(\"\\n\\n\\t\\tDone reading, exiting.\")\n",
    "port.close()\n",
    "\n",
    "print(\"Bye.\")"
   ]
  },
  {
   "cell_type": "markdown",
   "metadata": {},
   "source": [
    "So, now we can extract NMEA sentences from the Serial flow. Let's move on, and try to extract the data conveyed by those sentences.\n",
    "\n",
    "\n",
    "#### Validation. Example: RMC sentence\n",
    "Set the data string to validate"
   ]
  },
  {
   "cell_type": "code",
   "execution_count": null,
   "metadata": {},
   "outputs": [],
   "source": [
    "rmc_data = \"$GPRMC,183333.000,A,4047.7034,N,07247.9938,W,0.66,196.21,150912,,,A*7C\\r\\n\""
   ]
  },
  {
   "cell_type": "markdown",
   "metadata": {},
   "source": [
    "Will keep going as long as good"
   ]
  },
  {
   "cell_type": "code",
   "execution_count": null,
   "metadata": {},
   "outputs": [],
   "source": [
    "valid = True"
   ]
  },
  {
   "cell_type": "markdown",
   "metadata": {},
   "source": [
    "Validate start of the string"
   ]
  },
  {
   "cell_type": "code",
   "execution_count": null,
   "metadata": {},
   "outputs": [],
   "source": [
    "if rmc_data[0] != '$':\n",
    "    valid = False\n",
    "    print(\"String does not begin with '$', not valid\")\n",
    "else:\n",
    "    print(\"Start of String OK, moving on.\")"
   ]
  },
  {
   "cell_type": "markdown",
   "metadata": {},
   "source": [
    "Validate the end"
   ]
  },
  {
   "cell_type": "code",
   "execution_count": null,
   "metadata": {},
   "outputs": [],
   "source": [
    "if valid:\n",
    "    if rmc_data[-2:] != \"\\r\\n\":\n",
    "        valid = False\n",
    "        print(\"Bad string termination\")\n",
    "    else:\n",
    "        print(\"String termination OK, moving on.\")"
   ]
  },
  {
   "cell_type": "markdown",
   "metadata": {},
   "source": [
    "Now, the checksum"
   ]
  },
  {
   "cell_type": "code",
   "execution_count": null,
   "metadata": {},
   "outputs": [],
   "source": [
    "if valid:\n",
    "    string_to_validate = rmc_data[1:-5]\n",
    "    checksum = rmc_data[-4:-2]\n",
    "    print(\"Data to validate: {} against {}\".format(string_to_validate, checksum))"
   ]
  },
  {
   "cell_type": "code",
   "execution_count": null,
   "metadata": {},
   "outputs": [],
   "source": [
    "if valid:\n",
    "    cs = 0\n",
    "    char_array = list(string_to_validate)\n",
    "    for c in range(len(string_to_validate)):\n",
    "        cs = cs ^ ord(char_array[c])\n",
    "        print (\"Char {} (0x{:02x} 0b{}) -> CheckSum now 0x{:02x} 0b{}\".format(\n",
    "            char_array[c], \n",
    "            ord(char_array[c]), \n",
    "            str(bin(ord(char_array[c])))[2:].rjust(8, '0'), \n",
    "            cs,\n",
    "            str(bin(cs))[2:].rjust(8, '0')))\n",
    "    original_cs = int(checksum, 16)\n",
    "    if original_cs != cs:\n",
    "        valid = False\n",
    "        print(\"Invalid Checksum: Found {:02x}, expected {:02x}\".format(cs, original_cs))\n",
    "    else:\n",
    "        print(\"Checksum OK, moving on\")\n",
    "    "
   ]
  },
  {
   "cell_type": "markdown",
   "metadata": {},
   "source": [
    "### Validations OK\n",
    "Now splitting the data"
   ]
  },
  {
   "cell_type": "code",
   "execution_count": null,
   "metadata": {},
   "outputs": [],
   "source": [
    "if valid:\n",
    "    members = string_to_validate.split(',')\n",
    "    print(\"We have {} members:\".format(len(members)))\n",
    "    for item in members:\n",
    "        print(item if len(item) > 0 else '-')"
   ]
  },
  {
   "cell_type": "code",
   "execution_count": null,
   "metadata": {},
   "outputs": [],
   "source": [
    "if valid:\n",
    "    if len(members[0]) != 5:\n",
    "        print(\"Bad length for sentence prefix and ID\")\n",
    "    else:\n",
    "        device_prefix = members[0][0:2]\n",
    "        sentence_id = members[0][-3:]\n",
    "        print(\"Device Prefix is {}, Sentence ID is {}\".format(device_prefix, sentence_id))"
   ]
  },
  {
   "cell_type": "markdown",
   "metadata": {},
   "source": [
    "#### Quick utility: `Decimal to Sexagesimal` and vice-versa"
   ]
  },
  {
   "cell_type": "code",
   "execution_count": null,
   "metadata": {},
   "outputs": [],
   "source": [
    "import math\n",
    "\n",
    "NS = 0\n",
    "EW = 1\n",
    "\n",
    "def dec_to_sex(value, type):\n",
    "    abs_val = abs(value)  # (-value) if (value < 0) else value\n",
    "    int_value = math.floor(abs_val)\n",
    "    i = int(int_value)\n",
    "    dec = abs_val - int_value\n",
    "    dec *= 60\n",
    "    sign = \"N\"\n",
    "    if type == NS:\n",
    "        if value < 0:\n",
    "            sign = \"S\"\n",
    "    else:\n",
    "        if value < 0:\n",
    "            sign = \"W\"\n",
    "        else:\n",
    "            sign = \"E\"\n",
    "    formatted = \"{} {}\\272{:0.2f}'\".format(sign, i, dec)\n",
    "    return formatted\n",
    "\n",
    "\n",
    "def sex_to_dec(deg_str, min_str):\n",
    "    \"\"\"\n",
    "    Sexagesimal to decimal\n",
    "    :param deg_str: degrees value (as string containing an int) like '12'\n",
    "    :param min_str: minutes value (as a string containing a float) like '45.00'\n",
    "    :return: decimal value, like 12.75 here.\n",
    "    \"\"\"\n",
    "    try:\n",
    "        degrees = float(deg_str)\n",
    "        minutes = float(min_str)\n",
    "        minutes *= (10.0 / 6.0)\n",
    "        ret = degrees + minutes / 100.0\n",
    "        return ret\n",
    "    except ValueError:\n",
    "        raise Exception(\"Bad numbers [{}] [{}]\".format(deg_str, min_str))\n"
   ]
  },
  {
   "cell_type": "code",
   "execution_count": null,
   "metadata": {},
   "outputs": [],
   "source": [
    "sample_one = -122.5069175      \n",
    "sample_two = 37.748837\n",
    "print(\"{} becomes {}\".format(sample_one, dec_to_sex(sample_one, EW)))\n",
    "print(\"{} becomes {}\".format(sample_two, dec_to_sex(sample_two, NS)))"
   ]
  },
  {
   "cell_type": "code",
   "execution_count": null,
   "metadata": {},
   "outputs": [],
   "source": [
    "deg_1 = '122'\n",
    "min_1 = '30.42'\n",
    "print(\"{} becomes {}\".format(deg_1 + '\\272' + min_1 + \"'\", sex_to_dec(deg_1, min_1)))"
   ]
  },
  {
   "cell_type": "markdown",
   "metadata": {},
   "source": [
    "### Using the `nmea_parser.py`"
   ]
  },
  {
   "cell_type": "code",
   "execution_count": null,
   "metadata": {},
   "outputs": [],
   "source": [
    "import json\n",
    "import nmea_parser as NMEAParser"
   ]
  },
  {
   "cell_type": "code",
   "execution_count": null,
   "metadata": {},
   "outputs": [],
   "source": [
    "samples = [\n",
    "    \"$IIRMC,092551,A,1036.145,S,15621.845,W,04.8,317,,10,E,A*0D\\r\\n\",\n",
    "    \"$IIMWV,088,T,14.34,N,A*27\\r\\n\",\n",
    "    \"$IIVWR,148.,L,02.4,N,01.2,M,04.4,K*XX\\r\\n\",\n",
    "    \"$IIVTG,054.7,T,034.4,M,005.5,N,010.2,K,A*XX\\r\\n\",\n",
    "    \"$GPTXT,01,01,02,u-blox ag - www.u-blox.com*50\\r\\n\",\n",
    "    \"$GPRMC,183333.000,A,4047.7034,N,07247.9938,W,0.66,196.21,150912,,,A*7C\\r\\n\",\n",
    "    \"$IIGLL,3739.854,N,12222.812,W,014003,A,A*49\\r\\n\"\n",
    "]"
   ]
  },
  {
   "cell_type": "code",
   "execution_count": null,
   "metadata": {},
   "outputs": [],
   "source": [
    "for sentence in samples:\n",
    "    print(\"Parsing {}\".format(sentence))\n",
    "    try:\n",
    "        nmea_obj = NMEAParser.parse_nmea_sentence(sentence)\n",
    "        try:\n",
    "            print('Parsed Object: {}'.format(json.dumps(nmea_obj, indent=2)))\n",
    "        except TypeError as type_error:\n",
    "            print('TypeError: {}'.format(type_error))\n",
    "            print('Parsed Object (raw): {}'.format(nmea_obj))\n",
    "    except Exception as ex:\n",
    "        print(\"Ooops! {}, {}\".format(type(ex), ex))\n",
    "    print(\"----------------------------------\")\n"
   ]
  },
  {
   "cell_type": "code",
   "execution_count": null,
   "metadata": {},
   "outputs": [],
   "source": []
  }
 ],
 "metadata": {
  "kernelspec": {
   "display_name": "Python 3",
   "language": "python",
   "name": "python3"
  },
  "language_info": {
   "codemirror_mode": {
    "name": "ipython",
    "version": 3
   },
   "file_extension": ".py",
   "mimetype": "text/x-python",
   "name": "python",
   "nbconvert_exporter": "python",
   "pygments_lexer": "ipython3",
   "version": "3.7.0"
  }
 },
 "nbformat": 4,
 "nbformat_minor": 2
}
