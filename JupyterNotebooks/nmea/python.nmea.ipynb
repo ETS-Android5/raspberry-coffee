{
 "cells": [
  {
   "cell_type": "markdown",
   "metadata": {},
   "source": [
    "## NMEA Parsing, in Python"
   ]
  },
  {
   "cell_type": "code",
   "execution_count": 6,
   "metadata": {},
   "outputs": [],
   "source": [
    "import json\n",
    "import nmea_parser as NMEAParser"
   ]
  },
  {
   "cell_type": "code",
   "execution_count": 7,
   "metadata": {},
   "outputs": [],
   "source": [
    "samples = [\n",
    "    \"$IIRMC,092551,A,1036.145,S,15621.845,W,04.8,317,,10,E,A*0D\\r\\n\",\n",
    "    \"$IIMWV,088,T,14.34,N,A*27\\r\\n\",\n",
    "    \"$IIVWR,148.,L,02.4,N,01.2,M,04.4,K*XX\\r\\n\",\n",
    "    \"$IIVTG,054.7,T,034.4,M,005.5,N,010.2,K,A*XX\\r\\n\",\n",
    "    \"$GPTXT,01,01,02,u-blox ag - www.u-blox.com*50\\r\\n\",\n",
    "    \"$GPRMC,183333.000,A,4047.7034,N,07247.9938,W,0.66,196.21,150912,,,A*7C\\r\\n\"\n",
    "]"
   ]
  },
  {
   "cell_type": "code",
   "execution_count": 9,
   "metadata": {},
   "outputs": [
    {
     "name": "stdout",
     "output_type": "stream",
     "text": [
      "Parsing $IIRMC,092551,A,1036.145,S,15621.845,W,04.8,317,,10,E,A*0D\r\n",
      "\n",
      "Parsed Object: {\n",
      "  \"type\": \"rmc\",\n",
      "  \"parsed\": {\n",
      "    \"valid\": \"true\",\n",
      "    \"position\": {\n",
      "      \"latitude\": -10.602416666666667,\n",
      "      \"longitude\": -156.10241666666667\n",
      "    },\n",
      "    \"sog\": 4.8,\n",
      "    \"cog\": 317.0,\n",
      "    \"declination\": 10.0,\n",
      "    \"type\": \"autonomous\"\n",
      "  }\n",
      "}\n",
      "----------------------------------\n",
      "Parsing $IIMWV,088,T,14.34,N,A*27\r\n",
      "\n",
      "Ooops! <class 'nmea_parser.NoParserException'>, No parser exists (yet) for MWV\n",
      "----------------------------------\n",
      "Parsing $IIVWR,148.,L,02.4,N,01.2,M,04.4,K*XX\r\n",
      "\n",
      "Ooops! <class 'nmea_parser.InvalidChecksumException'>, Invalid checksum for $IIVWR,148.,L,02.4,N,01.2,M,04.4,K*XX\n",
      "----------------------------------\n",
      "Parsing $IIVTG,054.7,T,034.4,M,005.5,N,010.2,K,A*XX\r\n",
      "\n",
      "Ooops! <class 'nmea_parser.InvalidChecksumException'>, Invalid checksum for $IIVTG,054.7,T,034.4,M,005.5,N,010.2,K,A*XX\n",
      "----------------------------------\n",
      "Parsing $GPTXT,01,01,02,u-blox ag - www.u-blox.com*50\r\n",
      "\n",
      "Parsed Object: {\n",
      "  \"type\": \"txt\",\n",
      "  \"parsed\": {\n",
      "    \"content\": \"u-blox ag - www.u-blox.com\"\n",
      "  }\n",
      "}\n",
      "----------------------------------\n",
      "Parsing $GPRMC,183333.000,A,4047.7034,N,07247.9938,W,0.66,196.21,150912,,,A*7C\r\n",
      "\n",
      "TypeError: Object of type datetime is not JSON serializable\n",
      "Parsed Object (raw): {'type': 'rmc', 'parsed': {'valid': 'true', 'utc-date': datetime.datetime(2012, 9, 15, 18, 33, 33, tzinfo=datetime.timezone.utc), 'position': {'latitude': 40.79505666666667, 'longitude': -72.12839}, 'sog': 0.66, 'cog': 196.21, 'type': 'autonomous'}}\n",
      "----------------------------------\n"
     ]
    }
   ],
   "source": [
    "\n",
    "# akeu = sex_to_dec(\"12\", \"34.XX\")\n",
    "\n",
    "for sentence in samples:\n",
    "    print(\"Parsing {}\".format(sentence))\n",
    "    try:\n",
    "        nmea_obj = NMEAParser.parse_nmea_sentence(sentence)\n",
    "        try:\n",
    "            print('Parsed Object: {}'.format(json.dumps(nmea_obj, indent=2)))\n",
    "        except TypeError as type_error:\n",
    "            print('TypeError: {}'.format(type_error))\n",
    "            print('Parsed Object (raw): {}'.format(nmea_obj))\n",
    "    except Exception as ex:\n",
    "        print(\"Ooops! {}, {}\".format(type(ex), ex))\n",
    "    print(\"----------------------------------\")\n"
   ]
  },
  {
   "cell_type": "code",
   "execution_count": null,
   "metadata": {},
   "outputs": [],
   "source": []
  }
 ],
 "metadata": {
  "kernelspec": {
   "display_name": "Python 3",
   "language": "python",
   "name": "python3"
  },
  "language_info": {
   "codemirror_mode": {
    "name": "ipython",
    "version": 3
   },
   "file_extension": ".py",
   "mimetype": "text/x-python",
   "name": "python",
   "nbconvert_exporter": "python",
   "pygments_lexer": "ipython3",
   "version": "3.7.0"
  }
 },
 "nbformat": 4,
 "nbformat_minor": 2
}
