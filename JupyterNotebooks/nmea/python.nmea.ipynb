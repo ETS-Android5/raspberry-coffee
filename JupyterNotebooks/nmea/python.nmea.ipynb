{
 "cells": [
  {
   "cell_type": "markdown",
   "metadata": {},
   "source": [
    "## NMEA Parsing, in Python"
   ]
  },
  {
   "cell_type": "code",
   "execution_count": 1,
   "metadata": {},
   "outputs": [
    {
     "name": "stdout",
     "output_type": "stream",
     "text": [
      "---------------------\n",
      "nmea_parser NOT running as main, probably imported.\n",
      "---------------------\n"
     ]
    }
   ],
   "source": [
    "import json\n",
    "import nmea_parser as NMEAParser"
   ]
  },
  {
   "cell_type": "code",
   "execution_count": 4,
   "metadata": {},
   "outputs": [],
   "source": [
    "samples = [\n",
    "    \"$IIRMC,092551,A,1036.145,S,15621.845,W,04.8,317,,10,E,A*0D\\r\\n\",\n",
    "    \"$IIMWV,088,T,14.34,N,A*27\\r\\n\",\n",
    "    \"$IIVWR,148.,L,02.4,N,01.2,M,04.4,K*XX\\r\\n\",\n",
    "    \"$IIVTG,054.7,T,034.4,M,005.5,N,010.2,K,A*XX\\r\\n\",\n",
    "    \"$GPTXT,01,01,02,u-blox ag - www.u-blox.com*50\\r\\n\",\n",
    "    \"$GPRMC,183333.000,A,4047.7034,N,07247.9938,W,0.66,196.21,150912,,,A*7C\\r\\n\",\n",
    "    \"$IIGLL,3739.854,N,12222.812,W,014003,A,A*49\\r\\n\"\n",
    "]"
   ]
  },
  {
   "cell_type": "code",
   "execution_count": 5,
   "metadata": {},
   "outputs": [
    {
     "name": "stdout",
     "output_type": "stream",
     "text": [
      "Parsing $IIRMC,092551,A,1036.145,S,15621.845,W,04.8,317,,10,E,A*0D\r\n",
      "\n",
      "Parsed Object: {\n",
      "  \"type\": \"rmc\",\n",
      "  \"parsed\": {\n",
      "    \"valid\": \"true\",\n",
      "    \"position\": {\n",
      "      \"latitude\": -10.602416666666667,\n",
      "      \"longitude\": -156.36408333333333\n",
      "    },\n",
      "    \"sog\": 4.8,\n",
      "    \"cog\": 317.0,\n",
      "    \"declination\": 10.0,\n",
      "    \"type\": \"autonomous\"\n",
      "  }\n",
      "}\n",
      "----------------------------------\n",
      "Parsing $IIMWV,088,T,14.34,N,A*27\r\n",
      "\n",
      "Ooops! <class 'nmea_parser.NoParserException'>, No parser exists (yet) for MWV\n",
      "----------------------------------\n",
      "Parsing $IIVWR,148.,L,02.4,N,01.2,M,04.4,K*XX\r\n",
      "\n",
      "Ooops! <class 'nmea_parser.InvalidChecksumException'>, Invalid checksum for $IIVWR,148.,L,02.4,N,01.2,M,04.4,K*XX\n",
      "----------------------------------\n",
      "Parsing $IIVTG,054.7,T,034.4,M,005.5,N,010.2,K,A*XX\r\n",
      "\n",
      "Ooops! <class 'nmea_parser.InvalidChecksumException'>, Invalid checksum for $IIVTG,054.7,T,034.4,M,005.5,N,010.2,K,A*XX\n",
      "----------------------------------\n",
      "Parsing $GPTXT,01,01,02,u-blox ag - www.u-blox.com*50\r\n",
      "\n",
      "Parsed Object: {\n",
      "  \"type\": \"txt\",\n",
      "  \"parsed\": {\n",
      "    \"content\": \"u-blox ag - www.u-blox.com\"\n",
      "  }\n",
      "}\n",
      "----------------------------------\n",
      "Parsing $GPRMC,183333.000,A,4047.7034,N,07247.9938,W,0.66,196.21,150912,,,A*7C\r\n",
      "\n",
      "TypeError: Object of type datetime is not JSON serializable\n",
      "Parsed Object (raw): {'type': 'rmc', 'parsed': {'valid': 'true', 'utc-date': datetime.datetime(2012, 9, 15, 18, 33, 33, tzinfo=datetime.timezone.utc), 'utc-date-itemized': {'year': 2012, 'month': 9, 'day': 15, 'hours': 18, 'minutes': 33, 'seconds': 33}, 'position': {'latitude': 40.79505666666667, 'longitude': -72.79989666666667}, 'sog': 0.66, 'cog': 196.21, 'type': 'autonomous'}}\n",
      "----------------------------------\n",
      "Parsing $IIGLL,3739.854,N,12222.812,W,014003,A,A*49\r\n",
      "\n",
      "TypeError: Object of type time is not JSON serializable\n",
      "Parsed Object (raw): {'type': 'gll', 'parsed': {'valid': 'true', 'position': {'latitude': 37.664233333333335, 'longitude': -122.3802}, 'utc-time': datetime.time(1, 40, 3, tzinfo=datetime.timezone.utc), 'gll-time-itemized': {'hours': 1, 'minutes': 40, 'seconds': 3}}}\n",
      "----------------------------------\n"
     ]
    }
   ],
   "source": [
    "\n",
    "# akeu = sex_to_dec(\"12\", \"34.XX\")\n",
    "\n",
    "for sentence in samples:\n",
    "    print(\"Parsing {}\".format(sentence))\n",
    "    try:\n",
    "        nmea_obj = NMEAParser.parse_nmea_sentence(sentence)\n",
    "        try:\n",
    "            print('Parsed Object: {}'.format(json.dumps(nmea_obj, indent=2)))\n",
    "        except TypeError as type_error:\n",
    "            print('TypeError: {}'.format(type_error))\n",
    "            print('Parsed Object (raw): {}'.format(nmea_obj))\n",
    "    except Exception as ex:\n",
    "        print(\"Ooops! {}, {}\".format(type(ex), ex))\n",
    "    print(\"----------------------------------\")\n"
   ]
  },
  {
   "cell_type": "markdown",
   "metadata": {},
   "source": [
    "## Full Sample, RMC Parsing"
   ]
  },
  {
   "cell_type": "code",
   "execution_count": 1,
   "metadata": {},
   "outputs": [],
   "source": [
    "rmc_data = \"$GPRMC,183333.000,A,4047.7034,N,07247.9938,W,0.66,196.21,150912,,,A*7C\\r\\n\""
   ]
  },
  {
   "cell_type": "markdown",
   "metadata": {},
   "source": [
    "### Validation"
   ]
  },
  {
   "cell_type": "code",
   "execution_count": 2,
   "metadata": {},
   "outputs": [],
   "source": [
    "valid = True"
   ]
  },
  {
   "cell_type": "code",
   "execution_count": 3,
   "metadata": {},
   "outputs": [
    {
     "name": "stdout",
     "output_type": "stream",
     "text": [
      "Start of String OK, moving on.\n"
     ]
    }
   ],
   "source": [
    "if rmc_data[0] != '$':\n",
    "    valid = False\n",
    "    print(\"String does not begin with '$', not valid\")\n",
    "else:\n",
    "    print(\"Start of String OK, moving on.\")"
   ]
  },
  {
   "cell_type": "code",
   "execution_count": 4,
   "metadata": {},
   "outputs": [
    {
     "name": "stdout",
     "output_type": "stream",
     "text": [
      "String termination OK, moving on.\n"
     ]
    }
   ],
   "source": [
    "if valid:\n",
    "    if rmc_data[-2:] != \"\\r\\n\":\n",
    "        valid = False\n",
    "        print(\"Bad string termination\")\n",
    "    else:\n",
    "        print(\"String termination OK, moving on.\")"
   ]
  },
  {
   "cell_type": "code",
   "execution_count": 5,
   "metadata": {},
   "outputs": [
    {
     "name": "stdout",
     "output_type": "stream",
     "text": [
      "Data to validate: GPRMC,183333.000,A,4047.7034,N,07247.9938,W,0.66,196.21,150912,,,A against 7C\n"
     ]
    }
   ],
   "source": [
    "if valid:\n",
    "    string_to_validate = rmc_data[1:-5]\n",
    "    checksum = rmc_data[-4:-2]\n",
    "    print(\"Data to validate: {} against {}\".format(string_to_validate, checksum))"
   ]
  },
  {
   "cell_type": "code",
   "execution_count": 6,
   "metadata": {},
   "outputs": [
    {
     "name": "stdout",
     "output_type": "stream",
     "text": [
      "Char G (0x47 0b01000111) -> CheckSum now 0x47 0b01000111\n",
      "Char P (0x50 0b01010000) -> CheckSum now 0x17 0b00010111\n",
      "Char R (0x52 0b01010010) -> CheckSum now 0x45 0b01000101\n",
      "Char M (0x4d 0b01001101) -> CheckSum now 0x08 0b00001000\n",
      "Char C (0x43 0b01000011) -> CheckSum now 0x4b 0b01001011\n",
      "Char , (0x2c 0b00101100) -> CheckSum now 0x67 0b01100111\n",
      "Char 1 (0x31 0b00110001) -> CheckSum now 0x56 0b01010110\n",
      "Char 8 (0x38 0b00111000) -> CheckSum now 0x6e 0b01101110\n",
      "Char 3 (0x33 0b00110011) -> CheckSum now 0x5d 0b01011101\n",
      "Char 3 (0x33 0b00110011) -> CheckSum now 0x6e 0b01101110\n",
      "Char 3 (0x33 0b00110011) -> CheckSum now 0x5d 0b01011101\n",
      "Char 3 (0x33 0b00110011) -> CheckSum now 0x6e 0b01101110\n",
      "Char . (0x2e 0b00101110) -> CheckSum now 0x40 0b01000000\n",
      "Char 0 (0x30 0b00110000) -> CheckSum now 0x70 0b01110000\n",
      "Char 0 (0x30 0b00110000) -> CheckSum now 0x40 0b01000000\n",
      "Char 0 (0x30 0b00110000) -> CheckSum now 0x70 0b01110000\n",
      "Char , (0x2c 0b00101100) -> CheckSum now 0x5c 0b01011100\n",
      "Char A (0x41 0b01000001) -> CheckSum now 0x1d 0b00011101\n",
      "Char , (0x2c 0b00101100) -> CheckSum now 0x31 0b00110001\n",
      "Char 4 (0x34 0b00110100) -> CheckSum now 0x05 0b00000101\n",
      "Char 0 (0x30 0b00110000) -> CheckSum now 0x35 0b00110101\n",
      "Char 4 (0x34 0b00110100) -> CheckSum now 0x01 0b00000001\n",
      "Char 7 (0x37 0b00110111) -> CheckSum now 0x36 0b00110110\n",
      "Char . (0x2e 0b00101110) -> CheckSum now 0x18 0b00011000\n",
      "Char 7 (0x37 0b00110111) -> CheckSum now 0x2f 0b00101111\n",
      "Char 0 (0x30 0b00110000) -> CheckSum now 0x1f 0b00011111\n",
      "Char 3 (0x33 0b00110011) -> CheckSum now 0x2c 0b00101100\n",
      "Char 4 (0x34 0b00110100) -> CheckSum now 0x18 0b00011000\n",
      "Char , (0x2c 0b00101100) -> CheckSum now 0x34 0b00110100\n",
      "Char N (0x4e 0b01001110) -> CheckSum now 0x7a 0b01111010\n",
      "Char , (0x2c 0b00101100) -> CheckSum now 0x56 0b01010110\n",
      "Char 0 (0x30 0b00110000) -> CheckSum now 0x66 0b01100110\n",
      "Char 7 (0x37 0b00110111) -> CheckSum now 0x51 0b01010001\n",
      "Char 2 (0x32 0b00110010) -> CheckSum now 0x63 0b01100011\n",
      "Char 4 (0x34 0b00110100) -> CheckSum now 0x57 0b01010111\n",
      "Char 7 (0x37 0b00110111) -> CheckSum now 0x60 0b01100000\n",
      "Char . (0x2e 0b00101110) -> CheckSum now 0x4e 0b01001110\n",
      "Char 9 (0x39 0b00111001) -> CheckSum now 0x77 0b01110111\n",
      "Char 9 (0x39 0b00111001) -> CheckSum now 0x4e 0b01001110\n",
      "Char 3 (0x33 0b00110011) -> CheckSum now 0x7d 0b01111101\n",
      "Char 8 (0x38 0b00111000) -> CheckSum now 0x45 0b01000101\n",
      "Char , (0x2c 0b00101100) -> CheckSum now 0x69 0b01101001\n",
      "Char W (0x57 0b01010111) -> CheckSum now 0x3e 0b00111110\n",
      "Char , (0x2c 0b00101100) -> CheckSum now 0x12 0b00010010\n",
      "Char 0 (0x30 0b00110000) -> CheckSum now 0x22 0b00100010\n",
      "Char . (0x2e 0b00101110) -> CheckSum now 0x0c 0b00001100\n",
      "Char 6 (0x36 0b00110110) -> CheckSum now 0x3a 0b00111010\n",
      "Char 6 (0x36 0b00110110) -> CheckSum now 0x0c 0b00001100\n",
      "Char , (0x2c 0b00101100) -> CheckSum now 0x20 0b00100000\n",
      "Char 1 (0x31 0b00110001) -> CheckSum now 0x11 0b00010001\n",
      "Char 9 (0x39 0b00111001) -> CheckSum now 0x28 0b00101000\n",
      "Char 6 (0x36 0b00110110) -> CheckSum now 0x1e 0b00011110\n",
      "Char . (0x2e 0b00101110) -> CheckSum now 0x30 0b00110000\n",
      "Char 2 (0x32 0b00110010) -> CheckSum now 0x02 0b00000010\n",
      "Char 1 (0x31 0b00110001) -> CheckSum now 0x33 0b00110011\n",
      "Char , (0x2c 0b00101100) -> CheckSum now 0x1f 0b00011111\n",
      "Char 1 (0x31 0b00110001) -> CheckSum now 0x2e 0b00101110\n",
      "Char 5 (0x35 0b00110101) -> CheckSum now 0x1b 0b00011011\n",
      "Char 0 (0x30 0b00110000) -> CheckSum now 0x2b 0b00101011\n",
      "Char 9 (0x39 0b00111001) -> CheckSum now 0x12 0b00010010\n",
      "Char 1 (0x31 0b00110001) -> CheckSum now 0x23 0b00100011\n",
      "Char 2 (0x32 0b00110010) -> CheckSum now 0x11 0b00010001\n",
      "Char , (0x2c 0b00101100) -> CheckSum now 0x3d 0b00111101\n",
      "Char , (0x2c 0b00101100) -> CheckSum now 0x11 0b00010001\n",
      "Char , (0x2c 0b00101100) -> CheckSum now 0x3d 0b00111101\n",
      "Char A (0x41 0b01000001) -> CheckSum now 0x7c 0b01111100\n",
      "Checksum OK, moving on\n"
     ]
    }
   ],
   "source": [
    "if valid:\n",
    "    cs = 0\n",
    "    char_array = list(string_to_validate)\n",
    "    for c in range(len(string_to_validate)):\n",
    "        cs = cs ^ ord(char_array[c])\n",
    "        print (\"Char {} (0x{:02x} 0b{}) -> CheckSum now 0x{:02x} 0b{}\".format(\n",
    "            char_array[c], \n",
    "            ord(char_array[c]), \n",
    "            str(bin(ord(char_array[c])))[2:].rjust(8, '0'), \n",
    "            cs,\n",
    "            str(bin(cs))[2:].rjust(8, '0')))\n",
    "    original_cs = int(checksum, 16)\n",
    "    if original_cs != cs:\n",
    "        valid = False\n",
    "        print(\"Invalid Checksum: Found {:02x}, expected {:02x}\".format(cs, original_cs))\n",
    "    else:\n",
    "        print(\"Checksum OK, moving on\")\n",
    "    "
   ]
  },
  {
   "cell_type": "markdown",
   "metadata": {},
   "source": [
    "### Validations OK\n",
    "Now splitting the data"
   ]
  },
  {
   "cell_type": "code",
   "execution_count": 7,
   "metadata": {},
   "outputs": [
    {
     "name": "stdout",
     "output_type": "stream",
     "text": [
      "We have 13 members:\n",
      "GPRMC\n",
      "183333.000\n",
      "A\n",
      "4047.7034\n",
      "N\n",
      "07247.9938\n",
      "W\n",
      "0.66\n",
      "196.21\n",
      "150912\n",
      "\n",
      "\n",
      "A\n"
     ]
    }
   ],
   "source": [
    "members = string_to_validate.split(',')\n",
    "print(\"We have {} members:\".format(len(members)))\n",
    "for item in members:\n",
    "    print(item)"
   ]
  },
  {
   "cell_type": "code",
   "execution_count": 8,
   "metadata": {},
   "outputs": [
    {
     "name": "stdout",
     "output_type": "stream",
     "text": [
      "Device Prefix is GP, Sentence ID is RMC\n"
     ]
    }
   ],
   "source": [
    "if len(members[0]) != 5:\n",
    "    print(\"Bad length for sentence prefix and ID\")\n",
    "else:\n",
    "    device_prefix = members[0][0:2]\n",
    "    sentence_id = members[0][-3:]\n",
    "    print(\"Device Prefix is {}, Sentence ID is {}\".format(device_prefix, sentence_id))"
   ]
  },
  {
   "cell_type": "code",
   "execution_count": null,
   "metadata": {},
   "outputs": [],
   "source": []
  }
 ],
 "metadata": {
  "kernelspec": {
   "display_name": "Python 3",
   "language": "python",
   "name": "python3"
  },
  "language_info": {
   "codemirror_mode": {
    "name": "ipython",
    "version": 3
   },
   "file_extension": ".py",
   "mimetype": "text/x-python",
   "name": "python",
   "nbconvert_exporter": "python",
   "pygments_lexer": "ipython3",
   "version": "3.7.0"
  }
 },
 "nbformat": 4,
 "nbformat_minor": 2
}
