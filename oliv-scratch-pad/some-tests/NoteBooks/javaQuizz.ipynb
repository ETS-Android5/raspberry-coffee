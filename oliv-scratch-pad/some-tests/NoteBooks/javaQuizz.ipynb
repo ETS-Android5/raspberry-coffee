{
 "cells": [
  {
   "cell_type": "markdown",
   "metadata": {},
   "source": [
    "# Java Quizz!\n",
    "\n",
    "#### Lists and Streams"
   ]
  },
  {
   "cell_type": "code",
   "execution_count": 7,
   "metadata": {},
   "outputs": [],
   "source": [
    "import java.text.NumberFormat;\n",
    "import java.util.stream.Collectors;\n",
    "import java.util.stream.DoubleStream;"
   ]
  },
  {
   "cell_type": "code",
   "execution_count": 8,
   "metadata": {},
   "outputs": [],
   "source": [
    "// Used later\n",
    "public static class Point {\n",
    "  double x;\n",
    "  double y;\n",
    "\n",
    "  public Point() {}\n",
    "  public Point(double x, double y) {\n",
    "     this.x = x;\n",
    "     this.y = y;\n",
    "  }\n",
    "\n",
    "  public Point x(double x) {\n",
    "     this.x = x;\n",
    "     return this;\n",
    "  }\n",
    "  public Point y(double y) {\n",
    "     this.y = y;\n",
    "     return this;\n",
    "  }\n",
    "\n",
    "  public double getX() {\n",
    "     return this.x;\n",
    "  }\n",
    "  public double getY() {\n",
    "     return this.y;\n",
    "  }\n",
    "}"
   ]
  },
  {
   "cell_type": "code",
   "execution_count": 9,
   "metadata": {},
   "outputs": [],
   "source": [
    "private final static int WIDTH = 100;\n",
    "private final static int HEIGHT = 100;\n",
    "private final static int CARDINALITY = 10_000;"
   ]
  },
  {
   "cell_type": "markdown",
   "metadata": {},
   "source": [
    "## First, we populate a List with random values"
   ]
  },
  {
   "cell_type": "code",
   "execution_count": 10,
   "metadata": {},
   "outputs": [],
   "source": [
    "List<Point> pointList = new ArrayList<>();\n",
    "\n",
    "while (pointList.size() < CARDINALITY) {\n",
    "    pointList.add(new Point(\n",
    "       (WIDTH * Math.random()) - (WIDTH / 2),\n",
    "       (HEIGHT * Math.random()) - (HEIGHT / 2)));\n",
    "}"
   ]
  },
  {
   "cell_type": "markdown",
   "metadata": {},
   "source": [
    "### Quizz: How to get the min and max values, for both X and Y ?"
   ]
  },
  {
   "cell_type": "code",
   "execution_count": 11,
   "metadata": {},
   "outputs": [
    {
     "name": "stdout",
     "output_type": "stream",
     "text": [
      "On 10,000 points:\n",
      "MinX: -49.999380, MaxX: 49.996524, MinY: -49.996918, MaxY: 49.994055\n"
     ]
    },
    {
     "data": {
      "text/plain": [
       "java.io.PrintStream@6c8e5cbe"
      ]
     },
     "execution_count": 11,
     "metadata": {},
     "output_type": "execute_result"
    }
   ],
   "source": [
    "double minX = pointList.stream()\n",
    "      .min(Comparator.comparing(Point::getX)) // Compare on that method's output (getX). Could be anything.\n",
    "      .get()\n",
    "      .getX();\n",
    "double maxX = pointList.stream()\n",
    "      .max(Comparator.comparing(Point::getX))\n",
    "      .get()\n",
    "      .getX();\n",
    "double minY = pointList.stream()\n",
    "      .min(Comparator.comparing(Point::getY))\n",
    "      .get()\n",
    "      .getY();\n",
    "double maxY = pointList.stream()\n",
    "      .max(Comparator.comparing(Point::getY))\n",
    "      .get()\n",
    "      .getY();\n",
    "System.out.format(\"On %s points:%n\", NumberFormat.getInstance().format(pointList.size()));\n",
    "System.out.format(\"MinX: %f, MaxX: %f, MinY: %f, MaxY: %f%n\", minX, maxX, minY, maxY);\n"
   ]
  },
  {
   "cell_type": "markdown",
   "metadata": {},
   "source": [
    "### Quizz: How would you calculate the position of the AVERAGE point?"
   ]
  },
  {
   "cell_type": "code",
   "execution_count": 13,
   "metadata": {},
   "outputs": [
    {
     "name": "stdout",
     "output_type": "stream",
     "text": [
      "AvgX: -0.040856, AvgY: -0.027029\n"
     ]
    },
    {
     "data": {
      "text/plain": [
       "java.io.PrintStream@6c8e5cbe"
      ]
     },
     "execution_count": 13,
     "metadata": {},
     "output_type": "execute_result"
    }
   ],
   "source": [
    "List<Double> xList = pointList.stream().mapToDouble(Point::getX).boxed().collect(Collectors.toList());\n",
    "List<Double> yList = pointList.stream().mapToDouble(Point::getY).boxed().collect(Collectors.toList());\n",
    "\n",
    "double averageX = pointList.stream()\n",
    "        .mapToDouble(Point::getX)\n",
    "        .average()\n",
    "        .getAsDouble();\n",
    "double averageY = pointList.stream()\n",
    "        .mapToDouble(Point::getY)\n",
    "        .average()\n",
    "        .getAsDouble();\n",
    "\n",
    "System.out.format(\"AvgX: %f, AvgY: %f%n\", averageX, averageY);\n"
   ]
  },
  {
   "cell_type": "markdown",
   "metadata": {},
   "source": [
    "### Quizz: How would you calculate the Standard Deviation?\n",
    "See what this Standard Deviation is, in case you forgot : <https://www.mathsisfun.com/data/standard-deviation.html>"
   ]
  },
  {
   "cell_type": "code",
   "execution_count": 14,
   "metadata": {},
   "outputs": [],
   "source": [
    "private static double stdDev(List<Double> list) {\n",
    "   double mean = list.stream().mapToDouble(x -> x).average().getAsDouble();\n",
    "   double variance = list.stream().mapToDouble(x -> Math.pow(x - mean, 2)).sum() / list.size();\n",
    "   double stdDev = Math.sqrt(variance);\n",
    "   return stdDev;\n",
    "}"
   ]
  },
  {
   "cell_type": "code",
   "execution_count": 15,
   "metadata": {},
   "outputs": [
    {
     "name": "stdout",
     "output_type": "stream",
     "text": [
      "Std Dev X: 28.864251, Std Dev Y: 29.004120\n"
     ]
    },
    {
     "data": {
      "text/plain": [
       "java.io.PrintStream@6c8e5cbe"
      ]
     },
     "execution_count": 15,
     "metadata": {},
     "output_type": "execute_result"
    }
   ],
   "source": [
    "List<Double> xList = pointList.stream().mapToDouble(Point::getX).boxed().collect(Collectors.toList());\n",
    "List<Double> yList = pointList.stream().mapToDouble(Point::getY).boxed().collect(Collectors.toList());\n",
    "\n",
    "double stdDevX = stdDev(xList);\n",
    "double stdDevY = stdDev(yList);\n",
    "System.out.format(\"Std Dev X: %f, Std Dev Y: %f%n\", stdDevX, stdDevY);"
   ]
  },
  {
   "cell_type": "markdown",
   "metadata": {},
   "source": [
    "### Quizz: Sort on X the points where X is positive, and print the first 100 values of X, in _ONE_ line of code."
   ]
  },
  {
   "cell_type": "code",
   "execution_count": 16,
   "metadata": {},
   "outputs": [
    {
     "name": "stdout",
     "output_type": "stream",
     "text": [
      "0.0014630410753895262\n",
      "0.012794767479242353\n",
      "0.014837047986958396\n",
      "0.03329087473866821\n",
      "0.049975853975922746\n",
      "0.06719639989968584\n",
      "0.07223560354783132\n",
      "0.07262568311819706\n",
      "0.08477528325939687\n",
      "0.09752249202763608\n",
      "0.1041117901717925\n",
      "0.14015038486620313\n",
      "0.1435426462651037\n",
      "0.1549516090974521\n",
      "0.17117421472131156\n",
      "0.1718125763076941\n",
      "0.192293525065665\n",
      "0.19921339998778365\n",
      "0.265040956799524\n",
      "0.26609012419769584\n",
      "0.2690353701000916\n",
      "0.2728031265240034\n",
      "0.2736910801157464\n",
      "0.28937108809200396\n",
      "0.29655528822259924\n",
      "0.31403089959187724\n",
      "0.33330357257479193\n",
      "0.35192066823567103\n",
      "0.35750823145033195\n",
      "0.3585890488906571\n",
      "0.36182650558112783\n",
      "0.370816365577042\n",
      "0.3849030056569305\n",
      "0.3903678179101391\n",
      "0.39669991334111643\n",
      "0.39776465373483205\n",
      "0.40014786178460326\n",
      "0.4012103423720461\n",
      "0.40335008603865674\n",
      "0.4199763128344358\n",
      "0.42538463677698246\n",
      "0.4366304801472012\n",
      "0.44975429023933344\n",
      "0.45499928888021657\n",
      "0.47330536396038525\n",
      "0.5007710081199832\n",
      "0.5114566293677782\n",
      "0.5202419795228863\n",
      "0.5231706853782399\n",
      "0.5293295054766816\n",
      "0.5505923133548478\n",
      "0.5516962004392525\n",
      "0.5523377033824914\n",
      "0.5525551146381389\n",
      "0.5625539891222644\n",
      "0.5628276244690653\n",
      "0.5649040427806327\n",
      "0.567503810897918\n",
      "0.5704793619546109\n",
      "0.5796068170511717\n",
      "0.5816557937373474\n",
      "0.5879611401672449\n",
      "0.5940712287992866\n",
      "0.600987412787731\n",
      "0.6117891918874463\n",
      "0.6174674284097108\n",
      "0.6206821995704956\n",
      "0.6214865806844969\n",
      "0.6258243856992678\n",
      "0.631925137377209\n",
      "0.6358369777855657\n",
      "0.6572191053445735\n",
      "0.6658138358113703\n",
      "0.6673562756951981\n",
      "0.6743674438193921\n",
      "0.6770922115818792\n",
      "0.6818137525988348\n",
      "0.6904611637958311\n",
      "0.6908944561892838\n",
      "0.6995879847440989\n",
      "0.7120701911484204\n",
      "0.7241553657838296\n",
      "0.7310372732073276\n",
      "0.7354424869963481\n",
      "0.7699991038244818\n",
      "0.7712239391870739\n",
      "0.8088755661793883\n",
      "0.8159009840123446\n",
      "0.8273504206609772\n",
      "0.8293112435581165\n",
      "0.850854451132534\n",
      "0.8646223838344653\n",
      "0.8664518200486313\n",
      "0.8854606676215511\n",
      "0.8904476645125925\n",
      "0.910924619796269\n",
      "0.9118740269191008\n",
      "0.9143424655488985\n",
      "0.9151521156239824\n",
      "0.915739691246543\n"
     ]
    }
   ],
   "source": [
    "pointList.stream()\n",
    "      .filter(pt -> pt.getX() > 0)\n",
    "      .mapToDouble(Point::getX)\n",
    "      .sorted()\n",
    "      .limit(100)\n",
    "      .forEach(System.out::println);"
   ]
  },
  {
   "cell_type": "markdown",
   "metadata": {},
   "source": [
    "Done with Lists!"
   ]
  },
  {
   "cell_type": "code",
   "execution_count": null,
   "metadata": {},
   "outputs": [],
   "source": []
  }
 ],
 "metadata": {
  "kernelspec": {
   "display_name": "Java",
   "language": "java",
   "name": "java"
  },
  "language_info": {
   "codemirror_mode": "java",
   "file_extension": ".jshell",
   "mimetype": "text/x-java-source",
   "name": "Java",
   "pygments_lexer": "java",
   "version": "11.0.8+10-LTS"
  }
 },
 "nbformat": 4,
 "nbformat_minor": 4
}
